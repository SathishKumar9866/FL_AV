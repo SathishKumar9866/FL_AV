{
 "cells": [
  {
   "cell_type": "code",
   "execution_count": 2,
   "metadata": {},
   "outputs": [],
   "source": [
    "import torch\n",
    "import torchvision.transforms as transforms\n",
    "import flwr as fl\n",
    "import logging\n",
    "from model.yolov5.utils import augmentations, loss\n",
    "from load_data import load_data\n",
    "from collections import OrderedDict\n",
    "from typing import Dict, List, Optional, Tuple\n",
    "\n",
    "import numpy as np\n",
    "import torch\n",
    "import torch.nn as nn\n",
    "import torch.nn.functional as F\n",
    "import torchvision.transforms as transforms\n",
    "\n",
    "import yaml\n",
    "from torch.utils.data import DataLoader, random_split\n",
    "from torchvision.datasets import CIFAR10\n"
   ]
  },
  {
   "cell_type": "code",
   "execution_count": 3,
   "metadata": {},
   "outputs": [
    {
     "name": "stderr",
     "output_type": "stream",
     "text": [
      "Install Weights & Biases for experiment logging via 'pip install wandb' (recommended)\n",
      "Install Weights & Biases for experiment logging via 'pip install wandb' (recommended)\n"
     ]
    }
   ],
   "source": [
    "from model.init_yolo import init_yolo\n",
    "from types import SimpleNamespace"
   ]
  },
  {
   "cell_type": "code",
   "execution_count": 4,
   "metadata": {},
   "outputs": [
    {
     "name": "stdout",
     "output_type": "stream",
     "text": [
      "{'yaml_config_file': 'config/fedml_config_yolov5.yaml', 'using_mlops': False, 'yaml_paths': ['config/'], 'training_type': 'cross_silo', 'random_seed': 0, 'scenario': 'horizontal', 'config_version': 'release', 'name': 'exp', 'project': 'runs/train', 'exist_ok': True, 'bootstrap': 'config/bootstrap.sh', 'dataset': 'coco', 'partition_method': 'homo', 'partition_alpha': 0.5, 'data_conf': '/home/siu856522160/major/test/object_detection/model/yolov5/data/coco128.yaml', 'img_size': [640, 640], 'model': 'yolov5', 'class_num': 80, 'yolo_cfg': '/home/siu856522160/major/test/object_detection/model/yolov5/models/yolov5s.yaml', 'yolo_hyp': '/home/siu856522160/major/test/object_detection/config/hyps/hyp.scratch.yaml', 'weights': 'none', 'single_cls': False, 'conf_thres': 0.001, 'iou_thres': 0.6, 'yolo_verbose': False, 'federated_optimizer': 'FedAvg', 'client_num_in_total': 3, 'client_num_per_round': 1, 'comm_round': 20, 'epochs': 5, 'batch_size': 1, 'client_optimizer': 'adam', 'lr': 0.01, 'weight_decay': 0.001, 'checkpoint_interval': 5, 'server_checkpoint_interval': 5, 'frequency_of_the_test': 5, 'worker_num': 2, 'using_gpu': True, 'log_file_dir': '/home/siu856522160/.fedml/fedml-server/fedml/logs', 'enable_wandb': False, 'wandb_key': '', 'wandb_project': 'fedml', 'wandb_name': 'fedml_torch_object_detection', 'n_proc_in_silo': 1, 'proc_rank_in_silo': 0, 'comm': 'None', 'enable_cuda_rpc': False, 'cpu_transfer': False, 'process_id': 0, 'sys_perf_profiling': True, 'current_running_dir': '/home/siu856522160/.fedml/fedml-client', 'os_name': 'Linux', 'version': 'release', 'cloud_region': '', 'total_batch_size': 1, 'last': 'major/test/object_detection/runs/train/exp/weights/last.pt', 'best': 'major/test/object_detection/runs/train/exp/weights/best.pt', 'results_file': 'major/test/object_detection/runs/train/exp/results.txt', 'nc': 80, 'model_stride': [8, 16, 32], 'hyp': {'lr0': 0.01, 'lrf': 0.2, 'momentum': 0.937, 'weight_decay': 0.0005, 'warmup_epochs': 3.0, 'warmup_momentum': 0.8, 'warmup_bias_lr': 0.1, 'box': 0.05, 'cls': 0.5, 'cls_pw': 1.0, 'obj': 1.0, 'obj_pw': 1.0, 'iou_t': 0.2, 'anchor_t': 4.0, 'fl_gamma': 0.0, 'hsv_h': 0.015, 'hsv_s': 0.7, 'hsv_v': 0.4, 'degrees': 0.0, 'translate': 0.1, 'scale': 0.5, 'shear': 0.0, 'perspective': 0.0, 'flipud': 0.0, 'fliplr': ''}}\n"
     ]
    }
   ],
   "source": [
    "def fit_config( yaml_path):\n",
    "    \"\"\"\n",
    "    def fit_config(server_uri, client_id, yaml_path):\n",
    "    Provides fit configuration for the client.\n",
    "    Args:\n",
    "        server_uri: The URI of the Flower server.\n",
    "        client_id: The ID of the client.\n",
    "        yaml_path: Path to the YAML configuration file.\n",
    "\n",
    "    Returns:\n",
    "        dict: A dictionary containing fit configuration.\n",
    "    \"\"\"\n",
    "    # Load YAML configuration\n",
    "    with open(yaml_path, 'r') as f:\n",
    "        config = yaml.safe_load(f)\n",
    "\n",
    "    # Update config with additional parameters or overrides (optional)\n",
    "    return config\n",
    "\n",
    "print(fit_config(r\"/home/siu856522160/major/test/object_detection/config/config_yolov5.yaml\"))\n",
    "args = fit_config(r\"/home/siu856522160/major/test/object_detection/config/config_yolov5.yaml\")\n",
    "args = SimpleNamespace(**args)"
   ]
  },
  {
   "cell_type": "code",
   "execution_count": 5,
   "metadata": {},
   "outputs": [],
   "source": [
    "def get_parameters(net) -> List[np.ndarray]:\n",
    "    return [val.cpu().numpy() for _, val in net.state_dict().items()]"
   ]
  },
  {
   "cell_type": "code",
   "execution_count": 6,
   "metadata": {},
   "outputs": [],
   "source": [
    "def set_parameters(net, parameters: List[np.ndarray]):\n",
    "    params_dict = zip(net.state_dict().keys(), parameters)\n",
    "    state_dict = OrderedDict({k: torch.Tensor(v) for k, v in params_dict})\n",
    "    net.load_state_dict(state_dict, strict=True)"
   ]
  },
  {
   "cell_type": "code",
   "execution_count": 7,
   "metadata": {},
   "outputs": [
    {
     "name": "stdout",
     "output_type": "stream",
     "text": [
      "yaml_config_file: config/fedml_config_yolov5.yaml\n",
      "using_mlops: False\n",
      "yaml_paths: ['config/']\n",
      "training_type: cross_silo\n",
      "random_seed: 0\n",
      "scenario: horizontal\n",
      "config_version: release\n",
      "name: exp\n",
      "project: runs/train\n",
      "exist_ok: True\n",
      "bootstrap: config/bootstrap.sh\n",
      "dataset: coco\n",
      "partition_method: homo\n",
      "partition_alpha: 0.5\n",
      "data_conf: /home/siu856522160/major/test/object_detection/model/yolov5/data/coco128.yaml\n",
      "img_size: [640, 640]\n",
      "model: yolov5\n",
      "class_num: 80\n",
      "yolo_cfg: /home/siu856522160/major/test/object_detection/model/yolov5/models/yolov5s.yaml\n",
      "yolo_hyp: /home/siu856522160/major/test/object_detection/config/hyps/hyp.scratch.yaml\n",
      "weights: none\n",
      "single_cls: False\n",
      "conf_thres: 0.001\n",
      "iou_thres: 0.6\n",
      "yolo_verbose: False\n",
      "federated_optimizer: FedAvg\n",
      "client_num_in_total: 3\n",
      "client_num_per_round: 1\n",
      "comm_round: 20\n",
      "epochs: 5\n",
      "batch_size: 1\n",
      "client_optimizer: adam\n",
      "lr: 0.01\n",
      "weight_decay: 0.001\n",
      "checkpoint_interval: 5\n",
      "server_checkpoint_interval: 5\n",
      "frequency_of_the_test: 5\n",
      "worker_num: 2\n",
      "using_gpu: True\n",
      "log_file_dir: /home/siu856522160/.fedml/fedml-server/fedml/logs\n",
      "enable_wandb: False\n",
      "wandb_key: \n",
      "wandb_project: fedml\n",
      "wandb_name: fedml_torch_object_detection\n",
      "n_proc_in_silo: 1\n",
      "proc_rank_in_silo: 0\n",
      "comm: None\n",
      "enable_cuda_rpc: False\n",
      "cpu_transfer: False\n",
      "process_id: 0\n",
      "sys_perf_profiling: True\n",
      "current_running_dir: /home/siu856522160/.fedml/fedml-client\n",
      "os_name: Linux\n",
      "version: release\n",
      "cloud_region: \n",
      "total_batch_size: 1\n",
      "last: major/test/object_detection/runs/train/exp/weights/last.pt\n",
      "best: major/test/object_detection/runs/train/exp/weights/best.pt\n",
      "results_file: major/test/object_detection/runs/train/exp/results.txt\n",
      "nc: 80\n",
      "model_stride: [8, 16, 32]\n",
      "hyp: {'lr0': 0.01, 'lrf': 0.2, 'momentum': 0.937, 'weight_decay': 0.0005, 'warmup_epochs': 3.0, 'warmup_momentum': 0.8, 'warmup_bias_lr': 0.1, 'box': 0.05, 'cls': 0.5, 'cls_pw': 1.0, 'obj': 1.0, 'obj_pw': 1.0, 'iou_t': 0.2, 'anchor_t': 4.0, 'fl_gamma': 0.0, 'hsv_h': 0.015, 'hsv_s': 0.7, 'hsv_v': 0.4, 'degrees': 0.0, 'translate': 0.1, 'scale': 0.5, 'shear': 0.0, 'perspective': 0.0, 'flipud': 0.0, 'fliplr': ''}\n"
     ]
    }
   ],
   "source": [
    "# Print key-value pairs\n",
    "for key, value in vars(args).items():\n",
    "    print(f\"{key}: {value}\")"
   ]
  },
  {
   "cell_type": "code",
   "execution_count": 8,
   "metadata": {},
   "outputs": [],
   "source": [
    "# DEVICE = torch.device(\"cuda:0\" if torch.cuda.is_available() else \"cpu\")\n",
    "# model, dataset, trainer, args = init_yolo(args=args, device=DEVICE)"
   ]
  },
  {
   "cell_type": "code",
   "execution_count": 9,
   "metadata": {},
   "outputs": [],
   "source": [
    "# DEVICE = torch.device(\"cuda:0\" if torch.cuda.is_available() else \"cpu\")\n",
    "# model, dataset, trainer, args = init_yolo(args=args, device=DEVICE)\n",
    "# class YOLOFlowerClient(fl.client.NumPyClient):\n",
    "#     def __init__(self, cid, net, trainloader, valloader):\n",
    "#         self.cid = cid\n",
    "#         self.net = net\n",
    "#         self.trainloader = trainloader\n",
    "#         self.valloader = valloader\n",
    "\n",
    "#     def get_parameters(self, config):\n",
    "#         print(f\"[Client {self.cid}] get_parameters\")\n",
    "#         return get_parameters(self.net)\n",
    "\n",
    "#     def fit(self, parameters, config):\n",
    "#         print(f\"[Client {self.cid}] fit, config: {config}\")\n",
    "#         set_parameters(self.net, parameters)\n",
    "#         trainer.train(dataset, DEVICE, args)  \n",
    "#         # train(self.net, self.trainloader, epochs=1)\n",
    "#         return get_parameters(self.net), len(self.trainloader), {}\n",
    "\n",
    "#     def evaluate(self, parameters, config):\n",
    "#         print(f\"[Client {self.cid}] evaluate, config: {config}\")\n",
    "#         set_parameters(self.net, parameters)\n",
    "\n",
    "#         trainer.val(model, dataset, DEVICE, args)\n",
    "\n"
   ]
  },
  {
   "cell_type": "code",
   "execution_count": 10,
   "metadata": {},
   "outputs": [],
   "source": [
    "# class YOLOFlowerClient(fl.client.NumPyClient):\n",
    "#     def __init__(self, cid, net, trainloader, valloader):\n",
    "#         super().__init__()  # Call parent class constructor for NumPyClient\n",
    "#         self.cid = cid\n",
    "#         self.net = net.to(DEVICE)  # Move model to device immediately\n",
    "#         self.trainloader = trainloader\n",
    "#         self.valloader = valloader\n",
    "\n",
    "#     def get_parameters(self, config):\n",
    "#         print(f\"[Client {self.cid}] get_parameters\")\n",
    "#         return self.net.state_dict()  # Use model's state_dict for efficiency\n",
    "\n",
    "#     def fit(self, parameters, config):\n",
    "#         print(f\"[Client {self.cid}] fit, config: {config}\")\n",
    "#         self.net.load_state_dict(parameters)  # Load parameters for efficiency\n",
    "#         model.train()  # Set model to training mode\n",
    "#         with torch.no_grad():  # Faster execution for validation\n",
    "#             model.val()   # Set model to validation mode\n",
    "#             self.net(next(iter(self.trainloader))[0].to(DEVICE))  # Forward pass for model loading\n",
    "#         model.train()  # Restore training mode for FL training\n",
    "#         return self.net.state_dict(), len(self.trainloader), {}\n",
    "\n",
    "#     def evaluate(self, parameters, config):\n",
    "#         print(f\"[Client {self.cid}] evaluate, config: {config}\")\n",
    "#         self.net.load_state_dict(parameters)\n",
    "#         with torch.no_grad():\n",
    "#             self.net.eval()  # Set model to evaluation mode\n",
    "#             model(next(iter(self.valloader))[0].to(DEVICE))  # Forward pass for evaluation\n",
    "\n"
   ]
  },
  {
   "cell_type": "code",
   "execution_count": 11,
   "metadata": {},
   "outputs": [],
   "source": [
    "# def numpyclient_fn(cid) -> FlowerNumPyClient:\n",
    "#     net = Net().to(DEVICE)\n",
    "#     trainloader = trainloaders[int(cid)]\n",
    "#     valloader = valloaders[int(cid)]\n",
    "#     return FlowerNumPyClient(cid, net, trainloader, valloader)\n"
   ]
  },
  {
   "cell_type": "code",
   "execution_count": 12,
   "metadata": {},
   "outputs": [],
   "source": [
    "# def fit(config, client_id):\n",
    "#     \"\"\"Trains the YOLOv5 model on the client's data.\"\"\"\n",
    "\n",
    "#     # Load data\n",
    "#     images, labels = load_data(client_id)\n",
    "\n",
    "#     # Load or create YOLOv5 model\n",
    "#     model = YOLOv5s(**config[\"model_params\"])\n",
    "#     model.to(device=\"cpu\")  # Ensure model is on CPU for client training\n",
    "\n",
    "#     # Define optimizer and loss function\n",
    "#     optimizer = torch.optim.SGD(model.parameters(), lr=config[\"lr\"])\n",
    "#     loss_fn = loss.ComputeLoss(**config[\"loss_params\"])\n",
    "\n",
    "#     # Set up logging\n",
    "#     logger = logging.getLogger(\"client_\" + str(client_id))\n",
    "\n",
    "#     # Training loop\n",
    "#     for epoch in range(config[\"epochs\"]):\n",
    "#         for image, label in zip(images, labels):\n",
    "#             # Augment image (optional, adjust based on your needs)\n",
    "#             image, label = augmentations.augment_hsv(image, label)\n",
    "#             image, label = augmentations.letterbox(image, label, 640, auto=True, scaleup=True)\n",
    "\n",
    "#             # Convert to PyTorch tensors\n",
    "#             image = torch.from_numpy(image).float() / 255.0\n",
    "#             image = image.permute(2, 0, 1).unsqueeze(0)  # Add batch dimension\n",
    "#             label = torch.from_numpy(label)\n",
    "\n",
    "#             # Forward pass & calculate loss\n",
    "#             with torch.no_grad():\n",
    "#                 preds = model(image)\n",
    "#             loss = loss_fn(preds, label)\n",
    "\n",
    "#             # Backpropagation & update weights\n",
    "#             optimizer.zero_grad()\n",
    "#             loss.backward()\n",
    "#             optimizer.step()\n",
    "\n",
    "#             # Log training progress\n",
    "#             logger.info(f\"Epoch {epoch+1}/{config['epochs']}, Loss: {loss.item()}\")\n",
    "\n",
    "#     # Get updated model and metrics\n",
    "#     updated_model = model\n",
    "#     metrics = {\"loss\": loss.item()}  # Calculate other metrics as needed\n",
    "\n",
    "#     return updated_model, metrics\n",
    "\n",
    "\n"
   ]
  },
  {
   "cell_type": "code",
   "execution_count": 13,
   "metadata": {},
   "outputs": [
    {
     "name": "stdout",
     "output_type": "stream",
     "text": [
      "<class 'types.SimpleNamespace'>\n"
     ]
    },
    {
     "name": "stderr",
     "output_type": "stream",
     "text": [
      "add checkpoint interval\n",
      "add checkpoint interval\n",
      "Hyperparameters {'lr0': 0.01, 'lrf': 0.2, 'momentum': 0.937, 'weight_decay': 0.0005, 'warmup_epochs': 3.0, 'warmup_momentum': 0.8, 'warmup_bias_lr': 0.1, 'box': 0.05, 'cls': 0.5, 'cls_pw': 1.0, 'obj': 1.0, 'obj_pw': 1.0, 'iou_t': 0.2, 'anchor_t': 4.0, 'fl_gamma': 0.0, 'hsv_h': 0.015, 'hsv_s': 0.7, 'hsv_v': 0.4, 'degrees': 0.0, 'translate': 0.1, 'scale': 0.5, 'shear': 0.0, 'perspective': 0.0, 'flipud': 0.0, 'fliplr': 0.5, 'mosaic': 1.0, 'mixup': 0.0}\n",
      "Hyperparameters {'lr0': 0.01, 'lrf': 0.2, 'momentum': 0.937, 'weight_decay': 0.0005, 'warmup_epochs': 3.0, 'warmup_momentum': 0.8, 'warmup_bias_lr': 0.1, 'box': 0.05, 'cls': 0.5, 'cls_pw': 1.0, 'obj': 1.0, 'obj_pw': 1.0, 'iou_t': 0.2, 'anchor_t': 4.0, 'fl_gamma': 0.0, 'hsv_h': 0.015, 'hsv_s': 0.7, 'hsv_v': 0.4, 'degrees': 0.0, 'translate': 0.1, 'scale': 0.5, 'shear': 0.0, 'perspective': 0.0, 'flipud': 0.0, 'fliplr': 0.5, 'mosaic': 1.0, 'mixup': 0.0}\n",
      "add file handler\n",
      "add file handler\n",
      "\n",
      "                 from  n    params  module                                  arguments                     \n",
      "\n",
      "                 from  n    params  module                                  arguments                     \n",
      "  0                -1  1      3520  models.common.Conv                      [3, 32, 6, 2, 2]              \n",
      "  0                -1  1      3520  models.common.Conv                      [3, 32, 6, 2, 2]              \n",
      "  1                -1  1     18560  models.common.Conv                      [32, 64, 3, 2]                \n",
      "  1                -1  1     18560  models.common.Conv                      [32, 64, 3, 2]                \n",
      "  2                -1  1     18816  models.common.C3                        [64, 64, 1]                   \n",
      "  2                -1  1     18816  models.common.C3                        [64, 64, 1]                   \n",
      "  3                -1  1     73984  models.common.Conv                      [64, 128, 3, 2]               \n",
      "  3                -1  1     73984  models.common.Conv                      [64, 128, 3, 2]               \n"
     ]
    },
    {
     "name": "stderr",
     "output_type": "stream",
     "text": [
      "  4                -1  2    115712  models.common.C3                        [128, 128, 2]                 \n",
      "  4                -1  2    115712  models.common.C3                        [128, 128, 2]                 \n",
      "  5                -1  1    295424  models.common.Conv                      [128, 256, 3, 2]              \n",
      "  5                -1  1    295424  models.common.Conv                      [128, 256, 3, 2]              \n",
      "  6                -1  3    625152  models.common.C3                        [256, 256, 3]                 \n",
      "  6                -1  3    625152  models.common.C3                        [256, 256, 3]                 \n",
      "  7                -1  1   1180672  models.common.Conv                      [256, 512, 3, 2]              \n",
      "  7                -1  1   1180672  models.common.Conv                      [256, 512, 3, 2]              \n",
      "  8                -1  1   1182720  models.common.C3                        [512, 512, 1]                 \n",
      "  8                -1  1   1182720  models.common.C3                        [512, 512, 1]                 \n",
      "  9                -1  1    656896  models.common.SPPF                      [512, 512, 5]                 \n",
      "  9                -1  1    656896  models.common.SPPF                      [512, 512, 5]                 \n",
      " 10                -1  1    131584  models.common.Conv                      [512, 256, 1, 1]              \n",
      " 10                -1  1    131584  models.common.Conv                      [512, 256, 1, 1]              \n",
      " 11                -1  1         0  torch.nn.modules.upsampling.Upsample    [None, 2, 'nearest']          \n",
      " 11                -1  1         0  torch.nn.modules.upsampling.Upsample    [None, 2, 'nearest']          \n",
      " 12           [-1, 6]  1         0  models.common.Concat                    [1]                           \n",
      " 12           [-1, 6]  1         0  models.common.Concat                    [1]                           \n",
      " 13                -1  1    361984  models.common.C3                        [512, 256, 1, False]          \n",
      " 13                -1  1    361984  models.common.C3                        [512, 256, 1, False]          \n",
      " 14                -1  1     33024  models.common.Conv                      [256, 128, 1, 1]              \n",
      " 14                -1  1     33024  models.common.Conv                      [256, 128, 1, 1]              \n",
      " 15                -1  1         0  torch.nn.modules.upsampling.Upsample    [None, 2, 'nearest']          \n",
      " 15                -1  1         0  torch.nn.modules.upsampling.Upsample    [None, 2, 'nearest']          \n",
      " 16           [-1, 4]  1         0  models.common.Concat                    [1]                           \n",
      " 16           [-1, 4]  1         0  models.common.Concat                    [1]                           \n",
      " 17                -1  1     90880  models.common.C3                        [256, 128, 1, False]          \n",
      " 17                -1  1     90880  models.common.C3                        [256, 128, 1, False]          \n",
      " 18                -1  1    147712  models.common.Conv                      [128, 128, 3, 2]              \n",
      " 18                -1  1    147712  models.common.Conv                      [128, 128, 3, 2]              \n",
      " 19          [-1, 14]  1         0  models.common.Concat                    [1]                           \n",
      " 19          [-1, 14]  1         0  models.common.Concat                    [1]                           \n",
      " 20                -1  1    296448  models.common.C3                        [256, 256, 1, False]          \n",
      " 20                -1  1    296448  models.common.C3                        [256, 256, 1, False]          \n",
      " 21                -1  1    590336  models.common.Conv                      [256, 256, 3, 2]              \n",
      " 21                -1  1    590336  models.common.Conv                      [256, 256, 3, 2]              \n",
      " 22          [-1, 10]  1         0  models.common.Concat                    [1]                           \n",
      " 22          [-1, 10]  1         0  models.common.Concat                    [1]                           \n",
      " 23                -1  1   1182720  models.common.C3                        [512, 512, 1, False]          \n",
      " 23                -1  1   1182720  models.common.C3                        [512, 512, 1, False]          \n",
      " 24      [17, 20, 23]  1    229245  model.yolov5.models.yolo.Detect         [80, [[10, 13, 16, 30, 33, 23], [30, 61, 62, 45, 59, 119], [116, 90, 156, 198, 373, 326]], [128, 256, 512]]\n",
      " 24      [17, 20, 23]  1    229245  model.yolov5.models.yolo.Detect         [80, [[10, 13, 16, 30, 33, 23], [30, 61, 62, 45, 59, 119], [116, 90, 156, 198, 373, 326]], [128, 256, 512]]\n",
      "YOLOv5s summary: 270 layers, 7235389 parameters, 7235389 gradients\n",
      "YOLOv5s summary: 270 layers, 7235389 parameters, 7235389 gradients\n",
      "\n",
      "\n"
     ]
    },
    {
     "name": "stdout",
     "output_type": "stream",
     "text": [
      "\n",
      "/home/siu856522160/major/test/object_detection/model/yolov5/datasets/coco128/images/train2017\n",
      "/home/siu856522160/major/test/object_detection/model/yolov5/datasets/coco128/images/train2017\n",
      "/home/siu856522160/major/test/object_detection/model/yolov5/datasets/coco128/images/train2017\n"
     ]
    },
    {
     "name": "stderr",
     "output_type": "stream",
     "text": [
      "Scanning '/home/siu856522160/major/test/object_detection/model/yolov5/datasets/coco128/labels/train2017' images and labels...126 found, 2 missing, 0 empty, 0 corrupt: 100%|██████████| 128/128 [00:00<00:00, 12296.91it/s]\n",
      "New cache created: /home/siu856522160/major/test/object_detection/model/yolov5/datasets/coco128/labels/train2017.cache\n",
      "New cache created: /home/siu856522160/major/test/object_detection/model/yolov5/datasets/coco128/labels/train2017.cache\n",
      "Scanning '/home/siu856522160/major/test/object_detection/model/yolov5/datasets/coco128/labels/train2017' images and labels...126 found, 2 missing, 0 empty, 0 corrupt: 100%|██████████| 128/128 [00:00<00:00, 11484.12it/s]\n",
      "New cache created: /home/siu856522160/major/test/object_detection/model/yolov5/datasets/coco128/labels/train2017.cache\n",
      "New cache created: /home/siu856522160/major/test/object_detection/model/yolov5/datasets/coco128/labels/train2017.cache\n"
     ]
    },
    {
     "name": "stdout",
     "output_type": "stream",
     "text": [
      "/home/siu856522160/major/test/object_detection/model/yolov5/datasets/coco128/images/train2017\n"
     ]
    },
    {
     "name": "stderr",
     "output_type": "stream",
     "text": [
      "Scanning '/home/siu856522160/major/test/object_detection/model/yolov5/datasets/coco128/labels/train2017' images and labels...126 found, 2 missing, 0 empty, 0 corrupt: 100%|██████████| 128/128 [00:00<00:00, 12250.89it/s]\n",
      "New cache created: /home/siu856522160/major/test/object_detection/model/yolov5/datasets/coco128/labels/train2017.cache\n",
      "New cache created: /home/siu856522160/major/test/object_detection/model/yolov5/datasets/coco128/labels/train2017.cache\n"
     ]
    },
    {
     "name": "stdout",
     "output_type": "stream",
     "text": [
      "/home/siu856522160/major/test/object_detection/model/yolov5/datasets/coco128 None\n",
      "/home/siu856522160/major/test/object_detection/model/yolov5/datasets/coco128/images/train2017\n"
     ]
    },
    {
     "name": "stderr",
     "output_type": "stream",
     "text": [
      "Scanning '/home/siu856522160/major/test/object_detection/model/yolov5/datasets/coco128/labels/train2017' images and labels...126 found, 2 missing, 0 empty, 0 corrupt: 100%|██████████| 128/128 [00:00<00:00, 11997.92it/s]\n",
      "New cache created: /home/siu856522160/major/test/object_detection/model/yolov5/datasets/coco128/labels/train2017.cache\n",
      "New cache created: /home/siu856522160/major/test/object_detection/model/yolov5/datasets/coco128/labels/train2017.cache\n"
     ]
    }
   ],
   "source": [
    "DEVICE = torch.device(\"cuda:0\" if torch.cuda.is_available() else \"cpu\")\n",
    "model, dataset, dataset_train, dataset_val, trainer, args = init_yolo(args=args, device=DEVICE)"
   ]
  },
  {
   "cell_type": "code",
   "execution_count": 14,
   "metadata": {},
   "outputs": [
    {
     "name": "stdout",
     "output_type": "stream",
     "text": [
      "dataset: (128, 128, <model.yolov5.utils.dataloaders.InfiniteDataLoader object at 0x7fac984eeb00>, <model.yolov5.utils.dataloaders.InfiniteDataLoader object at 0x7fab903b7220>, {}, {}, {}, 80)\n",
      "dataset: (128, <model.yolov5.utils.dataloaders.InfiniteDataLoader object at 0x7fab905cca90>, (80, ['person', 'bicycle', 'car', 'motorcycle', 'airplane', 'bus', 'train', 'truck', 'boat', 'traffic light', 'fire hydrant', 'stop sign', 'parking meter', 'bench', 'bird', 'cat', 'dog', 'horse', 'sheep', 'cow', 'elephant', 'bear', 'zebra', 'giraffe', 'backpack', 'umbrella', 'handbag', 'tie', 'suitcase', 'frisbee', 'skis', 'snowboard', 'sports ball', 'kite', 'baseball bat', 'baseball glove', 'skateboard', 'surfboard', 'tennis racket', 'bottle', 'wine glass', 'cup', 'fork', 'knife', 'spoon', 'bowl', 'banana', 'apple', 'sandwich', 'orange', 'broccoli', 'carrot', 'hot dog', 'pizza', 'donut', 'cake', 'chair', 'couch', 'potted plant', 'bed', 'dining table', 'toilet', 'tv', 'laptop', 'mouse', 'remote', 'keyboard', 'cell phone', 'microwave', 'oven', 'toaster', 'sink', 'refrigerator', 'book', 'clock', 'vase', 'scissors', 'teddy bear', 'hair drier', 'toothbrush']))\n",
      "dataset: (128, <model.yolov5.utils.dataloaders.InfiniteDataLoader object at 0x7fab903b69b0>, 80)\n",
      "trainer: <trainer.yolov5_trainer.YOLOv5Trainer object at 0x7fab903a8190>\n",
      "args: namespace(yaml_config_file='config/fedml_config_yolov5.yaml', using_mlops=False, yaml_paths=['config/'], training_type='cross_silo', random_seed=0, scenario='horizontal', config_version='release', name='exp', project='runs/train', exist_ok=True, bootstrap='config/bootstrap.sh', dataset='coco', partition_method='homo', partition_alpha=0.5, data_conf='/home/siu856522160/major/test/object_detection/model/yolov5/data/coco128.yaml', img_size=[640, 640], model='yolov5', class_num=80, yolo_cfg='/home/siu856522160/major/test/object_detection/model/yolov5/models/yolov5s.yaml', yolo_hyp='/home/siu856522160/major/test/object_detection/config/hyps/hyp.scratch.yaml', weights='none', single_cls=False, conf_thres=0.001, iou_thres=0.6, yolo_verbose=False, federated_optimizer='FedAvg', client_num_in_total=3, client_num_per_round=1, comm_round=20, epochs=5, batch_size=1, client_optimizer='adam', lr=0.01, weight_decay=0.001, checkpoint_interval=5, server_checkpoint_interval=5, frequency_of_the_test=5, worker_num=2, using_gpu=True, log_file_dir='/home/siu856522160/.fedml/fedml-server/fedml/logs', enable_wandb=False, wandb_key='', wandb_project='fedml', wandb_name='fedml_torch_object_detection', n_proc_in_silo=1, proc_rank_in_silo=0, comm='None', enable_cuda_rpc=False, cpu_transfer=False, process_id=0, sys_perf_profiling=True, current_running_dir='/home/siu856522160/.fedml/fedml-client', os_name='Linux', version='release', cloud_region='', total_batch_size=1, last=PosixPath('runs/train/exp/weights/last.pt'), best=PosixPath('runs/train/exp/weights/best.pt'), results_file=PosixPath('runs/train/exp/results.txt'), nc=80, model_stride=tensor([ 8., 16., 32.]), hyp={'lr0': 0.01, 'lrf': 0.2, 'momentum': 0.937, 'weight_decay': 0.0005, 'warmup_epochs': 3.0, 'warmup_momentum': 0.8, 'warmup_bias_lr': 0.1, 'box': 0.05, 'cls': 0.5, 'cls_pw': 1.0, 'obj': 1.0, 'obj_pw': 1.0, 'iou_t': 0.2, 'anchor_t': 4.0, 'fl_gamma': 0.0, 'hsv_h': 0.015, 'hsv_s': 0.7, 'hsv_v': 0.4, 'degrees': 0.0, 'translate': 0.1, 'scale': 0.5, 'shear': 0.0, 'perspective': 0.0, 'flipud': 0.0, 'fliplr': 0.5, 'mosaic': 1.0, 'mixup': 0.0}, save_dir=PosixPath('runs/train/exp'), wandb=None)\n"
     ]
    }
   ],
   "source": [
    "# print(f\"model: {model}\")\n",
    "print(f\"dataset: {dataset}\")\n",
    "print(f\"dataset: {dataset_train}\")\n",
    "print(f\"dataset: {dataset_val}\")\n",
    "print(f\"trainer: {trainer}\")\n",
    "print(f\"args: {args}\")"
   ]
  },
  {
   "cell_type": "code",
   "execution_count": 15,
   "metadata": {},
   "outputs": [
    {
     "name": "stderr",
     "output_type": "stream",
     "text": [
      "INFO flwr 2024-02-26 13:40:53,646 | app.py:163 | Starting Flower server, config: ServerConfig(num_rounds=3, round_timeout=None)\n",
      "Starting Flower server, config: ServerConfig(num_rounds=3, round_timeout=None)\n",
      "Starting Flower server, config: ServerConfig(num_rounds=3, round_timeout=None)\n",
      "INFO flwr 2024-02-26 13:40:53,651 | app.py:176 | Flower ECE: gRPC server running (3 rounds), SSL is disabled\n",
      "Flower ECE: gRPC server running (3 rounds), SSL is disabled\n",
      "Flower ECE: gRPC server running (3 rounds), SSL is disabled\n",
      "INFO flwr 2024-02-26 13:40:53,658 | server.py:89 | Initializing global parameters\n",
      "Initializing global parameters\n",
      "Initializing global parameters\n",
      "INFO flwr 2024-02-26 13:40:53,659 | server.py:276 | Requesting initial parameters from one random client\n",
      "Requesting initial parameters from one random client\n",
      "Requesting initial parameters from one random client\n"
     ]
    },
    {
     "ename": "KeyboardInterrupt",
     "evalue": "",
     "output_type": "error",
     "traceback": [
      "\u001b[0;31m---------------------------------------------------------------------------\u001b[0m",
      "\u001b[0;31mKeyboardInterrupt\u001b[0m                         Traceback (most recent call last)",
      "Cell \u001b[0;32mIn[15], line 3\u001b[0m\n\u001b[1;32m      1\u001b[0m \u001b[38;5;28;01mimport\u001b[39;00m \u001b[38;5;21;01mflwr\u001b[39;00m \u001b[38;5;28;01mas\u001b[39;00m \u001b[38;5;21;01mfl\u001b[39;00m\n\u001b[0;32m----> 3\u001b[0m \u001b[43mfl\u001b[49m\u001b[38;5;241;43m.\u001b[39;49m\u001b[43mserver\u001b[49m\u001b[38;5;241;43m.\u001b[39;49m\u001b[43mstart_server\u001b[49m\u001b[43m(\u001b[49m\u001b[43mconfig\u001b[49m\u001b[38;5;241;43m=\u001b[39;49m\u001b[43mfl\u001b[49m\u001b[38;5;241;43m.\u001b[39;49m\u001b[43mserver\u001b[49m\u001b[38;5;241;43m.\u001b[39;49m\u001b[43mServerConfig\u001b[49m\u001b[43m(\u001b[49m\u001b[43mnum_rounds\u001b[49m\u001b[38;5;241;43m=\u001b[39;49m\u001b[38;5;241;43m3\u001b[39;49m\u001b[43m)\u001b[49m\u001b[43m)\u001b[49m\n",
      "File \u001b[0;32m~/anaconda3/envs/flower/lib/python3.10/site-packages/flwr/server/app.py:184\u001b[0m, in \u001b[0;36mstart_server\u001b[0;34m(server_address, server, config, strategy, client_manager, grpc_max_message_length, certificates)\u001b[0m\n\u001b[1;32m    176\u001b[0m log(\n\u001b[1;32m    177\u001b[0m     INFO,\n\u001b[1;32m    178\u001b[0m     \u001b[38;5;124m\"\u001b[39m\u001b[38;5;124mFlower ECE: gRPC server running (\u001b[39m\u001b[38;5;132;01m%s\u001b[39;00m\u001b[38;5;124m rounds), SSL is \u001b[39m\u001b[38;5;132;01m%s\u001b[39;00m\u001b[38;5;124m\"\u001b[39m,\n\u001b[1;32m    179\u001b[0m     initialized_config\u001b[38;5;241m.\u001b[39mnum_rounds,\n\u001b[1;32m    180\u001b[0m     \u001b[38;5;124m\"\u001b[39m\u001b[38;5;124menabled\u001b[39m\u001b[38;5;124m\"\u001b[39m \u001b[38;5;28;01mif\u001b[39;00m certificates \u001b[38;5;129;01mis\u001b[39;00m \u001b[38;5;129;01mnot\u001b[39;00m \u001b[38;5;28;01mNone\u001b[39;00m \u001b[38;5;28;01melse\u001b[39;00m \u001b[38;5;124m\"\u001b[39m\u001b[38;5;124mdisabled\u001b[39m\u001b[38;5;124m\"\u001b[39m,\n\u001b[1;32m    181\u001b[0m )\n\u001b[1;32m    183\u001b[0m \u001b[38;5;66;03m# Start training\u001b[39;00m\n\u001b[0;32m--> 184\u001b[0m hist \u001b[38;5;241m=\u001b[39m \u001b[43mrun_fl\u001b[49m\u001b[43m(\u001b[49m\n\u001b[1;32m    185\u001b[0m \u001b[43m    \u001b[49m\u001b[43mserver\u001b[49m\u001b[38;5;241;43m=\u001b[39;49m\u001b[43minitialized_server\u001b[49m\u001b[43m,\u001b[49m\n\u001b[1;32m    186\u001b[0m \u001b[43m    \u001b[49m\u001b[43mconfig\u001b[49m\u001b[38;5;241;43m=\u001b[39;49m\u001b[43minitialized_config\u001b[49m\u001b[43m,\u001b[49m\n\u001b[1;32m    187\u001b[0m \u001b[43m\u001b[49m\u001b[43m)\u001b[49m\n\u001b[1;32m    189\u001b[0m \u001b[38;5;66;03m# Stop the gRPC server\u001b[39;00m\n\u001b[1;32m    190\u001b[0m grpc_server\u001b[38;5;241m.\u001b[39mstop(grace\u001b[38;5;241m=\u001b[39m\u001b[38;5;241m1\u001b[39m)\n",
      "File \u001b[0;32m~/anaconda3/envs/flower/lib/python3.10/site-packages/flwr/server/app.py:225\u001b[0m, in \u001b[0;36mrun_fl\u001b[0;34m(server, config)\u001b[0m\n\u001b[1;32m    220\u001b[0m \u001b[38;5;28;01mdef\u001b[39;00m \u001b[38;5;21mrun_fl\u001b[39m(\n\u001b[1;32m    221\u001b[0m     server: Server,\n\u001b[1;32m    222\u001b[0m     config: ServerConfig,\n\u001b[1;32m    223\u001b[0m ) \u001b[38;5;241m-\u001b[39m\u001b[38;5;241m>\u001b[39m History:\n\u001b[1;32m    224\u001b[0m \u001b[38;5;250m    \u001b[39m\u001b[38;5;124;03m\"\"\"Train a model on the given server and return the History object.\"\"\"\u001b[39;00m\n\u001b[0;32m--> 225\u001b[0m     hist \u001b[38;5;241m=\u001b[39m \u001b[43mserver\u001b[49m\u001b[38;5;241;43m.\u001b[39;49m\u001b[43mfit\u001b[49m\u001b[43m(\u001b[49m\u001b[43mnum_rounds\u001b[49m\u001b[38;5;241;43m=\u001b[39;49m\u001b[43mconfig\u001b[49m\u001b[38;5;241;43m.\u001b[39;49m\u001b[43mnum_rounds\u001b[49m\u001b[43m,\u001b[49m\u001b[43m \u001b[49m\u001b[43mtimeout\u001b[49m\u001b[38;5;241;43m=\u001b[39;49m\u001b[43mconfig\u001b[49m\u001b[38;5;241;43m.\u001b[39;49m\u001b[43mround_timeout\u001b[49m\u001b[43m)\u001b[49m\n\u001b[1;32m    226\u001b[0m     log(INFO, \u001b[38;5;124m\"\u001b[39m\u001b[38;5;124mapp_fit: losses_distributed \u001b[39m\u001b[38;5;132;01m%s\u001b[39;00m\u001b[38;5;124m\"\u001b[39m, \u001b[38;5;28mstr\u001b[39m(hist\u001b[38;5;241m.\u001b[39mlosses_distributed))\n\u001b[1;32m    227\u001b[0m     log(INFO, \u001b[38;5;124m\"\u001b[39m\u001b[38;5;124mapp_fit: metrics_distributed_fit \u001b[39m\u001b[38;5;132;01m%s\u001b[39;00m\u001b[38;5;124m\"\u001b[39m, \u001b[38;5;28mstr\u001b[39m(hist\u001b[38;5;241m.\u001b[39mmetrics_distributed_fit))\n",
      "File \u001b[0;32m~/anaconda3/envs/flower/lib/python3.10/site-packages/flwr/server/server.py:90\u001b[0m, in \u001b[0;36mServer.fit\u001b[0;34m(self, num_rounds, timeout)\u001b[0m\n\u001b[1;32m     88\u001b[0m \u001b[38;5;66;03m# Initialize parameters\u001b[39;00m\n\u001b[1;32m     89\u001b[0m log(INFO, \u001b[38;5;124m\"\u001b[39m\u001b[38;5;124mInitializing global parameters\u001b[39m\u001b[38;5;124m\"\u001b[39m)\n\u001b[0;32m---> 90\u001b[0m \u001b[38;5;28mself\u001b[39m\u001b[38;5;241m.\u001b[39mparameters \u001b[38;5;241m=\u001b[39m \u001b[38;5;28;43mself\u001b[39;49m\u001b[38;5;241;43m.\u001b[39;49m\u001b[43m_get_initial_parameters\u001b[49m\u001b[43m(\u001b[49m\u001b[43mtimeout\u001b[49m\u001b[38;5;241;43m=\u001b[39;49m\u001b[43mtimeout\u001b[49m\u001b[43m)\u001b[49m\n\u001b[1;32m     91\u001b[0m log(INFO, \u001b[38;5;124m\"\u001b[39m\u001b[38;5;124mEvaluating initial parameters\u001b[39m\u001b[38;5;124m\"\u001b[39m)\n\u001b[1;32m     92\u001b[0m res \u001b[38;5;241m=\u001b[39m \u001b[38;5;28mself\u001b[39m\u001b[38;5;241m.\u001b[39mstrategy\u001b[38;5;241m.\u001b[39mevaluate(\u001b[38;5;241m0\u001b[39m, parameters\u001b[38;5;241m=\u001b[39m\u001b[38;5;28mself\u001b[39m\u001b[38;5;241m.\u001b[39mparameters)\n",
      "File \u001b[0;32m~/anaconda3/envs/flower/lib/python3.10/site-packages/flwr/server/server.py:277\u001b[0m, in \u001b[0;36mServer._get_initial_parameters\u001b[0;34m(self, timeout)\u001b[0m\n\u001b[1;32m    275\u001b[0m \u001b[38;5;66;03m# Get initial parameters from one of the clients\u001b[39;00m\n\u001b[1;32m    276\u001b[0m log(INFO, \u001b[38;5;124m\"\u001b[39m\u001b[38;5;124mRequesting initial parameters from one random client\u001b[39m\u001b[38;5;124m\"\u001b[39m)\n\u001b[0;32m--> 277\u001b[0m random_client \u001b[38;5;241m=\u001b[39m \u001b[38;5;28;43mself\u001b[39;49m\u001b[38;5;241;43m.\u001b[39;49m\u001b[43m_client_manager\u001b[49m\u001b[38;5;241;43m.\u001b[39;49m\u001b[43msample\u001b[49m\u001b[43m(\u001b[49m\u001b[38;5;241;43m1\u001b[39;49m\u001b[43m)\u001b[49m[\u001b[38;5;241m0\u001b[39m]\n\u001b[1;32m    278\u001b[0m ins \u001b[38;5;241m=\u001b[39m GetParametersIns(config\u001b[38;5;241m=\u001b[39m{})\n\u001b[1;32m    279\u001b[0m get_parameters_res \u001b[38;5;241m=\u001b[39m random_client\u001b[38;5;241m.\u001b[39mget_parameters(ins\u001b[38;5;241m=\u001b[39mins, timeout\u001b[38;5;241m=\u001b[39mtimeout)\n",
      "File \u001b[0;32m~/anaconda3/envs/flower/lib/python3.10/site-packages/flwr/server/client_manager.py:187\u001b[0m, in \u001b[0;36mSimpleClientManager.sample\u001b[0;34m(self, num_clients, min_num_clients, criterion)\u001b[0m\n\u001b[1;32m    185\u001b[0m \u001b[38;5;28;01mif\u001b[39;00m min_num_clients \u001b[38;5;129;01mis\u001b[39;00m \u001b[38;5;28;01mNone\u001b[39;00m:\n\u001b[1;32m    186\u001b[0m     min_num_clients \u001b[38;5;241m=\u001b[39m num_clients\n\u001b[0;32m--> 187\u001b[0m \u001b[38;5;28;43mself\u001b[39;49m\u001b[38;5;241;43m.\u001b[39;49m\u001b[43mwait_for\u001b[49m\u001b[43m(\u001b[49m\u001b[43mmin_num_clients\u001b[49m\u001b[43m)\u001b[49m\n\u001b[1;32m    188\u001b[0m \u001b[38;5;66;03m# Sample clients which meet the criterion\u001b[39;00m\n\u001b[1;32m    189\u001b[0m available_cids \u001b[38;5;241m=\u001b[39m \u001b[38;5;28mlist\u001b[39m(\u001b[38;5;28mself\u001b[39m\u001b[38;5;241m.\u001b[39mclients)\n",
      "File \u001b[0;32m~/anaconda3/envs/flower/lib/python3.10/site-packages/flwr/server/client_manager.py:132\u001b[0m, in \u001b[0;36mSimpleClientManager.wait_for\u001b[0;34m(self, num_clients, timeout)\u001b[0m\n\u001b[1;32m    115\u001b[0m \u001b[38;5;250m\u001b[39m\u001b[38;5;124;03m\"\"\"Wait until at least `num_clients` are available.\u001b[39;00m\n\u001b[1;32m    116\u001b[0m \n\u001b[1;32m    117\u001b[0m \u001b[38;5;124;03mBlocks until the requested number of clients is available or until a\u001b[39;00m\n\u001b[0;32m   (...)\u001b[0m\n\u001b[1;32m    129\u001b[0m \u001b[38;5;124;03msuccess : bool\u001b[39;00m\n\u001b[1;32m    130\u001b[0m \u001b[38;5;124;03m\"\"\"\u001b[39;00m\n\u001b[1;32m    131\u001b[0m \u001b[38;5;28;01mwith\u001b[39;00m \u001b[38;5;28mself\u001b[39m\u001b[38;5;241m.\u001b[39m_cv:\n\u001b[0;32m--> 132\u001b[0m     \u001b[38;5;28;01mreturn\u001b[39;00m \u001b[38;5;28;43mself\u001b[39;49m\u001b[38;5;241;43m.\u001b[39;49m\u001b[43m_cv\u001b[49m\u001b[38;5;241;43m.\u001b[39;49m\u001b[43mwait_for\u001b[49m\u001b[43m(\u001b[49m\n\u001b[1;32m    133\u001b[0m \u001b[43m        \u001b[49m\u001b[38;5;28;43;01mlambda\u001b[39;49;00m\u001b[43m:\u001b[49m\u001b[43m \u001b[49m\u001b[38;5;28;43mlen\u001b[39;49m\u001b[43m(\u001b[49m\u001b[38;5;28;43mself\u001b[39;49m\u001b[38;5;241;43m.\u001b[39;49m\u001b[43mclients\u001b[49m\u001b[43m)\u001b[49m\u001b[43m \u001b[49m\u001b[38;5;241;43m>\u001b[39;49m\u001b[38;5;241;43m=\u001b[39;49m\u001b[43m \u001b[49m\u001b[43mnum_clients\u001b[49m\u001b[43m,\u001b[49m\u001b[43m \u001b[49m\u001b[43mtimeout\u001b[49m\u001b[38;5;241;43m=\u001b[39;49m\u001b[43mtimeout\u001b[49m\n\u001b[1;32m    134\u001b[0m \u001b[43m    \u001b[49m\u001b[43m)\u001b[49m\n",
      "File \u001b[0;32m~/anaconda3/envs/flower/lib/python3.10/threading.py:355\u001b[0m, in \u001b[0;36mCondition.wait_for\u001b[0;34m(self, predicate, timeout)\u001b[0m\n\u001b[1;32m    353\u001b[0m             \u001b[38;5;28;01mif\u001b[39;00m waittime \u001b[38;5;241m<\u001b[39m\u001b[38;5;241m=\u001b[39m \u001b[38;5;241m0\u001b[39m:\n\u001b[1;32m    354\u001b[0m                 \u001b[38;5;28;01mbreak\u001b[39;00m\n\u001b[0;32m--> 355\u001b[0m     \u001b[38;5;28;43mself\u001b[39;49m\u001b[38;5;241;43m.\u001b[39;49m\u001b[43mwait\u001b[49m\u001b[43m(\u001b[49m\u001b[43mwaittime\u001b[49m\u001b[43m)\u001b[49m\n\u001b[1;32m    356\u001b[0m     result \u001b[38;5;241m=\u001b[39m predicate()\n\u001b[1;32m    357\u001b[0m \u001b[38;5;28;01mreturn\u001b[39;00m result\n",
      "File \u001b[0;32m~/anaconda3/envs/flower/lib/python3.10/threading.py:324\u001b[0m, in \u001b[0;36mCondition.wait\u001b[0;34m(self, timeout)\u001b[0m\n\u001b[1;32m    322\u001b[0m \u001b[38;5;28;01melse\u001b[39;00m:\n\u001b[1;32m    323\u001b[0m     \u001b[38;5;28;01mif\u001b[39;00m timeout \u001b[38;5;241m>\u001b[39m \u001b[38;5;241m0\u001b[39m:\n\u001b[0;32m--> 324\u001b[0m         gotit \u001b[38;5;241m=\u001b[39m \u001b[43mwaiter\u001b[49m\u001b[38;5;241;43m.\u001b[39;49m\u001b[43macquire\u001b[49m\u001b[43m(\u001b[49m\u001b[38;5;28;43;01mTrue\u001b[39;49;00m\u001b[43m,\u001b[49m\u001b[43m \u001b[49m\u001b[43mtimeout\u001b[49m\u001b[43m)\u001b[49m\n\u001b[1;32m    325\u001b[0m     \u001b[38;5;28;01melse\u001b[39;00m:\n\u001b[1;32m    326\u001b[0m         gotit \u001b[38;5;241m=\u001b[39m waiter\u001b[38;5;241m.\u001b[39macquire(\u001b[38;5;28;01mFalse\u001b[39;00m)\n",
      "\u001b[0;31mKeyboardInterrupt\u001b[0m: "
     ]
    }
   ],
   "source": [
    "# import flwr as fl\n",
    "\n",
    "# fl.server.start_server(config=fl.server.ServerConfig(num_rounds=3))"
   ]
  },
  {
   "cell_type": "code",
   "execution_count": 20,
   "metadata": {},
   "outputs": [
    {
     "name": "stderr",
     "output_type": "stream",
     "text": [
      "INFO flwr 2024-02-26 15:06:01,059 | grpc.py:52 | Opened insecure gRPC connection (no certificates were passed)\n",
      "Opened insecure gRPC connection (no certificates were passed)\n",
      "Opened insecure gRPC connection (no certificates were passed)\n",
      "DEBUG flwr 2024-02-26 15:06:01,066 | connection.py:55 | ChannelConnectivity.IDLE\n",
      "DEBUG flwr 2024-02-26 15:06:01,068 | connection.py:55 | ChannelConnectivity.READY\n"
     ]
    },
    {
     "name": "stderr",
     "output_type": "stream",
     "text": [
      "Exception iterating responses: \n",
      "Traceback (most recent call last):\n",
      "  File \"/home/siu856522160/anaconda3/envs/flower/lib/python3.10/site-packages/grpc/_server.py\", line 599, in _take_response_from_response_iterator\n",
      "    return next(response_iterator), True\n",
      "  File \"/home/siu856522160/anaconda3/envs/flower/lib/python3.10/site-packages/flwr/server/fleet/grpc_bidi/flower_service_servicer.py\", line 113, in Join\n",
      "    ins_wrapper: InsWrapper = next(ins_wrapper_iterator)\n",
      "  File \"/home/siu856522160/anaconda3/envs/flower/lib/python3.10/site-packages/flwr/server/fleet/grpc_bidi/grpc_bridge.py\", line 165, in ins_wrapper_iterator\n",
      "    self._raise_if_closed()\n",
      "  File \"/home/siu856522160/anaconda3/envs/flower/lib/python3.10/site-packages/flwr/server/fleet/grpc_bidi/grpc_bridge.py\", line 81, in _raise_if_closed\n",
      "    raise GrpcBridgeClosed()\n",
      "flwr.server.fleet.grpc_bidi.grpc_bridge.GrpcBridgeClosed\n",
      "Exception iterating responses: \n",
      "Traceback (most recent call last):\n",
      "  File \"/home/siu856522160/anaconda3/envs/flower/lib/python3.10/site-packages/grpc/_server.py\", line 599, in _take_response_from_response_iterator\n",
      "    return next(response_iterator), True\n",
      "  File \"/home/siu856522160/anaconda3/envs/flower/lib/python3.10/site-packages/flwr/server/fleet/grpc_bidi/flower_service_servicer.py\", line 113, in Join\n",
      "    ins_wrapper: InsWrapper = next(ins_wrapper_iterator)\n",
      "  File \"/home/siu856522160/anaconda3/envs/flower/lib/python3.10/site-packages/flwr/server/fleet/grpc_bidi/grpc_bridge.py\", line 165, in ins_wrapper_iterator\n",
      "    self._raise_if_closed()\n",
      "  File \"/home/siu856522160/anaconda3/envs/flower/lib/python3.10/site-packages/flwr/server/fleet/grpc_bidi/grpc_bridge.py\", line 81, in _raise_if_closed\n",
      "    raise GrpcBridgeClosed()\n",
      "flwr.server.fleet.grpc_bidi.grpc_bridge.GrpcBridgeClosed\n"
     ]
    },
    {
     "name": "stderr",
     "output_type": "stream",
     "text": [
      "DEBUG flwr 2024-02-26 15:06:19,676 | connection.py:220 | gRPC channel closed\n"
     ]
    },
    {
     "ename": "KeyboardInterrupt",
     "evalue": "",
     "output_type": "error",
     "traceback": [
      "\u001b[0;31m---------------------------------------------------------------------------\u001b[0m",
      "\u001b[0;31mKeyboardInterrupt\u001b[0m                         Traceback (most recent call last)",
      "Cell \u001b[0;32mIn[20], line 19\u001b[0m\n\u001b[1;32m     11\u001b[0m     fl\u001b[38;5;241m.\u001b[39mclient\u001b[38;5;241m.\u001b[39mstart_client(\n\u001b[1;32m     12\u001b[0m         server_address\u001b[38;5;241m=\u001b[39m\u001b[38;5;124m\"\u001b[39m\u001b[38;5;124m0.0.0.0:8080\u001b[39m\u001b[38;5;124m\"\u001b[39m,\n\u001b[1;32m     13\u001b[0m         \u001b[38;5;66;03m# config=fl.server.ServerConfig(num_rounds=3),\u001b[39;00m\n\u001b[1;32m     14\u001b[0m         client_fn\u001b[38;5;241m=\u001b[39m trainer\n\u001b[1;32m     15\u001b[0m         )\n\u001b[1;32m     18\u001b[0m \u001b[38;5;28;01mif\u001b[39;00m \u001b[38;5;18m__name__\u001b[39m \u001b[38;5;241m==\u001b[39m \u001b[38;5;124m\"\u001b[39m\u001b[38;5;124m__main__\u001b[39m\u001b[38;5;124m\"\u001b[39m:\n\u001b[0;32m---> 19\u001b[0m     \u001b[43mmain\u001b[49m\u001b[43m(\u001b[49m\u001b[43m)\u001b[49m\n",
      "Cell \u001b[0;32mIn[20], line 11\u001b[0m, in \u001b[0;36mmain\u001b[0;34m()\u001b[0m\n\u001b[1;32m      8\u001b[0m \u001b[38;5;28;01mdef\u001b[39;00m \u001b[38;5;21mmain\u001b[39m():\n\u001b[1;32m      9\u001b[0m \n\u001b[1;32m     10\u001b[0m     \u001b[38;5;66;03m# Start Flower server\u001b[39;00m\n\u001b[0;32m---> 11\u001b[0m     \u001b[43mfl\u001b[49m\u001b[38;5;241;43m.\u001b[39;49m\u001b[43mclient\u001b[49m\u001b[38;5;241;43m.\u001b[39;49m\u001b[43mstart_client\u001b[49m\u001b[43m(\u001b[49m\n\u001b[1;32m     12\u001b[0m \u001b[43m        \u001b[49m\u001b[43mserver_address\u001b[49m\u001b[38;5;241;43m=\u001b[39;49m\u001b[38;5;124;43m\"\u001b[39;49m\u001b[38;5;124;43m0.0.0.0:8080\u001b[39;49m\u001b[38;5;124;43m\"\u001b[39;49m\u001b[43m,\u001b[49m\n\u001b[1;32m     13\u001b[0m \u001b[43m        \u001b[49m\u001b[38;5;66;43;03m# config=fl.server.ServerConfig(num_rounds=3),\u001b[39;49;00m\n\u001b[1;32m     14\u001b[0m \u001b[43m        \u001b[49m\u001b[43mclient_fn\u001b[49m\u001b[38;5;241;43m=\u001b[39;49m\u001b[43m \u001b[49m\u001b[43mtrainer\u001b[49m\n\u001b[1;32m     15\u001b[0m \u001b[43m        \u001b[49m\u001b[43m)\u001b[49m\n",
      "File \u001b[0;32m~/anaconda3/envs/flower/lib/python3.10/site-packages/flwr/client/app.py:248\u001b[0m, in \u001b[0;36mstart_client\u001b[0;34m(server_address, client_fn, client, grpc_max_message_length, root_certificates, insecure, transport)\u001b[0m\n\u001b[1;32m    184\u001b[0m \u001b[38;5;250m\u001b[39m\u001b[38;5;124;03m\"\"\"Start a Flower client node which connects to a Flower server.\u001b[39;00m\n\u001b[1;32m    185\u001b[0m \n\u001b[1;32m    186\u001b[0m \u001b[38;5;124;03mParameters\u001b[39;00m\n\u001b[0;32m   (...)\u001b[0m\n\u001b[1;32m    245\u001b[0m \u001b[38;5;124;03m>>> )\u001b[39;00m\n\u001b[1;32m    246\u001b[0m \u001b[38;5;124;03m\"\"\"\u001b[39;00m\n\u001b[1;32m    247\u001b[0m event(EventType\u001b[38;5;241m.\u001b[39mSTART_CLIENT_ENTER)\n\u001b[0;32m--> 248\u001b[0m \u001b[43m_start_client_internal\u001b[49m\u001b[43m(\u001b[49m\n\u001b[1;32m    249\u001b[0m \u001b[43m    \u001b[49m\u001b[43mserver_address\u001b[49m\u001b[38;5;241;43m=\u001b[39;49m\u001b[43mserver_address\u001b[49m\u001b[43m,\u001b[49m\n\u001b[1;32m    250\u001b[0m \u001b[43m    \u001b[49m\u001b[43mload_flower_callable_fn\u001b[49m\u001b[38;5;241;43m=\u001b[39;49m\u001b[38;5;28;43;01mNone\u001b[39;49;00m\u001b[43m,\u001b[49m\n\u001b[1;32m    251\u001b[0m \u001b[43m    \u001b[49m\u001b[43mclient_fn\u001b[49m\u001b[38;5;241;43m=\u001b[39;49m\u001b[43mclient_fn\u001b[49m\u001b[43m,\u001b[49m\n\u001b[1;32m    252\u001b[0m \u001b[43m    \u001b[49m\u001b[43mclient\u001b[49m\u001b[38;5;241;43m=\u001b[39;49m\u001b[43mclient\u001b[49m\u001b[43m,\u001b[49m\n\u001b[1;32m    253\u001b[0m \u001b[43m    \u001b[49m\u001b[43mgrpc_max_message_length\u001b[49m\u001b[38;5;241;43m=\u001b[39;49m\u001b[43mgrpc_max_message_length\u001b[49m\u001b[43m,\u001b[49m\n\u001b[1;32m    254\u001b[0m \u001b[43m    \u001b[49m\u001b[43mroot_certificates\u001b[49m\u001b[38;5;241;43m=\u001b[39;49m\u001b[43mroot_certificates\u001b[49m\u001b[43m,\u001b[49m\n\u001b[1;32m    255\u001b[0m \u001b[43m    \u001b[49m\u001b[43minsecure\u001b[49m\u001b[38;5;241;43m=\u001b[39;49m\u001b[43minsecure\u001b[49m\u001b[43m,\u001b[49m\n\u001b[1;32m    256\u001b[0m \u001b[43m    \u001b[49m\u001b[43mtransport\u001b[49m\u001b[38;5;241;43m=\u001b[39;49m\u001b[43mtransport\u001b[49m\u001b[43m,\u001b[49m\n\u001b[1;32m    257\u001b[0m \u001b[43m\u001b[49m\u001b[43m)\u001b[49m\n\u001b[1;32m    258\u001b[0m event(EventType\u001b[38;5;241m.\u001b[39mSTART_CLIENT_LEAVE)\n",
      "File \u001b[0;32m~/anaconda3/envs/flower/lib/python3.10/site-packages/flwr/client/app.py:361\u001b[0m, in \u001b[0;36m_start_client_internal\u001b[0;34m(server_address, load_flower_callable_fn, client_fn, client, grpc_max_message_length, root_certificates, insecure, transport)\u001b[0m\n\u001b[1;32m    357\u001b[0m     create_node()  \u001b[38;5;66;03m# pylint: disable=not-callable\u001b[39;00m\n\u001b[1;32m    359\u001b[0m \u001b[38;5;28;01mwhile\u001b[39;00m \u001b[38;5;28;01mTrue\u001b[39;00m:\n\u001b[1;32m    360\u001b[0m     \u001b[38;5;66;03m# Receive\u001b[39;00m\n\u001b[0;32m--> 361\u001b[0m     message \u001b[38;5;241m=\u001b[39m \u001b[43mreceive\u001b[49m\u001b[43m(\u001b[49m\u001b[43m)\u001b[49m\n\u001b[1;32m    362\u001b[0m     \u001b[38;5;28;01mif\u001b[39;00m message \u001b[38;5;129;01mis\u001b[39;00m \u001b[38;5;28;01mNone\u001b[39;00m:\n\u001b[1;32m    363\u001b[0m         time\u001b[38;5;241m.\u001b[39msleep(\u001b[38;5;241m3\u001b[39m)  \u001b[38;5;66;03m# Wait for 3s before asking again\u001b[39;00m\n",
      "File \u001b[0;32m~/anaconda3/envs/flower/lib/python3.10/site-packages/flwr/client/grpc_client/connection.py:132\u001b[0m, in \u001b[0;36mgrpc_connection.<locals>.receive\u001b[0;34m()\u001b[0m\n\u001b[1;32m    130\u001b[0m \u001b[38;5;28;01mdef\u001b[39;00m \u001b[38;5;21mreceive\u001b[39m() \u001b[38;5;241m-\u001b[39m\u001b[38;5;241m>\u001b[39m Message:\n\u001b[1;32m    131\u001b[0m     \u001b[38;5;66;03m# Receive ServerMessage proto\u001b[39;00m\n\u001b[0;32m--> 132\u001b[0m     proto \u001b[38;5;241m=\u001b[39m \u001b[38;5;28;43mnext\u001b[39;49m\u001b[43m(\u001b[49m\u001b[43mserver_message_iterator\u001b[49m\u001b[43m)\u001b[49m\n\u001b[1;32m    134\u001b[0m     \u001b[38;5;66;03m# ServerMessage proto --> *Ins --> RecordSet\u001b[39;00m\n\u001b[1;32m    135\u001b[0m     field \u001b[38;5;241m=\u001b[39m proto\u001b[38;5;241m.\u001b[39mWhichOneof(\u001b[38;5;124m\"\u001b[39m\u001b[38;5;124mmsg\u001b[39m\u001b[38;5;124m\"\u001b[39m)\n",
      "File \u001b[0;32m~/anaconda3/envs/flower/lib/python3.10/site-packages/grpc/_channel.py:540\u001b[0m, in \u001b[0;36m_Rendezvous.__next__\u001b[0;34m(self)\u001b[0m\n\u001b[1;32m    539\u001b[0m \u001b[38;5;28;01mdef\u001b[39;00m \u001b[38;5;21m__next__\u001b[39m(\u001b[38;5;28mself\u001b[39m):\n\u001b[0;32m--> 540\u001b[0m     \u001b[38;5;28;01mreturn\u001b[39;00m \u001b[38;5;28;43mself\u001b[39;49m\u001b[38;5;241;43m.\u001b[39;49m\u001b[43m_next\u001b[49m\u001b[43m(\u001b[49m\u001b[43m)\u001b[49m\n",
      "File \u001b[0;32m~/anaconda3/envs/flower/lib/python3.10/site-packages/grpc/_channel.py:957\u001b[0m, in \u001b[0;36m_MultiThreadedRendezvous._next\u001b[0;34m(self)\u001b[0m\n\u001b[1;32m    951\u001b[0m \u001b[38;5;28;01mdef\u001b[39;00m \u001b[38;5;21m_response_ready\u001b[39m():\n\u001b[1;32m    952\u001b[0m     \u001b[38;5;28;01mreturn\u001b[39;00m \u001b[38;5;28mself\u001b[39m\u001b[38;5;241m.\u001b[39m_state\u001b[38;5;241m.\u001b[39mresponse \u001b[38;5;129;01mis\u001b[39;00m \u001b[38;5;129;01mnot\u001b[39;00m \u001b[38;5;28;01mNone\u001b[39;00m \u001b[38;5;129;01mor\u001b[39;00m (\n\u001b[1;32m    953\u001b[0m         cygrpc\u001b[38;5;241m.\u001b[39mOperationType\u001b[38;5;241m.\u001b[39mreceive_message \u001b[38;5;129;01mnot\u001b[39;00m \u001b[38;5;129;01min\u001b[39;00m \u001b[38;5;28mself\u001b[39m\u001b[38;5;241m.\u001b[39m_state\u001b[38;5;241m.\u001b[39mdue\n\u001b[1;32m    954\u001b[0m         \u001b[38;5;129;01mand\u001b[39;00m \u001b[38;5;28mself\u001b[39m\u001b[38;5;241m.\u001b[39m_state\u001b[38;5;241m.\u001b[39mcode \u001b[38;5;129;01mis\u001b[39;00m \u001b[38;5;129;01mnot\u001b[39;00m \u001b[38;5;28;01mNone\u001b[39;00m\n\u001b[1;32m    955\u001b[0m     )\n\u001b[0;32m--> 957\u001b[0m \u001b[43m_common\u001b[49m\u001b[38;5;241;43m.\u001b[39;49m\u001b[43mwait\u001b[49m\u001b[43m(\u001b[49m\u001b[38;5;28;43mself\u001b[39;49m\u001b[38;5;241;43m.\u001b[39;49m\u001b[43m_state\u001b[49m\u001b[38;5;241;43m.\u001b[39;49m\u001b[43mcondition\u001b[49m\u001b[38;5;241;43m.\u001b[39;49m\u001b[43mwait\u001b[49m\u001b[43m,\u001b[49m\u001b[43m \u001b[49m\u001b[43m_response_ready\u001b[49m\u001b[43m)\u001b[49m\n\u001b[1;32m    958\u001b[0m \u001b[38;5;28;01mif\u001b[39;00m \u001b[38;5;28mself\u001b[39m\u001b[38;5;241m.\u001b[39m_state\u001b[38;5;241m.\u001b[39mresponse \u001b[38;5;129;01mis\u001b[39;00m \u001b[38;5;129;01mnot\u001b[39;00m \u001b[38;5;28;01mNone\u001b[39;00m:\n\u001b[1;32m    959\u001b[0m     response \u001b[38;5;241m=\u001b[39m \u001b[38;5;28mself\u001b[39m\u001b[38;5;241m.\u001b[39m_state\u001b[38;5;241m.\u001b[39mresponse\n",
      "File \u001b[0;32m~/anaconda3/envs/flower/lib/python3.10/site-packages/grpc/_common.py:156\u001b[0m, in \u001b[0;36mwait\u001b[0;34m(wait_fn, wait_complete_fn, timeout, spin_cb)\u001b[0m\n\u001b[1;32m    154\u001b[0m \u001b[38;5;28;01mif\u001b[39;00m timeout \u001b[38;5;129;01mis\u001b[39;00m \u001b[38;5;28;01mNone\u001b[39;00m:\n\u001b[1;32m    155\u001b[0m     \u001b[38;5;28;01mwhile\u001b[39;00m \u001b[38;5;129;01mnot\u001b[39;00m wait_complete_fn():\n\u001b[0;32m--> 156\u001b[0m         \u001b[43m_wait_once\u001b[49m\u001b[43m(\u001b[49m\u001b[43mwait_fn\u001b[49m\u001b[43m,\u001b[49m\u001b[43m \u001b[49m\u001b[43mMAXIMUM_WAIT_TIMEOUT\u001b[49m\u001b[43m,\u001b[49m\u001b[43m \u001b[49m\u001b[43mspin_cb\u001b[49m\u001b[43m)\u001b[49m\n\u001b[1;32m    157\u001b[0m \u001b[38;5;28;01melse\u001b[39;00m:\n\u001b[1;32m    158\u001b[0m     end \u001b[38;5;241m=\u001b[39m time\u001b[38;5;241m.\u001b[39mtime() \u001b[38;5;241m+\u001b[39m timeout\n",
      "File \u001b[0;32m~/anaconda3/envs/flower/lib/python3.10/site-packages/grpc/_common.py:116\u001b[0m, in \u001b[0;36m_wait_once\u001b[0;34m(wait_fn, timeout, spin_cb)\u001b[0m\n\u001b[1;32m    111\u001b[0m \u001b[38;5;28;01mdef\u001b[39;00m \u001b[38;5;21m_wait_once\u001b[39m(\n\u001b[1;32m    112\u001b[0m     wait_fn: Callable[\u001b[38;5;241m.\u001b[39m\u001b[38;5;241m.\u001b[39m\u001b[38;5;241m.\u001b[39m, \u001b[38;5;28mbool\u001b[39m],\n\u001b[1;32m    113\u001b[0m     timeout: \u001b[38;5;28mfloat\u001b[39m,\n\u001b[1;32m    114\u001b[0m     spin_cb: Optional[Callable[[], \u001b[38;5;28;01mNone\u001b[39;00m]],\n\u001b[1;32m    115\u001b[0m ):\n\u001b[0;32m--> 116\u001b[0m     \u001b[43mwait_fn\u001b[49m\u001b[43m(\u001b[49m\u001b[43mtimeout\u001b[49m\u001b[38;5;241;43m=\u001b[39;49m\u001b[43mtimeout\u001b[49m\u001b[43m)\u001b[49m\n\u001b[1;32m    117\u001b[0m     \u001b[38;5;28;01mif\u001b[39;00m spin_cb \u001b[38;5;129;01mis\u001b[39;00m \u001b[38;5;129;01mnot\u001b[39;00m \u001b[38;5;28;01mNone\u001b[39;00m:\n\u001b[1;32m    118\u001b[0m         spin_cb()\n",
      "File \u001b[0;32m~/anaconda3/envs/flower/lib/python3.10/threading.py:324\u001b[0m, in \u001b[0;36mCondition.wait\u001b[0;34m(self, timeout)\u001b[0m\n\u001b[1;32m    322\u001b[0m \u001b[38;5;28;01melse\u001b[39;00m:\n\u001b[1;32m    323\u001b[0m     \u001b[38;5;28;01mif\u001b[39;00m timeout \u001b[38;5;241m>\u001b[39m \u001b[38;5;241m0\u001b[39m:\n\u001b[0;32m--> 324\u001b[0m         gotit \u001b[38;5;241m=\u001b[39m \u001b[43mwaiter\u001b[49m\u001b[38;5;241;43m.\u001b[39;49m\u001b[43macquire\u001b[49m\u001b[43m(\u001b[49m\u001b[38;5;28;43;01mTrue\u001b[39;49;00m\u001b[43m,\u001b[49m\u001b[43m \u001b[49m\u001b[43mtimeout\u001b[49m\u001b[43m)\u001b[49m\n\u001b[1;32m    325\u001b[0m     \u001b[38;5;28;01melse\u001b[39;00m:\n\u001b[1;32m    326\u001b[0m         gotit \u001b[38;5;241m=\u001b[39m waiter\u001b[38;5;241m.\u001b[39macquire(\u001b[38;5;28;01mFalse\u001b[39;00m)\n",
      "\u001b[0;31mKeyboardInterrupt\u001b[0m: "
     ]
    }
   ],
   "source": [
    "import torch  # Assuming torch for model\n",
    "import flwr  # Assuming flwr for federated learning\n",
    "import logging\n",
    "from flwr.server import ClientManager\n",
    "\n",
    "from trainer.yolov5_trainer import YOLOv5Trainer\n",
    "\n",
    "def main():\n",
    "\n",
    "    # Start Flower server\n",
    "    fl.client.start_client(\n",
    "        server_address=\"0.0.0.0:8080\",\n",
    "        # config=fl.server.ServerConfig(num_rounds=3),\n",
    "        client_fn= trainer\n",
    "        )\n",
    "\n",
    "if __name__ == \"__main__\":\n",
    "    main()\n"
   ]
  },
  {
   "cell_type": "code",
   "execution_count": null,
   "metadata": {},
   "outputs": [],
   "source": [
    "# # Start simulation\n",
    "# fl.simulation.start_simulation(\n",
    "#     client_fn=client_fn,\n",
    "#     num_clients=2,\n",
    "#     config=fl.server.ServerConfig(num_rounds=5),\n",
    "#     # strategy=strategy,\n",
    "#     # client_resources=client_resources,\n",
    "# )"
   ]
  }
 ],
 "metadata": {
  "kernelspec": {
   "display_name": "flower",
   "language": "python",
   "name": "python3"
  },
  "language_info": {
   "codemirror_mode": {
    "name": "ipython",
    "version": 3
   },
   "file_extension": ".py",
   "mimetype": "text/x-python",
   "name": "python",
   "nbconvert_exporter": "python",
   "pygments_lexer": "ipython3",
   "version": "3.10.13"
  }
 },
 "nbformat": 4,
 "nbformat_minor": 2
}

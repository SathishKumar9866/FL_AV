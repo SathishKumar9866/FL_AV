{
 "cells": [
  {
   "cell_type": "code",
   "execution_count": 1,
   "metadata": {},
   "outputs": [],
   "source": [
    "import os"
   ]
  },
  {
   "cell_type": "code",
   "execution_count": 2,
   "metadata": {},
   "outputs": [],
   "source": [
    "test_dir = r\"C:\\Users\\SIU856522160\\yolov5\\yolov5\\data\\dataset\"\n",
    "floders = os.listdir(test_dir)"
   ]
  },
  {
   "cell_type": "code",
   "execution_count": 3,
   "metadata": {},
   "outputs": [
    {
     "data": {
      "text/plain": [
       "['coco',\n",
       " 'images_labels_files_names_finder.ipynb',\n",
       " 'train_file_names_test.txt',\n",
       " 'train_images_file_names_test.txt',\n",
       " 'val_file_names_test.txt',\n",
       " 'val_image_file_names_test.txt']"
      ]
     },
     "execution_count": 3,
     "metadata": {},
     "output_type": "execute_result"
    }
   ],
   "source": [
    "floders"
   ]
  },
  {
   "cell_type": "code",
   "execution_count": 4,
   "metadata": {},
   "outputs": [],
   "source": [
    "import os\n",
    "import os.path"
   ]
  },
  {
   "cell_type": "code",
   "execution_count": 6,
   "metadata": {},
   "outputs": [],
   "source": [
    "for dirpath, dirnames, filenames in os.walk(\".txt\"):\n",
    "    for filename in [f for f in filenames if f.endswith(\".log\")]:\n",
    "        print(os.path.join(dirpath, filename))"
   ]
  },
  {
   "cell_type": "code",
   "execution_count": 7,
   "metadata": {},
   "outputs": [],
   "source": [
    "import os\n",
    "# file_out = open(r\"C:\\Users\\SIU856522160\\bdd100k_images_100k\\bdd100k\\train_file_names_test.txt\", \"w\")\n",
    "file_out = open(r\"C:\\Users\\SIU856522160\\yolov5\\yolov5\\data\\dataset\\train_file_names_test.txt\", \"w\")\n",
    "\n",
    "\n",
    "directory = test_dir\n",
    "i=1\n",
    "for root, dirs, files in os.walk(directory):\n",
    "    for file in files:\n",
    "        if file.endswith('.txt'):\n",
    "            file_path = os.path.join(root, file)\n",
    "            # Do something with the file_path\n",
    "            # print(file_path)\n",
    "            file_out.writelines(file_path)\n",
    "            file_out.writelines(\"\\n\")\n",
    "            # print(i)\n",
    "            i+=1\n",
    "file_out.close()"
   ]
  },
  {
   "cell_type": "code",
   "execution_count": 8,
   "metadata": {},
   "outputs": [],
   "source": [
    "# file_out = open(r\"C:\\Users\\SIU856522160\\bdd100k_images_100k\\bdd100k\\train_file_names_test.txt\", \"w\")\n",
    "file_out = open(r\"C:\\Users\\SIU856522160\\yolov5\\yolov5\\data\\dataset\\train_images_file_names_test.txt\", \"w\")\n",
    "\n",
    "\n",
    "directory = r\"C:\\Users\\SIU856522160\\Downloads\\datasets\\coco\\train\"\n",
    "i=1\n",
    "for root, dirs, files in os.walk(directory):\n",
    "    for file in files:\n",
    "        if file.endswith('.jpg'):\n",
    "            file_path = os.path.join(root, file)\n",
    "            # Do something with the file_path\n",
    "            # print(file_path)\n",
    "            file_out.writelines(file_path)\n",
    "            file_out.writelines(\"\\n\")\n",
    "            # print(i)\n",
    "            i+=1\n",
    "file_out.close()"
   ]
  },
  {
   "cell_type": "code",
   "execution_count": 9,
   "metadata": {},
   "outputs": [],
   "source": [
    "# file_out = open(r\"C:\\Users\\SIU856522160\\bdd100k_images_100k\\bdd100k\\train_file_names_test.txt\", \"w\")\n",
    "file_out = open(r\"C:\\Users\\SIU856522160\\yolov5\\yolov5\\data\\dataset\\val_file_names_test.txt\", \"w\")\n",
    "\n",
    "\n",
    "directory = r\"C:\\Users\\SIU856522160\\yolov5\\yolov5\\data\\dataset\\coco\\valid\"\n",
    "i=1\n",
    "for root, dirs, files in os.walk(directory):\n",
    "    for file in files:\n",
    "        if file.endswith('.txt'):\n",
    "            file_path = os.path.join(root, file)\n",
    "            # Do something with the file_path\n",
    "            # print(file_path)\n",
    "            file_out.writelines(file_path)\n",
    "            file_out.writelines(\"\\n\")\n",
    "            # print(i)\n",
    "            i+=1\n",
    "file_out.close()"
   ]
  },
  {
   "cell_type": "code",
   "execution_count": 19,
   "metadata": {},
   "outputs": [],
   "source": [
    "# file_out = open(r\"C:\\Users\\SIU856522160\\bdd100k_images_100k\\bdd100k\\train_file_names_test.txt\", \"w\")\n",
    "file_out = open(r\"C:\\Users\\SIU856522160\\yolov5\\yolov5\\data\\dataset\\val_image_file_names_test.txt\", \"w\")\n",
    "\n",
    "\n",
    "directory = r\"C:\\Users\\SIU856522160\\yolov5\\yolov5\\data\\dataset\\coco\\valid\"\n",
    "i=1\n",
    "for root, dirs, files in os.walk(directory):\n",
    "    for file in files:\n",
    "        if file.endswith('.jpg'):\n",
    "            file_path = os.path.join(root, file)\n",
    "            # Do something with the file_path\n",
    "            # print(file_path)\n",
    "            file_out.writelines(file_path)\n",
    "            file_out.writelines(\"\\n\")\n",
    "            # print(i)\n",
    "            i+=1\n",
    "file_out.close()"
   ]
  }
 ],
 "metadata": {
  "kernelspec": {
   "display_name": "surya",
   "language": "python",
   "name": "python3"
  },
  "language_info": {
   "codemirror_mode": {
    "name": "ipython",
    "version": 3
   },
   "file_extension": ".py",
   "mimetype": "text/x-python",
   "name": "python",
   "nbconvert_exporter": "python",
   "pygments_lexer": "ipython3",
   "version": "3.10.9"
  },
  "orig_nbformat": 4,
  "vscode": {
   "interpreter": {
    "hash": "e856f405fdeb5ad2a983528d73c9bcb4ad79edc78b482b4b121cdb17476e380c"
   }
  }
 },
 "nbformat": 4,
 "nbformat_minor": 2
}

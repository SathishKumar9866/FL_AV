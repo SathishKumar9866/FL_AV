{
 "cells": [
  {
   "attachments": {},
   "cell_type": "markdown",
   "metadata": {},
   "source": [
    "### find the file names of the each train, test, val. store them in .txt file, then divided the dataset respectively...."
   ]
  },
  {
   "cell_type": "code",
   "execution_count": 1,
   "metadata": {},
   "outputs": [],
   "source": [
    "import os"
   ]
  },
  {
   "attachments": {},
   "cell_type": "markdown",
   "metadata": {},
   "source": [
    "# for 100k images "
   ]
  },
  {
   "cell_type": "code",
   "execution_count": null,
   "metadata": {},
   "outputs": [],
   "source": [
    "# train_dir = r\"C:\\Users\\SIU856522160\\bdd100k_images_100k\\bdd100k\\images\\100k\\train\"\n",
    "# filenames = os.listdir(train_dir)\n",
    "\n",
    "# with open(r\"C:\\Users\\SIU856522160\\bdd100k_images_100k\\bdd100k\\train_folder_file_names.txt\", \"w\") as f:\n",
    "#     for filename in filenames:\n",
    "#         f.write(filename + \"\\n\")\n",
    "# f.close()\n",
    "# print(\"train_folder_file_names created\")"
   ]
  },
  {
   "attachments": {},
   "cell_type": "markdown",
   "metadata": {},
   "source": [
    "# for 10k images "
   ]
  },
  {
   "cell_type": "code",
   "execution_count": null,
   "metadata": {},
   "outputs": [],
   "source": [
    "train_dir = r\"C:\\Users\\SIU856522160\\bdd100k_images_100k\\bdd100k\\images\\100k\\train\"\n",
    "filenames = os.listdir(train_dir)\n",
    "\n",
    "with open(r\"C:\\Users\\SIU856522160\\bdd100k_images_100k\\bdd100k\\train_folder_file_names.txt\", \"w\") as f:\n",
    "    for filename in filenames:\n",
    "        f.write(filename + \"\\n\")\n",
    "f.close()\n",
    "print(\"train_folder_file_names created\")"
   ]
  }
 ],
 "metadata": {
  "kernelspec": {
   "display_name": "venv",
   "language": "python",
   "name": "python3"
  },
  "language_info": {
   "codemirror_mode": {
    "name": "ipython",
    "version": 3
   },
   "file_extension": ".py",
   "mimetype": "text/x-python",
   "name": "python",
   "nbconvert_exporter": "python",
   "pygments_lexer": "ipython3",
   "version": "3.10.9"
  },
  "orig_nbformat": 4,
  "vscode": {
   "interpreter": {
    "hash": "dbb7df8212c501dd8c2adbb725d9a6c9f6f2648703e0c80bc5b41f289866512f"
   }
  }
 },
 "nbformat": 4,
 "nbformat_minor": 2
}

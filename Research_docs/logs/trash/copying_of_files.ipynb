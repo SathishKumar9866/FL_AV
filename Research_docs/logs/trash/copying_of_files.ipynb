{
 "cells": [
  {
   "attachments": {},
   "cell_type": "markdown",
   "metadata": {},
   "source": [
    "### create a batch of files\n",
    "## create a txt file and write all name into a file.\n",
    "## this file contain all the name of the files "
   ]
  },
  {
   "attachments": {},
   "cell_type": "markdown",
   "metadata": {},
   "source": [
    "C:\\Users\\SIU856522160\\Downloads\\yolov5\\data\\images\\labels_all_copy"
   ]
  },
  {
   "cell_type": "code",
   "execution_count": null,
   "metadata": {},
   "outputs": [
    {
     "ename": "",
     "evalue": "",
     "output_type": "error",
     "traceback": [
      "\u001b[1;31mThe kernel failed to start as the Python Environment 'venv' is no longer available. Consider selecting another kernel or refreshing the list of Python Environments."
     ]
    }
   ],
   "source": [
    "import os, os.path\n",
    "import shutil"
   ]
  },
  {
   "cell_type": "code",
   "execution_count": null,
   "metadata": {},
   "outputs": [
    {
     "ename": "",
     "evalue": "",
     "output_type": "error",
     "traceback": [
      "\u001b[1;31mThe kernel failed to start as the Python Environment 'venv' is no longer available. Consider selecting another kernel or refreshing the list of Python Environments."
     ]
    }
   ],
   "source": [
    "imgs_train = []\n",
    "imgs_test  = []\n",
    "imgs_valid   = []\n",
    "\n",
    "valid_images = [\".jpg\"]"
   ]
  },
  {
   "cell_type": "code",
   "execution_count": null,
   "metadata": {},
   "outputs": [],
   "source": [
    "res_valid = []\n",
    "path_valid = r\"C:\\Users\\SIU856522160\\Downloads\\yolov5\\data\\images\\valid\"\n",
    "# Iterate directory\n",
    "for path in os.listdir(path_valid):\n",
    "    # check if current path is a file\n",
    "    if os.path.isfile(os.path.join(path_valid, path)):\n",
    "        res_valid.append(path)\n",
    "print(res_valid[1:10])"
   ]
  },
  {
   "cell_type": "code",
   "execution_count": null,
   "metadata": {},
   "outputs": [],
   "source": [
    "l_replace = [s.replace('jpg', 'txt') for s in res_valid]\n",
    "print(l_replace[1:10])"
   ]
  },
  {
   "cell_type": "code",
   "execution_count": null,
   "metadata": {},
   "outputs": [],
   "source": [
    "len(res_valid)"
   ]
  },
  {
   "cell_type": "code",
   "execution_count": null,
   "metadata": {},
   "outputs": [],
   "source": [
    "# specify the source and destination folder paths\n",
    "src_folder = r\"C:\\Users\\SIU856522160\\Downloads\\yolov5\\data\\images\\labels_all_copy\"\n",
    "dest_folder = r\"C:\\Users\\SIU856522160\\Downloads\\yolov5\\data\\images\\test\""
   ]
  },
  {
   "cell_type": "code",
   "execution_count": null,
   "metadata": {},
   "outputs": [],
   "source": [
    "src_folder+os.sep+l_replace[1]"
   ]
  },
  {
   "cell_type": "code",
   "execution_count": null,
   "metadata": {},
   "outputs": [],
   "source": [
    "dest_folder+os.sep+l_replace[1]"
   ]
  },
  {
   "cell_type": "code",
   "execution_count": null,
   "metadata": {},
   "outputs": [],
   "source": [
    "os.path.exists(src_folder+os.sep+l_replace[1])"
   ]
  },
  {
   "cell_type": "code",
   "execution_count": null,
   "metadata": {},
   "outputs": [],
   "source": [
    "for i in range(len(l_replace)):\n",
    "    # copy all files from the source folder to the destination folder\n",
    "    if(os.path.exists(src_folder+os.sep+l_replace[i])):\n",
    "        shutil.copy(src_folder+os.sep+l_replace[i], dest_folder+os.sep+l_replace[i])"
   ]
  },
  {
   "cell_type": "code",
   "execution_count": null,
   "metadata": {},
   "outputs": [],
   "source": [
    "# copy all files from the source folder to the destination folder\n",
    "shutil.copy(src_folder, dest_folder)"
   ]
  }
 ],
 "metadata": {
  "kernelspec": {
   "display_name": "venv",
   "language": "python",
   "name": "python3"
  },
  "language_info": {
   "codemirror_mode": {
    "name": "ipython",
    "version": 3
   },
   "file_extension": ".py",
   "mimetype": "text/x-python",
   "name": "python",
   "nbconvert_exporter": "python",
   "pygments_lexer": "ipython3",
   "version": "3.9.13"
  },
  "orig_nbformat": 4,
  "vscode": {
   "interpreter": {
    "hash": "dbb7df8212c501dd8c2adbb725d9a6c9f6f2648703e0c80bc5b41f289866512f"
   }
  }
 },
 "nbformat": 4,
 "nbformat_minor": 2
}

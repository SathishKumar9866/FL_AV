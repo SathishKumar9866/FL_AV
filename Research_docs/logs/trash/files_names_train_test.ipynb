{
 "cells": [
  {
   "cell_type": "code",
   "execution_count": 29,
   "metadata": {},
   "outputs": [],
   "source": [
    "import os, glob"
   ]
  },
  {
   "attachments": {},
   "cell_type": "markdown",
   "metadata": {},
   "source": [
    "### code to remove certain files from a folder using a regex "
   ]
  },
  {
   "cell_type": "code",
   "execution_count": 30,
   "metadata": {},
   "outputs": [
    {
     "name": "stdout",
     "output_type": "stream",
     "text": [
      "0\n"
     ]
    }
   ],
   "source": [
    "dirname= r\"C:\\Users\\SIU856522160\\bdd100k_images_100k\\images\\val\"\n",
    "count = 0 \n",
    "for filename in glob.glob(os.path.join(dirname, \"*copy*\")):\n",
    "    try:\n",
    "        # Trying to remove a current file\n",
    "        print(os.path.join(dirname, filename))\n",
    "        os.remove(os.path.join(dirname, filename))\n",
    "        count+=1\n",
    "\n",
    "    except EnvironmentError:\n",
    "        # You don't have permission to do it\n",
    "        pass\n",
    "print(count)"
   ]
  },
  {
   "attachments": {},
   "cell_type": "markdown",
   "metadata": {},
   "source": [
    "### code to get the names of the files in an floder using python modules."
   ]
  },
  {
   "cell_type": "code",
   "execution_count": 33,
   "metadata": {},
   "outputs": [],
   "source": [
    "#Enter the path of the folder that goes the images of train, Valid, test.\n",
    "## train_path = r\"\" val_path = r\"\" test_path = r\"\"\n",
    "train_path = r\"C:\\Users\\SIU856522160\\Downloads\\yolov5\\data\\images\\train_t\"\n",
    "val_path = r\"C:\\Users\\SIU856522160\\Downloads\\yolov5\\data\\images\\valid_t\"\n",
    "test_path = r\"\""
   ]
  },
  {
   "attachments": {},
   "cell_type": "markdown",
   "metadata": {},
   "source": [
    "#### for valid images only"
   ]
  },
  {
   "cell_type": "code",
   "execution_count": 35,
   "metadata": {},
   "outputs": [
    {
     "name": "stdout",
     "output_type": "stream",
     "text": [
      "['7d128593-0ccfea4c.jpg', '7d15b18b-1e0d6e3f.jpg', '7d209219-ccdc1a09.jpg', '7d22891c-224788c0.jpg', '7d2f7975-e0c1c5a7.jpg', '7d35e395-ae41f911.jpg', '7d4a9094-0455564b.jpg', '7d5040af-1a6f933f.jpg', '7d6c1119-00000000.jpg']\n"
     ]
    }
   ],
   "source": [
    "#  list to store files\n",
    "res_valid = []\n",
    "\n",
    "# Iterate directory\n",
    "for path in os.listdir (val_path):\n",
    "    # check if current path is a file\n",
    "    if os.path.isfile(os.path.join(val_path, path)):\n",
    "        res_valid.append(path)\n",
    "print(res_valid[1:10])"
   ]
  },
  {
   "attachments": {},
   "cell_type": "markdown",
   "metadata": {},
   "source": [
    "##### writing the content to file using "
   ]
  },
  {
   "cell_type": "code",
   "execution_count": 37,
   "metadata": {},
   "outputs": [],
   "source": [
    "with open(r\"C:\\Users\\SIU856522160\\Downloads\\yolov5\\data\\images\\train.txt\", \"w\") as file:\n",
    "    for element in res_valid:\n",
    "        file.write(element + \"\\n\")\n"
   ]
  },
  {
   "attachments": {},
   "cell_type": "markdown",
   "metadata": {},
   "source": [
    "#### for train images only"
   ]
  },
  {
   "cell_type": "code",
   "execution_count": 38,
   "metadata": {},
   "outputs": [
    {
     "name": "stdout",
     "output_type": "stream",
     "text": [
      "['00054602-3bf57337.jpg', '00067cfb-e535423e.jpg', '00091078-59817bb0.jpg', '0010bf16-a457685b.jpg', '001b428f-059bac33.jpg', '001c2a14-c7138401.jpg', '0024b742-acbefa1a.jpg', '0027eed2-09c90000.jpg', '0027eed2-09c90001.jpg']\n"
     ]
    }
   ],
   "source": [
    "#  list to store files\n",
    "res_train = []\n",
    "\n",
    "# Iterate directory\n",
    "for path in os.listdir (train_path):\n",
    "    # check if current path is a file\n",
    "    if os.path.isfile(os.path.join(train_path, path)):\n",
    "        res_train.append(path)\n",
    "print(res_train[1:10])"
   ]
  },
  {
   "attachments": {},
   "cell_type": "markdown",
   "metadata": {},
   "source": [
    "##### writing the content to file using "
   ]
  },
  {
   "cell_type": "code",
   "execution_count": null,
   "metadata": {},
   "outputs": [],
   "source": [
    "with open(r\"C:\\Users\\SIU856522160\\Downloads\\yolov5\\data\\images\\val.txt\", \"w\") as file:\n",
    "    for element in res_train:\n",
    "        file.write(element + \"\\n\")\n"
   ]
  }
 ],
 "metadata": {
  "kernelspec": {
   "display_name": "venv",
   "language": "python",
   "name": "python3"
  },
  "language_info": {
   "codemirror_mode": {
    "name": "ipython",
    "version": 3
   },
   "file_extension": ".py",
   "mimetype": "text/x-python",
   "name": "python",
   "nbconvert_exporter": "python",
   "pygments_lexer": "ipython3",
   "version": "3.10.9"
  },
  "orig_nbformat": 4
 },
 "nbformat": 4,
 "nbformat_minor": 2
}

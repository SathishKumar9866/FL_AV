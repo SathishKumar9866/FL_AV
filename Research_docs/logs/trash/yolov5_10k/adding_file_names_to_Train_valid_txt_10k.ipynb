{
 "cells": [
  {
   "cell_type": "code",
   "execution_count": 1,
   "metadata": {},
   "outputs": [],
   "source": [
    "import os\n",
    "import shutil"
   ]
  },
  {
   "attachments": {},
   "cell_type": "markdown",
   "metadata": {},
   "source": [
    "### this code blocks denote the usage of  for 10k\n",
    "###### append \".\\data\\images\\\\\" at the beginning the line  "
   ]
  },
  {
   "cell_type": "code",
   "execution_count": 3,
   "metadata": {},
   "outputs": [],
   "source": [
    "train_dir = r\"C:\\Users\\SIU856522160\\Downloads\\export_floder_10k\\10k\\train\"\n",
    "filenames = os.listdir(train_dir)\n",
    "\n",
    "with open(r\"C:\\Users\\SIU856522160\\Downloads\\final repo\\yolov5_10k\\10k\\train_yolov5.txt\", \"w\") as f:\n",
    "    for filename in filenames:\n",
    "        f.write(\".\\data\\images\\\\train\\\\\"+filename+ \"\\n\")\n",
    "f.close()"
   ]
  },
  {
   "cell_type": "code",
   "execution_count": 2,
   "metadata": {},
   "outputs": [],
   "source": [
    "val_dir = r\"C:\\Users\\SIU856522160\\expo_1\\bdd100k\\images\\100k\\val\"\n",
    "filenames = os.listdir(val_dir)\n",
    "\n",
    "with open(r\"C:\\Users\\SIU856522160\\Downloads\\final repo\\yolov5_10k\\10k\\val_yolov5.txt\", \"w\") as f:\n",
    "    for filename in filenames:\n",
    "        f.write(\".\\data\\images\\\\val\\\\\"+filename+ \"\\n\")\n",
    "f.close()"
   ]
  },
  {
   "attachments": {},
   "cell_type": "markdown",
   "metadata": {},
   "source": [
    "# Dont excute the below code lines"
   ]
  },
  {
   "cell_type": "code",
   "execution_count": 6,
   "metadata": {},
   "outputs": [],
   "source": [
    "train_dir = r\"C:\\Users\\SIU856522160\\Downloads\\export_floder_10k\\10k\\train\"\n",
    "filenames = os.listdir(train_dir)\n",
    "\n",
    "with open(r\"C:\\Users\\SIU856522160\\Downloads\\final repo\\yolov5_10k\\10k\\train_yolov5_10k.txt\", \"w\") as f:\n",
    "    for filename in filenames:\n",
    "        f.write(\".\\data\\\\val\\\\\"+filename + \"\\n\")\n",
    "f.close()\n"
   ]
  },
  {
   "cell_type": "code",
   "execution_count": null,
   "metadata": {},
   "outputs": [],
   "source": [
    "val_dir = r\"C:\\Users\\SIU856522160\\expo_1\\bdd100k\\images\\100k\\val\"\n",
    "filenames = os.listdir(val_dir)\n",
    "\n",
    "with open(r\"C:\\Users\\SIU856522160\\Downloads\\final repo\\yolov5_10k\\10k\\val_yolov5_10k.txt\", \"w\") as f:\n",
    "    for filename in filenames:\n",
    "        f.write(\".\\data\\\\val\\\\\"+filename + \"\\n\")\n",
    "f.close()\n"
   ]
  },
  {
   "cell_type": "code",
   "execution_count": 22,
   "metadata": {},
   "outputs": [
    {
     "name": "stdout",
     "output_type": "stream",
     "text": [
      "10000\n",
      "2001 8001\n"
     ]
    }
   ],
   "source": [
    "import os\n",
    "# from os import listdir\n",
    "# from os.path import isfile, join\n",
    "import numpy as np\n",
    "directory = r'C:\\Users\\SIU856522160\\Downloads\\yolov5\\data\\val'\n",
    "\n",
    "\n",
    "def Diff(li1, li2):\n",
    "    return (list(list(set(li1)-set(li2)) + list(set(li2)-set(li1))))\n",
    "\n",
    "\n",
    "count_train = 1\n",
    "count_test = 1\n",
    "count_valid = 1\n",
    "train = open(\n",
    "    r\"C:\\Users\\SIU856522160\\Downloads\\final repo\\yolov5_10k\\dataset\\train.txt\", \"w+\")\n",
    "# test = open(\"test.txt\", \"w+\")\n",
    "val = open(\n",
    "    r\"C:\\Users\\SIU856522160\\Downloads\\final repo\\yolov5_10k\\dataset\\valid.txt\", \"w+\")\n",
    "# list all files in dir\n",
    "files = [f for f in os.listdir(directory) if os.path.isfile(\n",
    "    os.path.join(directory, f))]\n",
    "files = [file for file in files if file.endswith('.jpg') or file.endswith(\".JPG\")]\n",
    "\n",
    "print(len(files))\n",
    "files_taken = []\n",
    "# select 0.7 of the files randomly for train set and 0.2 valid set and 0.1 for test set\n",
    "random_files_train = np.random.choice(files, int(len(files)*.8))\n",
    "\n",
    "# print(random_files)\n",
    "for filename in random_files_train:\n",
    "    if (filename.endswith(\".jpg\") or filename.endswith(\".png\") or filename.endswith(\".JPG\")):\n",
    "        train.write(\"./data/val/\"+filename+\"\\n\")\n",
    "        count_train += 1\n",
    "\n",
    "rest = Diff(files, random_files_train)\n",
    "\n",
    "random_files_valid = np.random.choice(rest, int(len(files)*.2))\n",
    "# print(filename)\n",
    "for filename in random_files_valid:\n",
    "    if (filename.endswith(\".jpg\") or filename.endswith(\".png\") or filename.endswith(\".JPG\")):\n",
    "        val.write(\"./data/val/\"+filename+\"\\n\")\n",
    "        count_valid += 1\n",
    "\n",
    "print(count_valid,count_train)\n",
    "'''\n",
    "test_dataset=Diff(rest, random_files_valid)\n",
    "\n",
    "for filename in test_dataset:\n",
    "    if ( filename.endswith(\".jpg\") or filename.endswith(\".png\") or filename.endswith(\".JPG\") ) and count_test <= 101:\n",
    "        test.write(\"./dataset/\"+filename+\"\\n\")\n",
    "        count_test += 1\n",
    "'''\n",
    "train.close()\n",
    "# test.close()\n",
    "val.close()\n"
   ]
  },
  {
   "cell_type": "code",
   "execution_count": 3,
   "metadata": {},
   "outputs": [],
   "source": [
    "# path = r\"C:\\Users\\SIU856522160\\bdd100k_images_10k\\10k\\train\"\n",
    "# dir_list = os.listdir(path)\n",
    "\n",
    "# # print(\"Files and directories in '\", path, \"' :\")\n",
    "# # print(dir_list) "
   ]
  },
  {
   "cell_type": "code",
   "execution_count": 4,
   "metadata": {},
   "outputs": [],
   "source": [
    "# #Utility function to move images \n",
    "# def copy_files_to_folder(list_of_files, destination_folder):\n",
    "#     for f in list_of_files:\n",
    "#         try:\n",
    "#             shutil.copy(f, destination_folder)\n",
    "#         except:\n",
    "#             print(f)\n",
    "#             assert False\n",
    "\n",
    "\n",
    "# # Move the splits into their folders\n",
    "# # copy_files_to_folder(train_images, 'images/train')\n",
    "# # copy_files_to_folder(val_images, 'images/val/')\n",
    "# # copy_files_to_folder(test_images, 'images/test/')"
   ]
  }
 ],
 "metadata": {
  "kernelspec": {
   "display_name": "venv",
   "language": "python",
   "name": "python3"
  },
  "language_info": {
   "codemirror_mode": {
    "name": "ipython",
    "version": 3
   },
   "file_extension": ".py",
   "mimetype": "text/x-python",
   "name": "python",
   "nbconvert_exporter": "python",
   "pygments_lexer": "ipython3",
   "version": "3.10.9"
  },
  "orig_nbformat": 4,
  "vscode": {
   "interpreter": {
    "hash": "dbb7df8212c501dd8c2adbb725d9a6c9f6f2648703e0c80bc5b41f289866512f"
   }
  }
 },
 "nbformat": 4,
 "nbformat_minor": 2
}

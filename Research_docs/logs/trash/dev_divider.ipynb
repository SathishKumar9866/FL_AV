{
 "cells": [
  {
   "cell_type": "code",
   "execution_count": 2,
   "metadata": {},
   "outputs": [],
   "source": [
    "import argparse\n",
    "import json\n",
    "import pandas as pd\n",
    "# import ijson\n",
    "import os"
   ]
  },
  {
   "attachments": {},
   "cell_type": "markdown",
   "metadata": {},
   "source": [
    "### finding the image data name in each devices\n"
   ]
  },
  {
   "cell_type": "code",
   "execution_count": 2,
   "metadata": {},
   "outputs": [],
   "source": [
    "dev_1_path=r\"C:\\Users\\SIU856522160\\Downloads\\major\\data\\1\"\n",
    "dev_2_path=r\"C:\\Users\\SIU856522160\\Downloads\\major\\data\\2\"\n",
    "dev_3_path=r\"C:\\Users\\SIU856522160\\Downloads\\major\\data\\3\""
   ]
  },
  {
   "attachments": {},
   "cell_type": "markdown",
   "metadata": {},
   "source": [
    "### creating of output files to store the file names for each devices"
   ]
  },
  {
   "cell_type": "code",
   "execution_count": 76,
   "metadata": {},
   "outputs": [],
   "source": [
    "# get all files inside a specific folder\n",
    "def get_file_names(dev_name, data_type):\n",
    "    #C:\\Users\\SIU856522160\\Documents\\dev\\dev_1\\datasets\\coco\\images\n",
    "    default_path = r\"C:\\Users\\SIU856522160\\Documents\\dev\"   \n",
    "    dir_path=default_path+\"\\\\\"+dev_name+\"\"+\"\\\\\"\n",
    "    #C:\\Users\\SIU856522160\\Documents\\dev\\dev_1\\datasets\\coco\\images\n",
    "\n",
    "    f = open(os.path.abspath(default_path+data_type+\".txt\"), \"w\")\n",
    "    for path in os.scandir(dir_path):\n",
    "        if path.is_file():\n",
    "            # print(path.name)\n",
    "            f.write(path.name+\"\\n\") \n",
    "    f.close()"
   ]
  },
  {
   "cell_type": "code",
   "execution_count": 77,
   "metadata": {},
   "outputs": [],
   "source": [
    "devices = [\"dev_1\",\"dev_2\",\"dev_3\"]\n",
    "folder_types = [\"train\", \"test\", \"val\"]"
   ]
  },
  {
   "cell_type": "code",
   "execution_count": 78,
   "metadata": {},
   "outputs": [],
   "source": [
    "for i in devices:\n",
    "    for j in folder_types:\n",
    "        get_file_names(i,j)"
   ]
  },
  {
   "cell_type": "code",
   "execution_count": null,
   "metadata": {},
   "outputs": [],
   "source": []
  },
  {
   "attachments": {},
   "cell_type": "markdown",
   "metadata": {},
   "source": [
    "## finding the labels that belongs to the each devices"
   ]
  },
  {
   "cell_type": "code",
   "execution_count": 51,
   "metadata": {},
   "outputs": [],
   "source": [
    "no_of_devices = 3\n",
    "dev_1_list, dev_2_list, dev_3_list = {}, {}, {}"
   ]
  },
  {
   "cell_type": "code",
   "execution_count": 62,
   "metadata": {},
   "outputs": [
    {
     "name": "stdout",
     "output_type": "stream",
     "text": [
      "dev_1_train\n",
      "dev_1_test\n",
      "dev_1_val\n",
      "dev_2_train\n",
      "dev_2_test\n",
      "dev_2_val\n",
      "dev_3_train\n",
      "dev_3_test\n",
      "dev_3_val\n"
     ]
    }
   ],
   "source": [
    "for i in devices:\n",
    "    for j in folder_types:\n",
    "        # for line in :\n",
    "        # print(line)\n",
    "        f = open(os.path.abspath(r\".\\\\dev\"+os.sep+i+os.sep+j+\".txt\"), \"r\")\n",
    "        line = f.readlines()\n",
    "        # l = []\n",
    "        # l.append(line)\n",
    "        variable_name = f\"{i}_{j}\"\n",
    "        print(f\"{i}_{j}\")\n",
    "        if i ==  \"dev_1\":\n",
    "            dev_1_list[f\"{i}_{j}\"] = line\n",
    "        elif i ==  \"dev_2\":\n",
    "            dev_2_list[f\"{i}_{j}\"] = line\n",
    "        else:\n",
    "            dev_3_list[f\"{i}_{j}\"] = line\n",
    "    # print(line)"
   ]
  },
  {
   "cell_type": "code",
   "execution_count": 63,
   "metadata": {},
   "outputs": [
    {
     "name": "stdout",
     "output_type": "stream",
     "text": [
      "dict_keys(['dev_1_train', 'dev_1_test', 'dev_1_val'])\n"
     ]
    }
   ],
   "source": [
    "print(dev_1_list.keys())"
   ]
  },
  {
   "cell_type": "code",
   "execution_count": 64,
   "metadata": {},
   "outputs": [
    {
     "data": {
      "text/plain": [
       "0"
      ]
     },
     "execution_count": 64,
     "metadata": {},
     "output_type": "execute_result"
    }
   ],
   "source": [
    "len(dev_1_list[\"dev_1_train\"])"
   ]
  },
  {
   "cell_type": "code",
   "execution_count": 43,
   "metadata": {},
   "outputs": [
    {
     "data": {
      "text/plain": [
       "666"
      ]
     },
     "execution_count": 43,
     "metadata": {},
     "output_type": "execute_result"
    }
   ],
   "source": [
    "len(dev_1_list[\"dev_1_test\"])"
   ]
  },
  {
   "cell_type": "code",
   "execution_count": 44,
   "metadata": {},
   "outputs": [
    {
     "data": {
      "text/plain": [
       "333"
      ]
     },
     "execution_count": 44,
     "metadata": {},
     "output_type": "execute_result"
    }
   ],
   "source": [
    "len(dev_1_list[\"dev_1_valid\"])"
   ]
  },
  {
   "cell_type": "code",
   "execution_count": 45,
   "metadata": {},
   "outputs": [
    {
     "data": {
      "text/plain": [
       "3332"
      ]
     },
     "execution_count": 45,
     "metadata": {},
     "output_type": "execute_result"
    }
   ],
   "source": [
    "len(dev_1_list[\"dev_1_train\"])+len(dev_1_list[\"dev_1_test\"])+len(dev_1_list[\"dev_1_valid\"])"
   ]
  },
  {
   "attachments": {},
   "cell_type": "markdown",
   "metadata": {},
   "source": [
    "## using ijson\n",
    "## label separation of the data items based on above images list"
   ]
  },
  {
   "cell_type": "code",
   "execution_count": null,
   "metadata": {},
   "outputs": [],
   "source": []
  },
  {
   "cell_type": "markdown",
   "metadata": {},
   "source": [
    "import ijson\n",
    "\n",
    "user_to_repos = {}\n",
    "\n",
    "with open(r\"C:\\Users\\SIU856522160\\Downloads\\json+formatting_of_labels\\bdd100k_labels_release\\bdd100k\\labels\\bdd100k_labels_images_train.json\", \"rb\") as f:\n",
    "    for record in ijson.items(f, \"item\"):\n",
    "        print(record[\"name\"])\n",
    "        print(record)\n",
    "        # if()"
   ]
  },
  {
   "cell_type": "code",
   "execution_count": null,
   "metadata": {},
   "outputs": [],
   "source": []
  },
  {
   "attachments": {},
   "cell_type": "markdown",
   "metadata": {},
   "source": [
    "## using pandas \n",
    "## label separation of the data items based on above images list"
   ]
  },
  {
   "cell_type": "code",
   "execution_count": 67,
   "metadata": {},
   "outputs": [],
   "source": [
    "#trying to do pandas import and experiment\n",
    "df = pd.read_json(r\"C:\\Users\\SIU856522160\\Downloads\\json_formatting_of_labels\\bdd100k_labels_release\\bdd100k\\labels\\bdd100k_labels_images_train.json\")"
   ]
  },
  {
   "cell_type": "code",
   "execution_count": 68,
   "metadata": {},
   "outputs": [
    {
     "data": {
      "text/plain": [
       "0        0000f77c-6257be58.jpg\n",
       "1        0000f77c-62c2a288.jpg\n",
       "2        0000f77c-cb820c98.jpg\n",
       "3        0001542f-5ce3cf52.jpg\n",
       "4        0001542f-7c670be8.jpg\n",
       "                 ...          \n",
       "69858    fe172415-3c36f3d1.jpg\n",
       "69859    fe189115-11bedd21.jpg\n",
       "69860    fe189115-352995ee.jpg\n",
       "69861    fe189115-354e7981.jpg\n",
       "69862    fe189115-8dabb5b1.jpg\n",
       "Name: name, Length: 69863, dtype: object"
      ]
     },
     "execution_count": 68,
     "metadata": {},
     "output_type": "execute_result"
    }
   ],
   "source": [
    "df[\"name\"]"
   ]
  },
  {
   "cell_type": "code",
   "execution_count": 73,
   "metadata": {},
   "outputs": [
    {
     "data": {
      "text/plain": [
       "69863"
      ]
     },
     "execution_count": 73,
     "metadata": {},
     "output_type": "execute_result"
    }
   ],
   "source": [
    "len(df[\"name\"])"
   ]
  },
  {
   "cell_type": "code",
   "execution_count": 75,
   "metadata": {},
   "outputs": [],
   "source": [
    "f= open(os.path.abspath(r\"C:\\Users\\SIU856522160\\Documents\\labels\\dev_1\\train.txt\"), \"w\")"
   ]
  },
  {
   "cell_type": "code",
   "execution_count": 70,
   "metadata": {},
   "outputs": [
    {
     "ename": "SyntaxError",
     "evalue": "(unicode error) 'unicodeescape' codec can't decode bytes in position 2-3: truncated \\UXXXXXXXX escape (1221769068.py, line 1)",
     "output_type": "error",
     "traceback": [
      "\u001b[1;36m  Cell \u001b[1;32mIn[70], line 1\u001b[1;36m\u001b[0m\n\u001b[1;33m    f= open(\"C:\\Users\\SIU856522160\\Documents\\labels\\dev_1\\train.txt\", \"w\")\u001b[0m\n\u001b[1;37m                                                                    ^\u001b[0m\n\u001b[1;31mSyntaxError\u001b[0m\u001b[1;31m:\u001b[0m (unicode error) 'unicodeescape' codec can't decode bytes in position 2-3: truncated \\UXXXXXXXX escape\n"
     ]
    }
   ],
   "source": [
    "\n",
    "if df[\"name\"] in (dev_1_list[\"dev_1_train\"] or dev_1_list[\"dev_1_test\"] or dev_1_list[\"dev_1_valid\"]):\n",
    "    \n"
   ]
  },
  {
   "cell_type": "code",
   "execution_count": null,
   "metadata": {},
   "outputs": [],
   "source": []
  }
 ],
 "metadata": {
  "kernelspec": {
   "display_name": "surya",
   "language": "python",
   "name": "python3"
  },
  "language_info": {
   "codemirror_mode": {
    "name": "ipython",
    "version": 3
   },
   "file_extension": ".py",
   "mimetype": "text/x-python",
   "name": "python",
   "nbconvert_exporter": "python",
   "pygments_lexer": "ipython3",
   "version": "3.10.9"
  },
  "vscode": {
   "interpreter": {
    "hash": "e856f405fdeb5ad2a983528d73c9bcb4ad79edc78b482b4b121cdb17476e380c"
   }
  }
 },
 "nbformat": 4,
 "nbformat_minor": 4
}

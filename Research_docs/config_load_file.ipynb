{
 "cells": [
  {
   "cell_type": "code",
   "execution_count": 1,
   "metadata": {},
   "outputs": [],
   "source": [
    "import os\n",
    "import shutil\n",
    "\n",
    "def create_duplicate_files(original_file_path, num_copies):\n",
    "    # Check if the original file exists\n",
    "    if not os.path.isfile(original_file_path):\n",
    "        print(\"Original file does not exist.\")\n",
    "        return\n",
    "\n",
    "    # Get the directory and filename of the original file\n",
    "    original_directory = os.path.dirname(original_file_path)\n",
    "    original_filename = os.path.basename(original_file_path)\n",
    "\n",
    "    # Create copies of the file\n",
    "    for i in range(1, num_copies + 1):\n",
    "        # Construct the filename for the copy\n",
    "        copy_filename = f\"{original_filename.split('.')[0]}_copy_{i}.{original_filename.split('.')[1]}\"\n",
    "        copy_file_path = os.path.join(original_directory, copy_filename)\n",
    "\n",
    "        # Copy the content of the original file to the copy file\n",
    "        shutil.copyfile(original_file_path, copy_file_path)\n",
    "\n",
    "        # Read the content of the copy file and modify lines containing \"coco128\" and \"dataconfig\"\n",
    "        with open(copy_file_path, 'r') as f:\n",
    "            lines = f.readlines()\n",
    "\n",
    "        with open(copy_file_path, 'w') as f:\n",
    "            for j, line in enumerate(lines):\n",
    "                # Replace occurrences of \"dataconfig\" with the specified string\n",
    "                line = line.replace('/home/siu856522160/major/test/tt/yolov5/data/coco128.yaml',\n",
    "                                    f'/home/siu856522160/major/test/tt/vech/Device_{i}/SubData_{i}/batch_info_{i}.yaml')\n",
    "                f.write(line)\n",
    "\n",
    "        print(f\"Copy {i}: Created '{copy_filename}'\")\n",
    "\n"
   ]
  },
  {
   "cell_type": "code",
   "execution_count": 20,
   "metadata": {},
   "outputs": [],
   "source": [
    "import os\n",
    "\n",
    "def get_subfolder_names(directory, max_depth=3):\n",
    "    subfolder_names = []\n",
    "    for root, dirs, files in os.walk(directory):\n",
    "        depth = root[len(directory) + len(os.path.sep):].count(os.path.sep)\n",
    "        if depth < max_depth:\n",
    "            subfolder_names.extend(dirs)\n",
    "        else:\n",
    "            break  # Stop recursion if max_depth is reached\n",
    "    return subfolder_names"
   ]
  },
  {
   "cell_type": "code",
   "execution_count": 21,
   "metadata": {},
   "outputs": [
    {
     "name": "stdout",
     "output_type": "stream",
     "text": [
      "['Device_1', 'Device_2', 'Device_3', 'SubData_1', 'SubData_19', 'SubData_2', 'SubData_3', 'SubData_4', 'SubData_5', 'SubData_6', 'images', 'labels', 'test', 'train', 'val']\n"
     ]
    }
   ],
   "source": [
    "directory_path = \"/home/siu856522160/major/test/tt/vech\"\n",
    "subfolder_names = get_subfolder_names(directory_path)\n",
    "print(subfolder_names)"
   ]
  },
  {
   "cell_type": "code",
   "execution_count": 23,
   "metadata": {},
   "outputs": [
    {
     "name": "stdout",
     "output_type": "stream",
     "text": [
      "/home/siu856522160/major/test/tt/vech\n",
      "/home/siu856522160/major/test/tt/vech/Device_1\n",
      "/home/siu856522160/major/test/tt/vech/Device_1/SubData_1\n",
      "/home/siu856522160/major/test/tt/vech/Device_1/SubData_1/images\n",
      "/home/siu856522160/major/test/tt/vech/Device_1/SubData_1/images/test\n",
      "/home/siu856522160/major/test/tt/vech/Device_1/SubData_1/images/train\n",
      "/home/siu856522160/major/test/tt/vech/Device_1/SubData_1/images/val\n",
      "/home/siu856522160/major/test/tt/vech/Device_1/SubData_1/labels\n",
      "/home/siu856522160/major/test/tt/vech/Device_1/SubData_1/labels/test\n",
      "/home/siu856522160/major/test/tt/vech/Device_1/SubData_1/labels/train\n",
      "/home/siu856522160/major/test/tt/vech/Device_1/SubData_1/labels/val\n",
      "/home/siu856522160/major/test/tt/vech/Device_1/SubData_1\n",
      "/home/siu856522160/major/test/tt/vech/Device_1/SubData_1/images\n",
      "/home/siu856522160/major/test/tt/vech/Device_1/SubData_1/labels\n",
      "/home/siu856522160/major/test/tt/vech/Device_1/SubData_19\n",
      "/home/siu856522160/major/test/tt/vech/Device_1/SubData_19/images\n",
      "/home/siu856522160/major/test/tt/vech/Device_1/SubData_19/labels\n",
      "/home/siu856522160/major/test/tt/vech/Device_1/SubData_2\n",
      "/home/siu856522160/major/test/tt/vech/Device_1/SubData_2/images\n",
      "/home/siu856522160/major/test/tt/vech/Device_1/SubData_2/labels\n",
      "/home/siu856522160/major/test/tt/vech/Device_1/SubData_3\n",
      "/home/siu856522160/major/test/tt/vech/Device_1/SubData_3/images\n",
      "/home/siu856522160/major/test/tt/vech/Device_1/SubData_3/labels\n",
      "/home/siu856522160/major/test/tt/vech/Device_1/SubData_4\n",
      "/home/siu856522160/major/test/tt/vech/Device_1/SubData_4/images\n",
      "/home/siu856522160/major/test/tt/vech/Device_1/SubData_4/labels\n",
      "/home/siu856522160/major/test/tt/vech/Device_1/SubData_5\n",
      "/home/siu856522160/major/test/tt/vech/Device_1/SubData_5/images\n",
      "/home/siu856522160/major/test/tt/vech/Device_1/SubData_5/labels\n",
      "/home/siu856522160/major/test/tt/vech/Device_1/SubData_6\n",
      "/home/siu856522160/major/test/tt/vech/Device_1/SubData_6/images\n",
      "/home/siu856522160/major/test/tt/vech/Device_1/SubData_6/labels\n",
      "/home/siu856522160/major/test/tt/vech/Device_2\n",
      "/home/siu856522160/major/test/tt/vech/Device_2/SubData_10\n",
      "/home/siu856522160/major/test/tt/vech/Device_2/SubData_10/images\n",
      "/home/siu856522160/major/test/tt/vech/Device_2/SubData_10/labels\n",
      "/home/siu856522160/major/test/tt/vech/Device_2/SubData_11\n",
      "/home/siu856522160/major/test/tt/vech/Device_2/SubData_11/images\n",
      "/home/siu856522160/major/test/tt/vech/Device_2/SubData_11/labels\n",
      "/home/siu856522160/major/test/tt/vech/Device_2/SubData_12\n",
      "/home/siu856522160/major/test/tt/vech/Device_2/SubData_12/images\n",
      "/home/siu856522160/major/test/tt/vech/Device_2/SubData_12/labels\n",
      "/home/siu856522160/major/test/tt/vech/Device_2/SubData_7\n",
      "/home/siu856522160/major/test/tt/vech/Device_2/SubData_7/images\n",
      "/home/siu856522160/major/test/tt/vech/Device_2/SubData_7/labels\n",
      "/home/siu856522160/major/test/tt/vech/Device_2/SubData_8\n",
      "/home/siu856522160/major/test/tt/vech/Device_2/SubData_8/images\n",
      "/home/siu856522160/major/test/tt/vech/Device_2/SubData_8/labels\n",
      "/home/siu856522160/major/test/tt/vech/Device_2/SubData_9\n",
      "/home/siu856522160/major/test/tt/vech/Device_2/SubData_9/images\n",
      "/home/siu856522160/major/test/tt/vech/Device_2/SubData_9/labels\n",
      "/home/siu856522160/major/test/tt/vech/Device_3\n",
      "/home/siu856522160/major/test/tt/vech/Device_3/SubData_13\n",
      "/home/siu856522160/major/test/tt/vech/Device_3/SubData_13/images\n",
      "/home/siu856522160/major/test/tt/vech/Device_3/SubData_13/labels\n",
      "/home/siu856522160/major/test/tt/vech/Device_3/SubData_14\n",
      "/home/siu856522160/major/test/tt/vech/Device_3/SubData_14/images\n",
      "/home/siu856522160/major/test/tt/vech/Device_3/SubData_14/labels\n",
      "/home/siu856522160/major/test/tt/vech/Device_3/SubData_15\n",
      "/home/siu856522160/major/test/tt/vech/Device_3/SubData_15/images\n",
      "/home/siu856522160/major/test/tt/vech/Device_3/SubData_15/labels\n",
      "/home/siu856522160/major/test/tt/vech/Device_3/SubData_16\n",
      "/home/siu856522160/major/test/tt/vech/Device_3/SubData_16/images\n",
      "/home/siu856522160/major/test/tt/vech/Device_3/SubData_16/labels\n",
      "/home/siu856522160/major/test/tt/vech/Device_3/SubData_17\n",
      "/home/siu856522160/major/test/tt/vech/Device_3/SubData_17/images\n",
      "/home/siu856522160/major/test/tt/vech/Device_3/SubData_17/labels\n",
      "/home/siu856522160/major/test/tt/vech/Device_3/SubData_18\n",
      "/home/siu856522160/major/test/tt/vech/Device_3/SubData_18/images\n",
      "/home/siu856522160/major/test/tt/vech/Device_3/SubData_18/labels\n",
      "/home/siu856522160/major/test/tt/vech/Device_3/SubData_20\n",
      "/home/siu856522160/major/test/tt/vech/Device_3/SubData_20/images\n",
      "/home/siu856522160/major/test/tt/vech/Device_3/SubData_20/labels\n"
     ]
    }
   ],
   "source": [
    "import os\n",
    "\n",
    "def print_all_paths_to_one_folder(directory, target_folder):\n",
    "    for root, dirs, files in os.walk(directory):\n",
    "        # Stop recursion if depth is greater than two levels\n",
    "        depth = root[len(directory) + len(os.path.sep):].count(os.path.sep)\n",
    "        if depth > 2:\n",
    "            continue\n",
    "\n",
    "        # Print the current directory path\n",
    "        print(root)\n",
    "\n",
    "        # If the target folder is found, travel into it\n",
    "        if target_folder in dirs:\n",
    "            target_folder_path = os.path.join(root, target_folder)\n",
    "            print_all_paths_to_one_folder(target_folder_path, target_folder)\n",
    "\n",
    "# Example usage:\n",
    "directory_path = \"/home/siu856522160/major/test/tt/vech\"\n",
    "target_folder = \"SubData_1\"  # Specify the target folder name\n",
    "print_all_paths_to_one_folder(directory_path, target_folder)\n"
   ]
  },
  {
   "cell_type": "code",
   "execution_count": 50,
   "metadata": {},
   "outputs": [
    {
     "name": "stdout",
     "output_type": "stream",
     "text": [
      "['Device_1', 'Device_2', 'Device_3']\n",
      "['SubData_1', 'SubData_19', 'SubData_2', 'SubData_3', 'SubData_4', 'SubData_5', 'SubData_6']\n",
      "['SubData_10', 'SubData_11', 'SubData_12', 'SubData_7', 'SubData_8', 'SubData_9']\n",
      "['SubData_13', 'SubData_14', 'SubData_15', 'SubData_16', 'SubData_17', 'SubData_18', 'SubData_20']\n"
     ]
    }
   ],
   "source": [
    "import os\n",
    "\n",
    "def print_paths_up_to_target(directory):\n",
    "    for root, dirs, files in os.walk(directory):\n",
    "        # Stop recursion if depth is greater than two levels\n",
    "        depth = root[len(directory) + len(os.path.sep):].count(os.path.sep)\n",
    "        if depth > 1:\n",
    "            continue\n",
    "\n",
    "        # Check if both \"images\" and \"labels\" folders are present in the current root\n",
    "        if \"images\" in dirs and \"labels\" in dirs:\n",
    "            continue\n",
    "\n",
    "        # Print the current directory path\n",
    "        # print(root)\n",
    "        print(dirs)\n",
    "\n",
    "# Example usage:\n",
    "directory_path = \"/home/siu856522160/major/test/tt/vech\"\n",
    "print_paths_up_to_target(directory_path)\n"
   ]
  },
  {
   "cell_type": "code",
   "execution_count": 51,
   "metadata": {},
   "outputs": [
    {
     "name": "stdout",
     "output_type": "stream",
     "text": [
      "['Device_1', 'Device_2', 'Device_3']\n"
     ]
    }
   ],
   "source": [
    "# Get the list of subfolder names\n",
    "subfolder_names = [name for name in os.listdir('/home/siu856522160/major/test/tt/vech') if os.path.isdir(os.path.join('/home/siu856522160/major/test/tt/vech', name))]\n",
    "print(subfolder_names)"
   ]
  },
  {
   "cell_type": "code",
   "execution_count": 52,
   "metadata": {},
   "outputs": [
    {
     "name": "stdout",
     "output_type": "stream",
     "text": [
      "Values in Device_1:\n"
     ]
    },
    {
     "ename": "IsADirectoryError",
     "evalue": "[Errno 21] Is a directory: '/home/siu856522160/major/test/tt/vech/Device_1/SubData_1'",
     "output_type": "error",
     "traceback": [
      "\u001b[0;31m---------------------------------------------------------------------------\u001b[0m",
      "\u001b[0;31mIsADirectoryError\u001b[0m                         Traceback (most recent call last)",
      "Cell \u001b[0;32mIn[52], line 24\u001b[0m\n\u001b[1;32m     22\u001b[0m \u001b[38;5;66;03m# Example usage:\u001b[39;00m\n\u001b[1;32m     23\u001b[0m directory_path \u001b[38;5;241m=\u001b[39m \u001b[38;5;124m\"\u001b[39m\u001b[38;5;124m/home/siu856522160/major/test/tt/vech\u001b[39m\u001b[38;5;124m\"\u001b[39m\n\u001b[0;32m---> 24\u001b[0m \u001b[43mprint_first_subfolder_values\u001b[49m\u001b[43m(\u001b[49m\u001b[43mdirectory_path\u001b[49m\u001b[43m)\u001b[49m\n",
      "Cell \u001b[0;32mIn[52], line 19\u001b[0m, in \u001b[0;36mprint_first_subfolder_values\u001b[0;34m(directory)\u001b[0m\n\u001b[1;32m     17\u001b[0m \u001b[38;5;28;01mfor\u001b[39;00m file_name \u001b[38;5;129;01min\u001b[39;00m files_in_subfolder:\n\u001b[1;32m     18\u001b[0m     file_path \u001b[38;5;241m=\u001b[39m os\u001b[38;5;241m.\u001b[39mpath\u001b[38;5;241m.\u001b[39mjoin(first_subfolder_path, file_name)\n\u001b[0;32m---> 19\u001b[0m     \u001b[38;5;28;01mwith\u001b[39;00m \u001b[38;5;28;43mopen\u001b[39;49m\u001b[43m(\u001b[49m\u001b[43mfile_path\u001b[49m\u001b[43m,\u001b[49m\u001b[43m \u001b[49m\u001b[38;5;124;43m'\u001b[39;49m\u001b[38;5;124;43mr\u001b[39;49m\u001b[38;5;124;43m'\u001b[39;49m\u001b[43m)\u001b[49m \u001b[38;5;28;01mas\u001b[39;00m file:\n\u001b[1;32m     20\u001b[0m         \u001b[38;5;28mprint\u001b[39m(file\u001b[38;5;241m.\u001b[39mread())\n",
      "File \u001b[0;32m~/anaconda3/envs/flower/lib/python3.10/site-packages/IPython/core/interactiveshell.py:324\u001b[0m, in \u001b[0;36m_modified_open\u001b[0;34m(file, *args, **kwargs)\u001b[0m\n\u001b[1;32m    317\u001b[0m \u001b[38;5;28;01mif\u001b[39;00m file \u001b[38;5;129;01min\u001b[39;00m {\u001b[38;5;241m0\u001b[39m, \u001b[38;5;241m1\u001b[39m, \u001b[38;5;241m2\u001b[39m}:\n\u001b[1;32m    318\u001b[0m     \u001b[38;5;28;01mraise\u001b[39;00m \u001b[38;5;167;01mValueError\u001b[39;00m(\n\u001b[1;32m    319\u001b[0m         \u001b[38;5;124mf\u001b[39m\u001b[38;5;124m\"\u001b[39m\u001b[38;5;124mIPython won\u001b[39m\u001b[38;5;124m'\u001b[39m\u001b[38;5;124mt let you open fd=\u001b[39m\u001b[38;5;132;01m{\u001b[39;00mfile\u001b[38;5;132;01m}\u001b[39;00m\u001b[38;5;124m by default \u001b[39m\u001b[38;5;124m\"\u001b[39m\n\u001b[1;32m    320\u001b[0m         \u001b[38;5;124m\"\u001b[39m\u001b[38;5;124mas it is likely to crash IPython. If you know what you are doing, \u001b[39m\u001b[38;5;124m\"\u001b[39m\n\u001b[1;32m    321\u001b[0m         \u001b[38;5;124m\"\u001b[39m\u001b[38;5;124myou can use builtins\u001b[39m\u001b[38;5;124m'\u001b[39m\u001b[38;5;124m open.\u001b[39m\u001b[38;5;124m\"\u001b[39m\n\u001b[1;32m    322\u001b[0m     )\n\u001b[0;32m--> 324\u001b[0m \u001b[38;5;28;01mreturn\u001b[39;00m \u001b[43mio_open\u001b[49m\u001b[43m(\u001b[49m\u001b[43mfile\u001b[49m\u001b[43m,\u001b[49m\u001b[43m \u001b[49m\u001b[38;5;241;43m*\u001b[39;49m\u001b[43margs\u001b[49m\u001b[43m,\u001b[49m\u001b[43m \u001b[49m\u001b[38;5;241;43m*\u001b[39;49m\u001b[38;5;241;43m*\u001b[39;49m\u001b[43mkwargs\u001b[49m\u001b[43m)\u001b[49m\n",
      "\u001b[0;31mIsADirectoryError\u001b[0m: [Errno 21] Is a directory: '/home/siu856522160/major/test/tt/vech/Device_1/SubData_1'"
     ]
    }
   ],
   "source": [
    "import os\n",
    "\n",
    "def print_first_subfolder_values(directory):\n",
    "    # Get the list of subfolder names\n",
    "    subfolder_names = [name for name in os.listdir(directory) if os.path.isdir(os.path.join(directory, name))]\n",
    "    \n",
    "    # Check if there are any subfolders\n",
    "    if subfolder_names:\n",
    "        # Get the path of the first subfolder\n",
    "        first_subfolder_path = os.path.join(directory, subfolder_names[0])\n",
    "        \n",
    "        # Check if the first subfolder contains any files\n",
    "        files_in_subfolder = os.listdir(first_subfolder_path)\n",
    "        if files_in_subfolder:\n",
    "            # Print the values of the first subfolder\n",
    "            print(f\"Values in {subfolder_names[0]}:\")\n",
    "            for file_name in files_in_subfolder:\n",
    "                file_path = os.path.join(first_subfolder_path, file_name)\n",
    "                with open(file_path, 'r') as file:\n",
    "                    print(file.read())\n",
    "\n",
    "# Example usage:\n",
    "directory_path = \"/home/siu856522160/major/test/tt/vech\"\n",
    "print_first_subfolder_values(directory_path)\n"
   ]
  },
  {
   "cell_type": "code",
   "execution_count": 4,
   "metadata": {},
   "outputs": [],
   "source": [
    "original_file_path = \"/home/siu856522160/major/test/tt/yolov5/config/config.yaml\"  # Specify the path to your original file\n",
    "num_copies = 20  # Number of copies to create"
   ]
  },
  {
   "cell_type": "code",
   "execution_count": 5,
   "metadata": {},
   "outputs": [
    {
     "name": "stdout",
     "output_type": "stream",
     "text": [
      "Copy 1: Created 'config_copy_1.yaml'\n",
      "Copy 2: Created 'config_copy_2.yaml'\n",
      "Copy 3: Created 'config_copy_3.yaml'\n",
      "Copy 4: Created 'config_copy_4.yaml'\n",
      "Copy 5: Created 'config_copy_5.yaml'\n",
      "Copy 6: Created 'config_copy_6.yaml'\n",
      "Copy 7: Created 'config_copy_7.yaml'\n",
      "Copy 8: Created 'config_copy_8.yaml'\n",
      "Copy 9: Created 'config_copy_9.yaml'\n",
      "Copy 10: Created 'config_copy_10.yaml'\n",
      "Copy 11: Created 'config_copy_11.yaml'\n",
      "Copy 12: Created 'config_copy_12.yaml'\n",
      "Copy 13: Created 'config_copy_13.yaml'\n",
      "Copy 14: Created 'config_copy_14.yaml'\n",
      "Copy 15: Created 'config_copy_15.yaml'\n",
      "Copy 16: Created 'config_copy_16.yaml'\n",
      "Copy 17: Created 'config_copy_17.yaml'\n",
      "Copy 18: Created 'config_copy_18.yaml'\n",
      "Copy 19: Created 'config_copy_19.yaml'\n",
      "Copy 20: Created 'config_copy_20.yaml'\n"
     ]
    }
   ],
   "source": [
    "# num_copi+es = l)  # Number of copies to create is based on the number of subfolders\n",
    "create_duplicate_files(original_file_path, num_copies)"
   ]
  }
 ],
 "metadata": {
  "kernelspec": {
   "display_name": "flower",
   "language": "python",
   "name": "python3"
  },
  "language_info": {
   "codemirror_mode": {
    "name": "ipython",
    "version": 3
   },
   "file_extension": ".py",
   "mimetype": "text/x-python",
   "name": "python",
   "nbconvert_exporter": "python",
   "pygments_lexer": "ipython3",
   "version": "3.10.0"
  }
 },
 "nbformat": 4,
 "nbformat_minor": 2
}

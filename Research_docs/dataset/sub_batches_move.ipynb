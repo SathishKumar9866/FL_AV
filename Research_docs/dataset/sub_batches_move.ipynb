{
 "cells": [
  {
   "cell_type": "code",
   "execution_count": 1,
   "metadata": {},
   "outputs": [],
   "source": [
    "import os\n",
    "import random\n",
    "import shutil\n",
    "import sys\n",
    "import yaml\n",
    "from pathlib import Path"
   ]
  },
  {
   "cell_type": "code",
   "execution_count": 2,
   "metadata": {},
   "outputs": [
    {
     "data": {
      "text/plain": [
       "'C:\\\\Users\\\\SIU856522160\\\\Downloads'"
      ]
     },
     "execution_count": 2,
     "metadata": {},
     "output_type": "execute_result"
    }
   ],
   "source": [
    "# Change to a different directory\n",
    "os.chdir(r'C:\\Users\\SIU856522160\\Downloads')\n",
    "# Get the new default path\n",
    "os.getcwd()"
   ]
  },
  {
   "cell_type": "code",
   "execution_count": 3,
   "metadata": {},
   "outputs": [],
   "source": [
    "num_batches = 20\n",
    "folder_path = r\".\\\\100k\"\n",
    "source_folder = folder_path\n",
    "# Destination folder path w     here the selected images will be copied\n",
    "destination_folder = r\".\\\\data_batches_test\""
   ]
  },
  {
   "cell_type": "code",
   "execution_count": 4,
   "metadata": {},
   "outputs": [],
   "source": [
    "def del_folders_and_files(destination_folder):\n",
    "\n",
    "    if os.path.exists(destination_folder):\n",
    "        for root, dirs, files in os.walk(destination_folder):\n",
    "            for dir in dirs:\n",
    "                subfolder_path = os.path.join(root, dir)\n",
    "                try:\n",
    "                    shutil.rmtree(subfolder_path)\n",
    "                    print(f\"Deleted subfolder: {subfolder_path}\")\n",
    "                except OSError as e:\n",
    "                    print(f\"Failed to delete subfolder: {subfolder_path} - {e}\")\n",
    "            for file in files:\n",
    "                file_path = os.path.join(root, file)\n",
    "                try:\n",
    "                    os.remove(file_path)\n",
    "                    print(f\"Deleted file: {file_path}\")\n",
    "                except OSError as e:\n",
    "                    print(f\"Failed to delete file: {file_path} - {e}\")\n",
    "        print(\"Deleted sub folders and files in the destination folder\")\n",
    "    else:\n",
    "        print(\"Destination folder does not exist\")"
   ]
  },
  {
   "cell_type": "code",
   "execution_count": 5,
   "metadata": {},
   "outputs": [],
   "source": [
    "def create_batches(source_folder, num_batches, destination_folder, folder_name, train_folder_path):\n",
    "    if \"train\" in folder_name.lower() or \"val\" in folder_name.lower() or \"test\" in folder_name.lower():\n",
    "        print(f\"Folder is {folder_name}\")\n",
    "        folder_name = folder_name.lower()\n",
    "    else:\n",
    "        print(\"Folder is not train or val\")\n",
    "        return \"given the correct folder name\"\n",
    "    \n",
    "    # Check if the destination folder exists, create it if not\n",
    "    if not os.path.exists(destination_folder):\n",
    "        os.makedirs(destination_folder)\n",
    "        \n",
    "    # Skip deletion if folder_name is \"val\" or \"test\"\n",
    "    if folder_name.lower() not in [\"val\", \"test\"]:\n",
    "        del_folders_and_files(destination_folder)\n",
    "\n",
    "    # List all sub-batch files in the train folder\n",
    "    sub_batch_files = [file for file in os.listdir(train_folder_path) if file.startswith(\"Sub\")]\n",
    "    print(sub_batch_files)\n",
    "    sorted_file_names = sorted(sub_batch_files, key=lambda x: int(x.split(\"_\")[3]))\n",
    "    print(sorted_file_names)\n",
    "    for batch_num, sub_batch_file in enumerate(sorted_file_names, start=1):\n",
    "        print(sub_batch_file)\n",
    "        batch_folder = os.path.join(destination_folder, f\"SubData_{batch_num}\")\n",
    "        if not os.path.exists(batch_folder):\n",
    "            os.makedirs(batch_folder)\n",
    "        image_destination = os.path.join(batch_folder, \"images\", folder_name)\n",
    "        label_destination = os.path.join(batch_folder, \"labels\", folder_name)\n",
    "        if not os.path.exists(image_destination):\n",
    "            os.makedirs(image_destination)\n",
    "        if not os.path.exists(label_destination):\n",
    "            os.makedirs(label_destination)\n",
    "\n",
    "        # Read the sub-batch file for the current batch\n",
    "        sub_batch_file_path = os.path.join(train_folder_path, sub_batch_file)\n",
    "        with open(sub_batch_file_path, \"r\") as sub_batch_file:\n",
    "            selected_files = sub_batch_file.read().splitlines()\n",
    "\n",
    "        # Process the selected files for the current batch\n",
    "        for file_name in selected_files:\n",
    "            image_source_path = os.path.join(source_folder, folder_name, file_name)\n",
    "            image_destination_path = os.path.join(batch_folder, \"images\", folder_name, file_name)\n",
    "            print(image_source_path)\n",
    "            try:\n",
    "                shutil.copy2(src=image_source_path, dst=image_destination_path)\n",
    "                print(f\"Moved image: {file_name}\")\n",
    "            except FileNotFoundError:\n",
    "                print(f\"Image not found: {file_name}\")\n",
    "                continue\n",
    "\n",
    "            label_name = file_name.split(\".\")[0] + \".txt\"\n",
    "            label_source_path = os.path.join(source_folder, folder_name, label_name)\n",
    "            label_destination_path = os.path.join(batch_folder, \"labels\", folder_name, label_name)\n",
    "            if os.path.exists(label_source_path):\n",
    "                try:\n",
    "                    shutil.copy(src=label_source_path, dst=label_destination_path)\n",
    "                    print(f\"Moved label: {label_name}\")\n",
    "                except FileNotFoundError:\n",
    "                    print(f\"Label not found: {label_name}\")\n",
    "                    continue\n",
    "                except OSError as e:\n",
    "                    print(f\"Error occurred while copying label: {label_name} - {e}\")\n",
    "                    continue\n",
    "\n",
    "\n",
    "        # Create a subfolder named 'sub_date_names' and save the copied_images_file_img in it\n",
    "        sub_date_names_folder = os.path.join(batch_folder, 'sub_date_names', folder_name)\n",
    "        print(sub_date_names_folder)\n",
    "        \n",
    "        # Skip deletion if folder_name is \"val\" or \"test\"\n",
    "        if folder_name.lower() not in [\"val\", \"test\"]:\n",
    "            if not os.path.exists(sub_date_names_folder):\n",
    "                os.makedirs(sub_date_names_folder)\n",
    "            \n",
    "            if not any(os.listdir(sub_date_names_folder)): \n",
    "                del_folders_and_files(sub_date_names_folder)\n",
    "\n",
    "        # Create a YAML file in the batch folder with the provided configuration\n",
    "        yaml_data = {\n",
    "            'names': [\n",
    "                \"person\", \"rider\", \"car\", \"truck\", \"bus\", \"train\", \"motor\", \"bike\", \"traffic light\", \"traffic sign\"\n",
    "            ],\n",
    "            'path': './data/vech',\n",
    "            'train': f'./SubData_saved_img_{batch_num}_train.txt',\n",
    "            'val': f'./SubData_saved_img_{batch_num}_val.txt',\n",
    "            'nc': 10,\n",
    "        }\n",
    "        \n",
    "        # Reverse the order of keys before writing to the YAML file\n",
    "        yaml_data = {k: yaml_data[k] for k in reversed(yaml_data)}\n",
    "        \n",
    "        yaml_file_path = os.path.join(batch_folder, f\"batch_info_{batch_num}.yaml\")\n",
    "        with open(yaml_file_path, 'w') as yaml_file:\n",
    "            yaml.dump(yaml_data, yaml_file, default_flow_style=False)\n"
   ]
  },
  {
   "cell_type": "code",
   "execution_count": 6,
   "metadata": {},
   "outputs": [],
   "source": [
    "# create_batches(source_folder, num_batches, destination_folder,folder_name=\"Train\")\n",
    "with open(r'.\\\\major\\logs\\batches_create_train_temp.txt', 'w') as file:\n",
    "    # Redirect the standard output to the file\n",
    "    sys.stdout = file\n",
    "    # create_batches(source_folder, num_batches, destination_folder, folder_name=\"test\", train_folder_path=r\"C:\\Users\\SIU856522160\\Downloads\\major\\dataset\\dataset_file_names\\sub_date_names\\test\")\n",
    "    create_batches(source_folder, num_batches, destination_folder, folder_name=\"train\", train_folder_path=r\"C:\\Users\\SIU856522160\\Downloads\\major\\dataset\\dataset_file_names\\sub_date_names\\train\")\n",
    "    # Reset the standard output to the console\n",
    "    sys.stdout = sys.__stdout__"
   ]
  },
  {
   "cell_type": "code",
   "execution_count": null,
   "metadata": {},
   "outputs": [],
   "source": [
    "# create_batches(source_folder, num_batches, destination_folder,folder_name=\"Train\")\n",
    "with open(r'.\\\\major\\logs\\batches_create_val_temp.txt', 'w') as file:\n",
    "    # Redirect the standard output to the file\n",
    "    sys.stdout = file    \n",
    "    create_batches(source_folder, num_batches, destination_folder, folder_name=\"val\", train_folder_path=r\"C:\\Users\\SIU856522160\\Downloads\\major\\dataset\\dataset_file_names\\sub_date_names\\val\")\n",
    "    # Reset the standard output to the console\n",
    "    sys.stdout = sys.__stdout__"
   ]
  },
  {
   "cell_type": "code",
   "execution_count": null,
   "metadata": {},
   "outputs": [],
   "source": [
    "# create_batches(source_folder, num_batches, destination_folder,folder_name=\"Train\")\n",
    "with open(r'.\\\\major\\logs\\batches_create_test_temp.txt', 'w') as file:\n",
    "    # Redirect the standard output to the file\n",
    "    sys.stdout = file\n",
    "    create_batches(source_folder, num_batches, destination_folder, folder_name=\"test\", train_folder_path=r\"C:\\Users\\SIU856522160\\Downloads\\major\\dataset\\dataset_file_names\\sub_date_names\\test\")\n",
    "    # Reset the standard output to the console\n",
    "    sys.stdout = sys.__stdout__"
   ]
  },
  {
   "cell_type": "code",
   "execution_count": null,
   "metadata": {},
   "outputs": [],
   "source": []
  }
 ],
 "metadata": {
  "kernelspec": {
   "display_name": "venv",
   "language": "python",
   "name": "python3"
  },
  "language_info": {
   "codemirror_mode": {
    "name": "ipython",
    "version": 3
   },
   "file_extension": ".py",
   "mimetype": "text/x-python",
   "name": "python",
   "nbconvert_exporter": "python",
   "pygments_lexer": "ipython3",
   "version": "3.10.9"
  },
  "orig_nbformat": 4
 },
 "nbformat": 4,
 "nbformat_minor": 2
}

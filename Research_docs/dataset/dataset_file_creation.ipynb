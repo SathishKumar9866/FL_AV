{
 "cells": [
  {
   "cell_type": "code",
   "execution_count": 2,
   "metadata": {},
   "outputs": [],
   "source": [
    "import os\n",
    "import yaml "
   ]
  },
  {
   "cell_type": "code",
   "execution_count": 3,
   "metadata": {},
   "outputs": [],
   "source": [
    "destination_folder = rf\"C:\\Users\\SIU856522160\\Downloads\\major\\dataset\\dataset_file_names\""
   ]
  },
  {
   "cell_type": "code",
   "execution_count": null,
   "metadata": {},
   "outputs": [],
   "source": [
    "# # After processing and copying the files, generate the YAML configuration\n",
    "# dataset_config = {\n",
    "#     \"path\": fr\"{device_destination_folder}\",\n",
    "#     \"train\": \"group_saved_img_0_train.txt\",\n",
    "#     \"val\": \"group_saved_img_0_train.txt\",\n",
    "#     \"nc\": 10,\n",
    "#     \"names\": [\n",
    "#         \"person\", \"rider\", \"car\", \"truck\", \"bus\", \n",
    "#         \"train\", \"motor\", \"bike\", \"traffic light\", \"traffic sign\"\n",
    "#     ]\n",
    "# }\n",
    "\n",
    "# # Write the dataset configuration to a YAML file\n",
    "# dataset_yaml_filename = f\"dataset_group_{group_index}.yaml\"\n",
    "# with open(os.path.join(device_destination_folder, dataset_yaml_filename), \"w\") as yaml_file:\n",
    "#     yaml.dump(dataset_config, yaml_file)"
   ]
  }
 ],
 "metadata": {
  "kernelspec": {
   "display_name": "venv",
   "language": "python",
   "name": "python3"
  },
  "language_info": {
   "codemirror_mode": {
    "name": "ipython",
    "version": 3
   },
   "file_extension": ".py",
   "mimetype": "text/x-python",
   "name": "python",
   "nbconvert_exporter": "python",
   "pygments_lexer": "ipython3",
   "version": "3.10.9"
  },
  "orig_nbformat": 4
 },
 "nbformat": 4,
 "nbformat_minor": 2
}

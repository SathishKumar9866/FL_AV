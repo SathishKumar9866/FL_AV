{
 "cells": [
  {
   "cell_type": "code",
   "execution_count": 15,
   "metadata": {},
   "outputs": [
    {
     "name": "stdout",
     "output_type": "stream",
     "text": [
      "10000\n"
     ]
    }
   ],
   "source": [
    "import os\n",
    "\n",
    "def find_filenames_count(dir1, dir2):\n",
    "    \"\"\"Finds the filenames in two directories and returns a list of the filenames without the extension.\n",
    "\n",
    "    Args:\n",
    "    dir1: The path to the first directory.\n",
    "    dir2: The path to the second directory.\n",
    "\n",
    "    Returns:\n",
    "    A list of the filenames without the extension.\n",
    "    \"\"\"\n",
    "\n",
    "    # Get the list of file names in each directory.\n",
    "    file_names1 = os.listdir(dir1)\n",
    "    file_names2 = os.listdir(dir2)\n",
    "\n",
    "    # Get the list of filenames without the extension.\n",
    "    file_names_without_extension1 = []\n",
    "    file_names_without_extension2 = []\n",
    "    for file_name in file_names1:\n",
    "        file_name_without_extension = os.path.splitext(file_name)[0]\n",
    "        file_names_without_extension1.append(file_name_without_extension)\n",
    "\n",
    "    for file_name in file_names2:\n",
    "        file_name_without_extension = os.path.splitext(file_name)[0]\n",
    "        file_names_without_extension2.append(file_name_without_extension)\n",
    "    # Find the common file names.\n",
    "    common_file_names = set(file_names_without_extension1) & set(file_names_without_extension2)\n",
    "    count = len(common_file_names)\n",
    "    print(count)\n",
    "\n",
    "\n",
    "if __name__ == \"__main__\":\n",
    "    # Get the paths to the two directories.\n",
    "    dir1 = r\"C:\\Users\\SIU856522160\\Downloads\\100k\\val\"\n",
    "    dir2 = r\"C:\\Users\\SIU856522160\\Downloads\\json_formatting_of_labels\\yolov5\\dataset\\val\\labels\"\n",
    "\n",
    "    find_filenames_count(dir1, dir2)\n",
    "\n"
   ]
  },
  {
   "cell_type": "code",
   "execution_count": null,
   "metadata": {},
   "outputs": [],
   "source": []
  }
 ],
 "metadata": {
  "kernelspec": {
   "display_name": "venv",
   "language": "python",
   "name": "python3"
  },
  "language_info": {
   "codemirror_mode": {
    "name": "ipython",
    "version": 3
   },
   "file_extension": ".py",
   "mimetype": "text/x-python",
   "name": "python",
   "nbconvert_exporter": "python",
   "pygments_lexer": "ipython3",
   "version": "3.10.9"
  },
  "orig_nbformat": 4
 },
 "nbformat": 4,
 "nbformat_minor": 2
}

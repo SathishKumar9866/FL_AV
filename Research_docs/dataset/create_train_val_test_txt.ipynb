{
 "cells": [
  {
   "cell_type": "code",
   "execution_count": 10,
   "metadata": {},
   "outputs": [
    {
     "name": "stdout",
     "output_type": "stream",
     "text": [
      "Created train.txt with 70000 formatted image file paths.\n",
      "Created val.txt with 10000 formatted image file paths.\n",
      "Created test.txt with 20000 formatted image file paths.\n"
     ]
    }
   ],
   "source": [
    "import os\n",
    "\n",
    "def find_and_create_txt_files(train_directory, val_directory, test_directory):\n",
    "    def find_image_files(directory):\n",
    "        image_extensions = ('.jpg', '.jpeg', '.png', '.bmp', '.gif')\n",
    "        formatted_paths = []\n",
    "\n",
    "        for root, _, files in os.walk(directory):\n",
    "            for file in files:\n",
    "                if file.lower().endswith(image_extensions):\n",
    "                    # Determine the prefix based on the dataset directory\n",
    "                    prefix = './train/' if directory == train_directory else './val/' if directory == val_directory else './test/'\n",
    "                    \n",
    "                    # Format the file path and append to the list\n",
    "                    formatted_path = os.path.join(prefix, os.path.basename(file))\n",
    "                    formatted_paths.append(formatted_path)\n",
    "\n",
    "        return formatted_paths\n",
    "\n",
    "    def create_txt_file(file_paths, output_file):\n",
    "        with open(output_file, 'w') as file:\n",
    "            file.write('\\n'.join(file_paths))\n",
    "\n",
    "    # Find image files and create text files for each dataset\n",
    "    for dataset_directory, output_file in [(train_directory, 'train.txt'),  (val_directory, 'val.txt'), (test_directory, 'test.txt')]:\n",
    "        image_paths = find_image_files(dataset_directory)\n",
    "        create_txt_file(image_paths, output_file)\n",
    "        print(f\"Created {output_file} with {len(image_paths)} formatted image file paths.\")\n",
    "\n",
    "# Usage example:\n",
    "train_directory = r'C:\\Users\\SIU856522160\\Downloads\\yolov5\\data\\100k\\train'\n",
    "val_directory = r'C:\\Users\\SIU856522160\\Downloads\\yolov5\\data\\100k\\val'\n",
    "test_directory = r'C:\\Users\\SIU856522160\\Downloads\\yolov5\\data\\100k\\test'\n",
    "find_and_create_txt_files(train_directory, val_directory, test_directory)\n"
   ]
  },
  {
   "cell_type": "code",
   "execution_count": null,
   "metadata": {},
   "outputs": [],
   "source": []
  }
 ],
 "metadata": {
  "kernelspec": {
   "display_name": "venv",
   "language": "python",
   "name": "python3"
  },
  "language_info": {
   "codemirror_mode": {
    "name": "ipython",
    "version": 3
   },
   "file_extension": ".py",
   "mimetype": "text/x-python",
   "name": "python",
   "nbconvert_exporter": "python",
   "pygments_lexer": "ipython3",
   "version": "3.10.9"
  },
  "orig_nbformat": 4
 },
 "nbformat": 4,
 "nbformat_minor": 2
}

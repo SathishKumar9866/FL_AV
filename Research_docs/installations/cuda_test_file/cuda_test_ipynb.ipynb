{
 "cells": [
  {
   "cell_type": "markdown",
   "metadata": {},
   "source": [
    "**Summary of CUDA and PyTorch Installation Guide**\n",
    "\n",
    "---\n",
    "\n",
    "**CUDA Installation Overview**\n",
    "\n",
    "- **Prerequisites**:\n",
    "  - CUDA-enabled NVIDIA GPU.\n",
    "  - Supported Windows version (Windows 10, 8.1, 7, or compatible Server versions).\n",
    "  - Supported Visual Studio version (2017, 2015, 2013, 2012, or 2010).\n",
    "  - Latest CUDA toolkit from NVIDIA's official website.\n",
    "\n",
    "- **Installation Process**:\n",
    "  1. Download the CUDA toolkit installer from NVIDIA's website.\n",
    "  2. Run the installer and follow the on-screen instructions.\n",
    "  3. Optionally, use command-line interface (CLI) to select specific packages for installation.\n",
    "\n",
    "- **Verification**:\n",
    "  - Check CUDA version using `nvcc -V` command.\n",
    "  - Run sample programs like `deviceQuery.cu` and `bandWidthTest` to ensure GPU recognition and functionality.\n",
    "\n",
    "- **Uninstallation**:\n",
    "  - Uninstall CUDA via Windows Control Panel.\n",
    "\n",
    "- **Visual Studio Configuration**:\n",
    "  - Set up CUDA templates and specify the CUDA toolkit location in Visual Studio.\n",
    "\n",
    "---\n",
    "\n",
    "**PyTorch Installation with CUDA Support**\n",
    "\n",
    "- **Using pip**:\n",
    "  - Installation command: \n",
    "    ```bash\n",
    "    pip install torch torchvision torchaudio --extra-index-url https://download.pytorch.org/whl/cu<cuda_version>\n",
    "    ```\n",
    "    Replace `<cuda_version>` with your specific CUDA version (e.g., cu117).\n",
    "\n",
    "- **Using conda**:\n",
    "  - Installation command:\n",
    "    ```bash\n",
    "    conda install pytorch torchvision torchaudio -c pytorch -c nvidia\n",
    "    ```\n",
    "\n",
    "- **Verification**:\n",
    "  - Run a Python script to check if PyTorch can access the GPU:\n",
    "    ```python\n",
    "    import torch\n",
    "    print(\"Is CUDA available:\", torch.cuda.is_available())\n",
    "    ```\n",
    "\n",
    "- **Troubleshooting**:\n",
    "  - Ensure NVIDIA drivers are up to date.\n",
    "  - Match CUDA versions between PyTorch and the CUDA toolkit.\n",
    "  - Handle multiple GPUs or CUDA installations carefully.\n",
    "\n",
    "---\n",
    "\n",
    "**Additional Notes**\n",
    "\n",
    "- **32-bit Application Support**:\n",
    "  - Limited support for 32-bit applications, specific to certain GPU series.\n",
    "  \n",
    "- **System Compatibility**:\n",
    "  - Always verify system compatibility before installation.\n",
    "  \n",
    "- **Environment Variables**:\n",
    "  - Keep PATH and library locations updated for proper functionality.\n",
    "\n",
    "---\n",
    "\n",
    "This guide provides a structured approach to installing CUDA and PyTorch with CUDA support, ensuring that your development environment is properly configured for GPU-accelerated computing."
   ]
  },
  {
   "cell_type": "code",
   "execution_count": 1,
   "metadata": {},
   "outputs": [
    {
     "name": "stdout",
     "output_type": "stream",
     "text": [
      "tensor([[0.7592, 0.8177, 0.8950],\n",
      "        [0.4422, 0.2524, 0.3898],\n",
      "        [0.5518, 0.1493, 0.7134],\n",
      "        [0.3318, 0.1244, 0.6546],\n",
      "        [0.1562, 0.6895, 0.4980]])\n"
     ]
    }
   ],
   "source": [
    "import torch\n",
    "x = torch.rand(5, 3)\n",
    "print(x)"
   ]
  },
  {
   "cell_type": "code",
   "execution_count": 1,
   "metadata": {},
   "outputs": [
    {
     "name": "stdout",
     "output_type": "stream",
     "text": [
      "cpu\n"
     ]
    },
    {
     "data": {
      "text/plain": [
       "False"
      ]
     },
     "execution_count": 1,
     "metadata": {},
     "output_type": "execute_result"
    }
   ],
   "source": [
    "import torch\n",
    "device = torch.device('cuda' if torch.cuda.is_available() else 'cpu')\n",
    "print(device)\n",
    "torch.cuda.is_available()"
   ]
  },
  {
   "cell_type": "code",
   "execution_count": 6,
   "metadata": {},
   "outputs": [
    {
     "name": "stdout",
     "output_type": "stream",
     "text": [
      "Channels:\n",
      " - pytorch\n",
      " - nvidia\n",
      " - defaults\n",
      " - conda-forge\n",
      "Platform: win-64\n",
      "Collecting package metadata (repodata.json): ...working... done\n",
      "Solving environment: ...working... done\n",
      "\n",
      "## Package Plan ##\n",
      "\n",
      "  environment location: c:\\Users\\devil\\anaconda3\\envs\\flower2\n",
      "\n",
      "  added / updated specs:\n",
      "    - pytorch\n",
      "    - pytorch-cuda=11.8\n",
      "    - torchaudio\n",
      "    - torchvision\n",
      "\n",
      "\n",
      "The following NEW packages will be INSTALLED:\n",
      "\n",
      "  blas               pkgs/main/win-64::blas-1.0-mkl \n",
      "  brotli-python      pkgs/main/win-64::brotli-python-1.0.9-py310h5da7b33_9 \n",
      "  certifi            pkgs/main/win-64::certifi-2024.12.14-py310haa95532_0 \n",
      "  charset-normalizer pkgs/main/noarch::charset-normalizer-3.3.2-pyhd3eb1b0_0 \n",
      "  cuda-cccl          nvidia/win-64::cuda-cccl-12.6.77-0 \n",
      "  cuda-cccl_win-64   nvidia/noarch::cuda-cccl_win-64-12.6.77-0 \n",
      "  cuda-cudart        nvidia/win-64::cuda-cudart-11.8.89-0 \n",
      "  cuda-cudart-dev    nvidia/win-64::cuda-cudart-dev-11.8.89-0 \n",
      "  cuda-cupti         nvidia/win-64::cuda-cupti-11.8.87-0 \n",
      "  cuda-libraries     nvidia/win-64::cuda-libraries-11.8.0-0 \n",
      "  cuda-libraries-dev nvidia/win-64::cuda-libraries-dev-11.8.0-0 \n",
      "  cuda-nvrtc         nvidia/win-64::cuda-nvrtc-11.8.89-0 \n",
      "  cuda-nvrtc-dev     nvidia/win-64::cuda-nvrtc-dev-11.8.89-0 \n",
      "  cuda-nvtx          nvidia/win-64::cuda-nvtx-11.8.86-0 \n",
      "  cuda-profiler-api  nvidia/win-64::cuda-profiler-api-12.6.77-0 \n",
      "  cuda-runtime       nvidia/win-64::cuda-runtime-11.8.0-0 \n",
      "  cuda-version       nvidia/noarch::cuda-version-12.6-3 \n",
      "  filelock           pkgs/main/win-64::filelock-3.13.1-py310haa95532_0 \n",
      "  freetype           pkgs/main/win-64::freetype-2.12.1-ha860e81_0 \n",
      "  giflib             pkgs/main/win-64::giflib-5.2.2-h7edc060_0 \n",
      "  gmpy2              pkgs/main/win-64::gmpy2-2.1.2-py310h7f96b67_0 \n",
      "  idna               pkgs/main/win-64::idna-3.7-py310haa95532_0 \n",
      "  intel-openmp       pkgs/main/win-64::intel-openmp-2023.1.0-h59b6b97_46320 \n",
      "  jinja2             pkgs/main/win-64::jinja2-3.1.4-py310haa95532_1 \n",
      "  jpeg               pkgs/main/win-64::jpeg-9e-h827c3e9_3 \n",
      "  lcms2              pkgs/main/win-64::lcms2-2.16-hb4a4139_0 \n",
      "  lerc               pkgs/main/win-64::lerc-4.0.0-h5da7b33_0 \n",
      "  libcublas          nvidia/win-64::libcublas-11.11.3.6-0 \n",
      "  libcublas-dev      nvidia/win-64::libcublas-dev-11.11.3.6-0 \n",
      "  libcufft           nvidia/win-64::libcufft-10.9.0.58-0 \n",
      "  libcufft-dev       nvidia/win-64::libcufft-dev-10.9.0.58-0 \n",
      "  libcurand          nvidia/win-64::libcurand-10.3.7.77-0 \n",
      "  libcurand-dev      nvidia/win-64::libcurand-dev-10.3.7.77-0 \n",
      "  libcusolver        nvidia/win-64::libcusolver-11.4.1.48-0 \n",
      "  libcusolver-dev    nvidia/win-64::libcusolver-dev-11.4.1.48-0 \n",
      "  libcusparse        nvidia/win-64::libcusparse-11.7.5.86-0 \n",
      "  libcusparse-dev    nvidia/win-64::libcusparse-dev-11.7.5.86-0 \n",
      "  libdeflate         pkgs/main/win-64::libdeflate-1.22-h5bf469e_0 \n",
      "  libjpeg-turbo      pkgs/main/win-64::libjpeg-turbo-2.0.0-h196d8e1_0 \n",
      "  libnpp             nvidia/win-64::libnpp-11.8.0.86-0 \n",
      "  libnpp-dev         nvidia/win-64::libnpp-dev-11.8.0.86-0 \n",
      "  libnvjpeg          nvidia/win-64::libnvjpeg-11.9.0.86-0 \n",
      "  libnvjpeg-dev      nvidia/win-64::libnvjpeg-dev-11.9.0.86-0 \n",
      "  libpng             pkgs/main/win-64::libpng-1.6.39-h8cc25b3_0 \n",
      "  libtiff            pkgs/main/win-64::libtiff-4.5.1-h44ae7cf_1 \n",
      "  libuv              pkgs/main/win-64::libuv-1.48.0-h827c3e9_0 \n",
      "  libwebp            pkgs/main/win-64::libwebp-1.3.2-hbc33d0d_0 \n",
      "  libwebp-base       pkgs/main/win-64::libwebp-base-1.3.2-h3d04722_1 \n",
      "  lz4-c              pkgs/main/win-64::lz4-c-1.9.4-h2bbff1b_1 \n",
      "  markupsafe         pkgs/main/win-64::markupsafe-2.1.3-py310h827c3e9_1 \n",
      "  mkl                pkgs/main/win-64::mkl-2023.1.0-h6b88ed4_46358 \n",
      "  mkl-service        pkgs/main/win-64::mkl-service-2.4.0-py310h827c3e9_2 \n",
      "  mkl_fft            pkgs/main/win-64::mkl_fft-1.3.11-py310h827c3e9_0 \n",
      "  mkl_random         pkgs/main/win-64::mkl_random-1.2.8-py310hc64d2fc_0 \n",
      "  mpc                pkgs/main/win-64::mpc-1.1.0-h7edee0f_1 \n",
      "  mpfr               pkgs/main/win-64::mpfr-4.0.2-h62dcd97_1 \n",
      "  mpir               pkgs/main/win-64::mpir-3.0.0-hec2e145_1 \n",
      "  mpmath             pkgs/main/win-64::mpmath-1.3.0-py310haa95532_0 \n",
      "  networkx           pkgs/main/win-64::networkx-3.2.1-py310haa95532_0 \n",
      "  numpy              pkgs/main/win-64::numpy-2.0.1-py310h055cbcc_1 \n",
      "  numpy-base         pkgs/main/win-64::numpy-base-2.0.1-py310h65a83cf_1 \n",
      "  openjpeg           pkgs/main/win-64::openjpeg-2.5.2-hae555c5_0 \n",
      "  pillow             pkgs/main/win-64::pillow-11.0.0-py310h096bfcc_1 \n",
      "  pysocks            pkgs/main/win-64::pysocks-1.7.1-py310haa95532_0 \n",
      "  pytorch            pytorch/win-64::pytorch-2.5.1-py3.10_cuda11.8_cudnn9_0 \n",
      "  pytorch-cuda       pytorch/win-64::pytorch-cuda-11.8-h24eeafa_6 \n",
      "  pytorch-mutex      pytorch/noarch::pytorch-mutex-1.0-cuda \n",
      "  pyyaml             pkgs/main/win-64::pyyaml-6.0.2-py310h827c3e9_0 \n",
      "  requests           pkgs/main/win-64::requests-2.32.3-py310haa95532_1 \n",
      "  sympy              pkgs/main/win-64::sympy-1.13.3-py310haa95532_0 \n",
      "  tbb                pkgs/main/win-64::tbb-2021.8.0-h59b6b97_0 \n",
      "  torchaudio         pytorch/win-64::torchaudio-2.5.1-py310_cu118 \n",
      "  torchvision        pytorch/win-64::torchvision-0.20.1-py310_cu118 \n",
      "  urllib3            pkgs/main/win-64::urllib3-2.2.3-py310haa95532_0 \n",
      "  win_inet_pton      pkgs/main/win-64::win_inet_pton-1.1.0-py310haa95532_0 \n",
      "  yaml               pkgs/main/win-64::yaml-0.2.5-he774522_0 \n",
      "  zstd               pkgs/main/win-64::zstd-1.5.6-h8880b57_0 \n",
      "\n",
      "\n",
      "\n",
      "Downloading and Extracting Packages: ...working... done\n",
      "Preparing transaction: ...working... done\n",
      "Verifying transaction: ...working... done\n",
      "Executing transaction: ...working... done\n",
      "\n",
      "Note: you may need to restart the kernel to use updated packages.\n"
     ]
    }
   ],
   "source": [
    "# conda install pytorch torchvision torchaudio pytorch-cuda=11.8 -c pytorch -c nvidia"
   ]
  },
  {
   "cell_type": "markdown",
   "metadata": {},
   "source": [
    " https://stackoverflow.com/questions/20554074/sklearn-omp-error-15-initializing-libiomp5md-dll-but-found-mk2iomp5md-dll-a \n",
    "\n",
    "for error:\n",
    " Disposing session as kernel process died ExitCode: 3, Reason: OMP: Error #15: Initializing libiomp5md.dll, but found libiomp5md.dll already initialized. OMP: Hint This means that multiple copies of the OpenMP runtime have been linked into the program. That is dangerous, since it can degrade performance or cause incorrect results. The best thing to do is to ensure that only a single OpenMP runtime is linked into the process, e.g. by avoiding static linking of the OpenMP runtime in any library. As an unsafe, unsupported, undocumented workaround you can set the environment variable KMP_DUPLICATE_LIB_OK=TRUE to allow the program to continue to execute, but that may cause crashes or silently produce incorrect results. For more information, please see http://www.intel.com/software/products/support/."
   ]
  },
  {
   "cell_type": "code",
   "execution_count": null,
   "metadata": {},
   "outputs": [],
   "source": [
    "pip install flwr"
   ]
  },
  {
   "cell_type": "code",
   "execution_count": null,
   "metadata": {},
   "outputs": [],
   "source": []
  }
 ],
 "metadata": {
  "kernelspec": {
   "display_name": "flower2",
   "language": "python",
   "name": "python3"
  },
  "language_info": {
   "codemirror_mode": {
    "name": "ipython",
    "version": 3
   },
   "file_extension": ".py",
   "mimetype": "text/x-python",
   "name": "python",
   "nbconvert_exporter": "python",
   "pygments_lexer": "ipython3",
   "version": "3.10.16"
  },
  "orig_nbformat": 4
 },
 "nbformat": 4,
 "nbformat_minor": 2
}

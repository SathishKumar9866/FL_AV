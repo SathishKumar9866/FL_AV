{
 "cells": [
  {
   "cell_type": "code",
   "execution_count": 1,
   "metadata": {},
   "outputs": [
    {
     "name": "stdout",
     "output_type": "stream",
     "text": [
      "C:\\Users\\devil\\Downloads\n"
     ]
    }
   ],
   "source": [
    "import os\n",
    "\n",
    "# downloads_dir = os.path.expanduser(r\"C:\\Users\\SIU856522160\\Downloads\\major\")  # Get the full path to the Downloads folder\n",
    "downloads_dir = os.path.expanduser(r\"C:\\Users\\devil\\Downloads\")  # Get the full path to the Downloads folder\n",
    "os.chdir(downloads_dir)  # Change the current working directory to the Downloads folder\n",
    "current_directory = os.getcwd()\n",
    "print(current_directory)"
   ]
  },
  {
   "cell_type": "code",
   "execution_count": 2,
   "metadata": {},
   "outputs": [],
   "source": [
    "# !conda create --name federated_learning python=3.11.5 -y"
   ]
  },
  {
   "cell_type": "code",
   "execution_count": 3,
   "metadata": {},
   "outputs": [],
   "source": [
    "# # Activate the Conda environment \n",
    "# !conda activate federated_learning\n",
    "# # Print a message\n",
    "# print(\"Conda environment 'federated_learning' is activated!\")\n",
    "# # List Conda environments (using system shell command)\n",
    "# !conda env list"
   ]
  },
  {
   "cell_type": "code",
   "execution_count": 4,
   "metadata": {},
   "outputs": [],
   "source": [
    "# !conda deactivate"
   ]
  },
  {
   "cell_type": "code",
   "execution_count": 5,
   "metadata": {},
   "outputs": [],
   "source": [
    "# !pip freeze > requirements.txt"
   ]
  },
  {
   "cell_type": "code",
   "execution_count": 6,
   "metadata": {},
   "outputs": [],
   "source": [
    "# import subprocess\n",
    "\n",
    "# # Run pip freeze command and capture the output\n",
    "# output = subprocess.check_output(['pip', 'freeze']).decode('utf-8')\n",
    "\n",
    "# # Extract module names from the output, removing version numbers and additional text\n",
    "# module_names = [line.split('==')[0].split('@')[0] for line in output.split('\\n') if '@' not in line]\n",
    "# module_names\n",
    "# # Save module names to requirements.txt file\n",
    "# with open('requirements_FedML.txt', 'w') as file:\n",
    "#     file.write('\\n'.join(module_names))\n"
   ]
  },
  {
   "cell_type": "code",
   "execution_count": 7,
   "metadata": {},
   "outputs": [],
   "source": [
    "# !pip install -r requirements.txt"
   ]
  },
  {
   "cell_type": "code",
   "execution_count": 8,
   "metadata": {},
   "outputs": [],
   "source": [
    "# !pip install fedml --upgrade"
   ]
  },
  {
   "cell_type": "markdown",
   "metadata": {},
   "source": [
    "# req file creation"
   ]
  },
  {
   "cell_type": "code",
   "execution_count": 9,
   "metadata": {},
   "outputs": [],
   "source": [
    "# !pip freeze > requirements.txt\n",
    "\n",
    "# \"\"\"This command redirects the output of pip freeze to a file named requirements.txt. \n",
    "# You can choose a different name for the file if you prefer.\"\"\""
   ]
  },
  {
   "cell_type": "code",
   "execution_count": null,
   "metadata": {},
   "outputs": [],
   "source": [
    "# Use the below code for Fed"
   ]
  },
  {
   "cell_type": "code",
   "execution_count": 16,
   "metadata": {},
   "outputs": [],
   "source": [
    "with open(r'C:\\Users\\devil\\Downloads\\major\\installations\\cuda_test_file\\requirements.txt', 'r') as file:\n",
    "    lines = file.readlines()\n",
    "#useful code for a lot of times and updated for better version.\n",
    "with open(r'C:\\Users\\devil\\Downloads\\major\\installations\\cuda_test_file\\Fedml_cleaned_requirements.txt', 'w') as output_file:\n",
    "    for line in lines:\n",
    "        module_name = line.split('==')[0].split(\"~=\")[0].split(\">=\")[0].split('@')[0].strip()\n",
    "        output_file.write(module_name + '\\n')\n",
    "\n"
   ]
  },
  {
   "cell_type": "code",
   "execution_count": 11,
   "metadata": {},
   "outputs": [],
   "source": [
    "# !pip install -U scikit-learn\n",
    "# conda install -c anaconda scikit-learn\n",
    "# conda install -c anaconda pyyaml=5.4.1"
   ]
  },
  {
   "cell_type": "markdown",
   "metadata": {},
   "source": [
    "# adding conda to the cmd is using env"
   ]
  },
  {
   "cell_type": "code",
   "execution_count": 12,
   "metadata": {},
   "outputs": [],
   "source": [
    "### openfl not found for 3.11"
   ]
  },
  {
   "cell_type": "code",
   "execution_count": 13,
   "metadata": {},
   "outputs": [
    {
     "data": {
      "text/plain": [
       "'\\n1. add the sys env to the path :\\n    in my case \"C:\\\\Users\\\\SIU856522160\\\\Anaconda3\\\\Scripts\">> PATH var\\n2. now open git bash run this cmd >> \\nconda init <SHELL_NAME>\\nselect anyone from this list:>>\\nCurrently supported shells are:\\n- bash\\n- cmd.exe\\n- fish\\n- tcsh\\n- xonsh\\n- zsh\\n- powershell\\n\\n3. Restart your shell: After running conda init, close the current terminal or command prompt window and open a new one. This step is essential to apply the changes made by conda init.\\n\\n4. Activate your environment: Once you have restarted your shell, you should be able to use the conda activate command. Try running the activation command again:\\n'"
      ]
     },
     "execution_count": 13,
     "metadata": {},
     "output_type": "execute_result"
    }
   ],
   "source": [
    "rf\"\"\"\n",
    "1. add the sys env to the path :\n",
    "    in my case \"C:\\Users\\SIU856522160\\Anaconda3\\Scripts\">> PATH var\n",
    "2. now open git bash run this cmd >> \n",
    "conda init <SHELL_NAME>\n",
    "select anyone from this list:>>\n",
    "Currently supported shells are:\n",
    "- bash\n",
    "- cmd.exe\n",
    "- fish\n",
    "- tcsh\n",
    "- xonsh\n",
    "- zsh\n",
    "- powershell\n",
    "\n",
    "3. Restart your shell: After running conda init, close the current terminal or command prompt window and open a new one. This step is essential to apply the changes made by conda init.\n",
    "\n",
    "4. Activate your environment: Once you have restarted your shell, you should be able to use the conda activate command. Try running the activation command again:\n",
    "\"\"\""
   ]
  },
  {
   "cell_type": "markdown",
   "metadata": {},
   "source": [
    "# MPI installation"
   ]
  },
  {
   "cell_type": "code",
   "execution_count": 14,
   "metadata": {},
   "outputs": [],
   "source": [
    "#visit https://www.microsoft.com/en-us/download/confirmation.aspx?id=57467\n"
   ]
  }
 ],
 "metadata": {
  "kernelspec": {
   "display_name": "venv",
   "language": "python",
   "name": "python3"
  },
  "language_info": {
   "codemirror_mode": {
    "name": "ipython",
    "version": 3
   },
   "file_extension": ".py",
   "mimetype": "text/x-python",
   "name": "python",
   "nbconvert_exporter": "python",
   "pygments_lexer": "ipython3",
   "version": "3.11.5"
  },
  "orig_nbformat": 4
 },
 "nbformat": 4,
 "nbformat_minor": 2
}

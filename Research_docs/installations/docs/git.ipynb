{
 "cells": [
  {
   "attachments": {},
   "cell_type": "markdown",
   "metadata": {},
   "source": [
    "# git cmds for future use"
   ]
  },
  {
   "attachments": {},
   "cell_type": "markdown",
   "metadata": {},
   "source": [
    "Run the following command to create an alias for the desired functionality:\n",
    "\n",
    ">> git config --global alias.acp '!git add -A && git commit -m'\n",
    "\n",
    "This creates an alias named \"acp\" that combines the git add -A command (to stage all changes), followed by git commit -m (to commit the changes).\n",
    "\n",
    "Now, you can use the newly created alias \"acp\" followed by your commit message to add, commit, and push your changes in one command. For example:\n",
    "\n",
    ">> git acp \"Your commit message\"\n",
    "This command stages all changes, commits them with the provided commit message, and then pushes the changes to the remote repository."
   ]
  }
 ],
 "metadata": {
  "language_info": {
   "name": "python"
  },
  "orig_nbformat": 4
 },
 "nbformat": 4,
 "nbformat_minor": 2
}

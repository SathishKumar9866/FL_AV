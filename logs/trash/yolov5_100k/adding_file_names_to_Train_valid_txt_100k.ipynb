{
 "cells": [
  {
   "cell_type": "code",
   "execution_count": 1,
   "metadata": {},
   "outputs": [],
   "source": [
    "import os\n",
    "import shutil"
   ]
  },
  {
   "attachments": {},
   "cell_type": "markdown",
   "metadata": {},
   "source": [
    "# this code blocks denote the usage of  for 100k\n",
    "            ### append \".\\data\\images\\\\\" at the beginning the line  "
   ]
  },
  {
   "cell_type": "code",
   "execution_count": 3,
   "metadata": {},
   "outputs": [],
   "source": [
    "train_dir = r\"C:\\Users\\SIU856522160\\expo_1\\bdd100k\\images\\100k\\train\"\n",
    "filenames = os.listdir(train_dir)\n",
    "\n",
    "with open(r\"C:\\Users\\SIU856522160\\Downloads\\final repo\\yolov5_100k\\100k\\train_yolov5.txt\", \"w\") as f:\n",
    "    for filename in filenames:\n",
    "        f.write(\".\\data\\images\\\\train\\\\\"+filename+ \"\\n\")\n",
    "f.close()"
   ]
  },
  {
   "cell_type": "code",
   "execution_count": 6,
   "metadata": {},
   "outputs": [],
   "source": [
    "val_dir = r\"C:\\Users\\SIU856522160\\expo_1\\bdd100k\\images\\100k\\val\"\n",
    "filenames = os.listdir(val_dir)\n",
    "\n",
    "with open(r\"C:\\Users\\SIU856522160\\Downloads\\final repo\\yolov5_100k\\100k\\val.txt\", \"w\") as f:\n",
    "    for filename in filenames:\n",
    "        f.write(\".\\data\\images\\\\val\\\\\"+filename+ \"\\n\")\n",
    "f.close()"
   ]
  }
 ],
 "metadata": {
  "kernelspec": {
   "display_name": "venv",
   "language": "python",
   "name": "python3"
  },
  "language_info": {
   "codemirror_mode": {
    "name": "ipython",
    "version": 3
   },
   "file_extension": ".py",
   "mimetype": "text/x-python",
   "name": "python",
   "nbconvert_exporter": "python",
   "pygments_lexer": "ipython3",
   "version": "3.10.9"
  },
  "orig_nbformat": 4,
  "vscode": {
   "interpreter": {
    "hash": "dbb7df8212c501dd8c2adbb725d9a6c9f6f2648703e0c80bc5b41f289866512f"
   }
  }
 },
 "nbformat": 4,
 "nbformat_minor": 2
}

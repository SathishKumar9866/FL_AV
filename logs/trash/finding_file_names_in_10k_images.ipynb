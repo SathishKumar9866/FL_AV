{
 "cells": [
  {
   "cell_type": "code",
   "execution_count": 1,
   "metadata": {},
   "outputs": [],
   "source": [
    "import os"
   ]
  },
  {
   "attachments": {},
   "cell_type": "markdown",
   "metadata": {},
   "source": [
    "### finding filenames in the train dir and saving in a .txt file"
   ]
  },
  {
   "cell_type": "code",
   "execution_count": 2,
   "metadata": {},
   "outputs": [
    {
     "name": "stdout",
     "output_type": "stream",
     "text": [
      "train_folder_file_names created\n"
     ]
    }
   ],
   "source": [
    "train_dir = r\"C:\\Users\\SIU856522160\\Downloads\\export_floder_10k\\10k\\train\"\n",
    "filenames = os.listdir(train_dir)\n",
    "\n",
    "with open(r\"C:\\Users\\SIU856522160\\Downloads\\final repo\\yolov5_10k\\10k\\train_names.txt\", \"w\") as f:\n",
    "    for filename in filenames:\n",
    "        f.write(filename + \"\\n\")\n",
    "f.close()\n",
    "print(\"train_folder_file_names created\")"
   ]
  },
  {
   "cell_type": "code",
   "execution_count": 3,
   "metadata": {},
   "outputs": [
    {
     "name": "stdout",
     "output_type": "stream",
     "text": [
      "test_folder_file_names created\n"
     ]
    }
   ],
   "source": [
    "test_dir = r\"C:\\Users\\SIU856522160\\Downloads\\export_floder_10k\\10k\\test\"\n",
    "filenames = os.listdir(test_dir)\n",
    "\n",
    "with open(r\"C:\\Users\\SIU856522160\\Downloads\\final repo\\yolov5_10k\\10k\\test_names.txt\", \"w\") as f:\n",
    "    for filename in filenames:\n",
    "        f.write(filename + \"\\n\")\n",
    "f.close()\n",
    "print(\"test_folder_file_names created\")"
   ]
  },
  {
   "cell_type": "code",
   "execution_count": 4,
   "metadata": {},
   "outputs": [
    {
     "name": "stdout",
     "output_type": "stream",
     "text": [
      "val_folder_file_names created\n"
     ]
    }
   ],
   "source": [
    "val_dir = r\"C:\\Users\\SIU856522160\\Downloads\\export_floder_10k\\10k\\val\"\n",
    "filenames = os.listdir(val_dir)\n",
    "\n",
    "with open(r\"C:\\Users\\SIU856522160\\Downloads\\final repo\\yolov5_10k\\10k\\val_names.txt\", \"w\") as f:\n",
    "    for filename in filenames:\n",
    "        f.write(filename + \"\\n\")\n",
    "f.close()\n",
    "print(\"val_folder_file_names created\")"
   ]
  }
 ],
 "metadata": {
  "kernelspec": {
   "display_name": "Python 3",
   "language": "python",
   "name": "python3"
  },
  "language_info": {
   "codemirror_mode": {
    "name": "ipython",
    "version": 3
   },
   "file_extension": ".py",
   "mimetype": "text/x-python",
   "name": "python",
   "nbconvert_exporter": "python",
   "pygments_lexer": "ipython3",
   "version": "3.10.9"
  },
  "orig_nbformat": 4,
  "vscode": {
   "interpreter": {
    "hash": "97c28bcac64cb74513060d0e89b23af4833310313f0149ff7647f2e76c466513"
   }
  }
 },
 "nbformat": 4,
 "nbformat_minor": 2
}

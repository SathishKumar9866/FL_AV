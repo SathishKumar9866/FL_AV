{
 "cells": [
  {
   "cell_type": "code",
   "execution_count": 1,
   "metadata": {},
   "outputs": [
    {
     "data": {
      "text/plain": [
       "'C:\\\\Users\\\\SIU856522160\\\\Downloads'"
      ]
     },
     "execution_count": 1,
     "metadata": {},
     "output_type": "execute_result"
    }
   ],
   "source": [
    "import os\n",
    "import sys\n",
    "\n",
    "# Change to a different directory\n",
    "os.chdir(r'C:\\Users\\SIU856522160\\Downloads')\n",
    "# Get the new default path\n",
    "os.getcwd()"
   ]
  },
  {
   "cell_type": "code",
   "execution_count": 3,
   "metadata": {},
   "outputs": [
    {
     "name": "stdout",
     "output_type": "stream",
     "text": [
      "C:\\Users\\SIU856522160\\Downloads\n",
      "An error occurred: Command '['python', '.\\\\major\\\\labelling_test\\\\labelImg-master\\\\labelImg.py', '.\\\\100k\\\\val\\\\fe194677-e2d2ac8c.jpg', '.\\\\100k\\\\val\\\\fe194677-e2d2ac8c.txt']' returned non-zero exit status 3221226505.\n"
     ]
    }
   ],
   "source": [
    "import subprocess\n",
    "import os\n",
    "\n",
    "# Change to a different directory\n",
    "new_directory = r'C:\\Users\\SIU856522160\\Downloads'\n",
    "os.chdir(new_directory)\n",
    "\n",
    "# Print the new working directory\n",
    "print(os.getcwd())\n",
    "\n",
    "# Define the path to labelImg.py and the required parameters\n",
    "labelimg_script = r\".\\major\\labelling_test\\labelImg-master\\labelImg.py\"\n",
    "image_path = r\".\\100k\\val\\fe194677-e2d2ac8c.jpg\"\n",
    "class_file = r\".\\100k\\val\\fe194677-e2d2ac8c.txt\"\n",
    "\n",
    "# Construct the command to run labelImg.py\n",
    "command = [\n",
    "    \"python\",        # Command to run Python\n",
    "    labelimg_script, # Path to labelImg.py\n",
    "    image_path,      # Path to the directory containing images\n",
    "    class_file       # Path to the pre-defined class file\n",
    "]\n",
    "\n",
    "try:\n",
    "    # Run labelImg.py with subprocess\n",
    "    subprocess.run(command, check=True)\n",
    "except subprocess.CalledProcessError as e:\n",
    "    print(f\"An error occurred: {e}\")\n"
   ]
  },
  {
   "cell_type": "markdown",
   "metadata": {},
   "source": []
  }
 ],
 "metadata": {
  "kernelspec": {
   "display_name": "venv",
   "language": "python",
   "name": "python3"
  },
  "language_info": {
   "codemirror_mode": {
    "name": "ipython",
    "version": 3
   },
   "file_extension": ".py",
   "mimetype": "text/x-python",
   "name": "python",
   "nbconvert_exporter": "python",
   "pygments_lexer": "ipython3",
   "version": "3.10.9"
  },
  "orig_nbformat": 4
 },
 "nbformat": 4,
 "nbformat_minor": 2
}

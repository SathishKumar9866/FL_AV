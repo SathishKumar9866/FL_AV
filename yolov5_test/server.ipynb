{
 "cells": [
  {
   "cell_type": "code",
   "execution_count": 1,
   "metadata": {},
   "outputs": [],
   "source": [
    "import torch\n",
    "import os\n",
    "import subprocess\n",
    "import socket\n",
    "from multiprocessing import Pool\n",
    "from models.yolo import Model\n",
    "import flwr as fl\n"
   ]
  },
  {
   "cell_type": "code",
   "execution_count": 2,
   "metadata": {},
   "outputs": [
    {
     "data": {
      "text/plain": [
       "'C:\\\\Users\\\\SIU856522160\\\\Downloads\\\\yolov5'"
      ]
     },
     "execution_count": 2,
     "metadata": {},
     "output_type": "execute_result"
    }
   ],
   "source": [
    "# Change to a different directory\n",
    "os.chdir(r'C:\\Users\\SIU856522160\\Downloads\\yolov5')\n",
    "# Get the new default path\n",
    "os.getcwd()"
   ]
  },
  {
   "cell_type": "code",
   "execution_count": 3,
   "metadata": {},
   "outputs": [],
   "source": [
    "# Load the YOLOv5 model\n",
    "# model = Model('models/yolov5s.yaml')\n",
    "# # Print the model architecture\n",
    "# print(model)"
   ]
  },
  {
   "cell_type": "code",
   "execution_count": null,
   "metadata": {},
   "outputs": [],
   "source": []
  },
  {
   "cell_type": "code",
   "execution_count": 4,
   "metadata": {},
   "outputs": [
    {
     "name": "stderr",
     "output_type": "stream",
     "text": [
      "INFO flwr 2023-06-29 10:21:57,263 | app.py:139 | Starting Flower server, config: ServerConfig(num_rounds=1, round_timeout=None)\n",
      "INFO flwr 2023-06-29 10:21:57,317 | app.py:152 | Flower ECE: gRPC server running (1 rounds), SSL is disabled\n",
      "INFO flwr 2023-06-29 10:21:57,318 | server.py:86 | Initializing global parameters\n",
      "INFO flwr 2023-06-29 10:21:57,319 | server.py:270 | Requesting initial parameters from one random client\n",
      "INFO flwr 2023-06-30 10:21:58,262 | client_manager.py:189 | Sampling failed: number of available clients (0) is less than number of requested clients (1).\n"
     ]
    },
    {
     "ename": "IndexError",
     "evalue": "list index out of range",
     "output_type": "error",
     "traceback": [
      "\u001b[1;31m---------------------------------------------------------------------------\u001b[0m",
      "\u001b[1;31mIndexError\u001b[0m                                Traceback (most recent call last)",
      "Cell \u001b[1;32mIn[4], line 12\u001b[0m\n\u001b[0;32m      6\u001b[0m strategy \u001b[39m=\u001b[39m fl\u001b[39m.\u001b[39mserver\u001b[39m.\u001b[39mstrategy\u001b[39m.\u001b[39mFedAvg(\n\u001b[0;32m      7\u001b[0m     fraction_fit\u001b[39m=\u001b[39m\u001b[39m1.0\u001b[39m,\n\u001b[0;32m      8\u001b[0m     fraction_evaluate\u001b[39m=\u001b[39m\u001b[39m1.0\u001b[39m,\n\u001b[0;32m      9\u001b[0m )\n\u001b[0;32m     11\u001b[0m \u001b[39m# Start server\u001b[39;00m\n\u001b[1;32m---> 12\u001b[0m fl\u001b[39m.\u001b[39;49mserver\u001b[39m.\u001b[39;49mstart_server(\n\u001b[0;32m     13\u001b[0m     server_address\u001b[39m=\u001b[39;49m\u001b[39m\"\u001b[39;49m\u001b[39m127.0.0.1:8080\u001b[39;49m\u001b[39m\"\u001b[39;49m,\n\u001b[0;32m     14\u001b[0m     config\u001b[39m=\u001b[39;49mfl\u001b[39m.\u001b[39;49mserver\u001b[39m.\u001b[39;49mServerConfig(),\n\u001b[0;32m     15\u001b[0m     strategy\u001b[39m=\u001b[39;49mstrategy,\n\u001b[0;32m     16\u001b[0m )\n",
      "File \u001b[1;32mc:\\Users\\SIU856522160\\Anaconda3\\envs\\venv\\lib\\site-packages\\flwr\\server\\app.py:160\u001b[0m, in \u001b[0;36mstart_server\u001b[1;34m(server_address, server, config, strategy, client_manager, grpc_max_message_length, certificates)\u001b[0m\n\u001b[0;32m    152\u001b[0m log(\n\u001b[0;32m    153\u001b[0m     INFO,\n\u001b[0;32m    154\u001b[0m     \u001b[39m\"\u001b[39m\u001b[39mFlower ECE: gRPC server running (\u001b[39m\u001b[39m%s\u001b[39;00m\u001b[39m rounds), SSL is \u001b[39m\u001b[39m%s\u001b[39;00m\u001b[39m\"\u001b[39m,\n\u001b[0;32m    155\u001b[0m     initialized_config\u001b[39m.\u001b[39mnum_rounds,\n\u001b[0;32m    156\u001b[0m     \u001b[39m\"\u001b[39m\u001b[39menabled\u001b[39m\u001b[39m\"\u001b[39m \u001b[39mif\u001b[39;00m certificates \u001b[39mis\u001b[39;00m \u001b[39mnot\u001b[39;00m \u001b[39mNone\u001b[39;00m \u001b[39melse\u001b[39;00m \u001b[39m\"\u001b[39m\u001b[39mdisabled\u001b[39m\u001b[39m\"\u001b[39m,\n\u001b[0;32m    157\u001b[0m )\n\u001b[0;32m    159\u001b[0m \u001b[39m# Start training\u001b[39;00m\n\u001b[1;32m--> 160\u001b[0m hist \u001b[39m=\u001b[39m _fl(\n\u001b[0;32m    161\u001b[0m     server\u001b[39m=\u001b[39;49minitialized_server,\n\u001b[0;32m    162\u001b[0m     config\u001b[39m=\u001b[39;49minitialized_config,\n\u001b[0;32m    163\u001b[0m )\n\u001b[0;32m    165\u001b[0m \u001b[39m# Stop the gRPC server\u001b[39;00m\n\u001b[0;32m    166\u001b[0m grpc_server\u001b[39m.\u001b[39mstop(grace\u001b[39m=\u001b[39m\u001b[39m1\u001b[39m)\n",
      "File \u001b[1;32mc:\\Users\\SIU856522160\\Anaconda3\\envs\\venv\\lib\\site-packages\\flwr\\server\\app.py:201\u001b[0m, in \u001b[0;36m_fl\u001b[1;34m(server, config)\u001b[0m\n\u001b[0;32m    196\u001b[0m \u001b[39mdef\u001b[39;00m \u001b[39m_fl\u001b[39m(\n\u001b[0;32m    197\u001b[0m     server: Server,\n\u001b[0;32m    198\u001b[0m     config: ServerConfig,\n\u001b[0;32m    199\u001b[0m ) \u001b[39m-\u001b[39m\u001b[39m>\u001b[39m History:\n\u001b[0;32m    200\u001b[0m     \u001b[39m# Fit model\u001b[39;00m\n\u001b[1;32m--> 201\u001b[0m     hist \u001b[39m=\u001b[39m server\u001b[39m.\u001b[39;49mfit(num_rounds\u001b[39m=\u001b[39;49mconfig\u001b[39m.\u001b[39;49mnum_rounds, timeout\u001b[39m=\u001b[39;49mconfig\u001b[39m.\u001b[39;49mround_timeout)\n\u001b[0;32m    202\u001b[0m     log(INFO, \u001b[39m\"\u001b[39m\u001b[39mapp_fit: losses_distributed \u001b[39m\u001b[39m%s\u001b[39;00m\u001b[39m\"\u001b[39m, \u001b[39mstr\u001b[39m(hist\u001b[39m.\u001b[39mlosses_distributed))\n\u001b[0;32m    203\u001b[0m     log(INFO, \u001b[39m\"\u001b[39m\u001b[39mapp_fit: metrics_distributed \u001b[39m\u001b[39m%s\u001b[39;00m\u001b[39m\"\u001b[39m, \u001b[39mstr\u001b[39m(hist\u001b[39m.\u001b[39mmetrics_distributed))\n",
      "File \u001b[1;32mc:\\Users\\SIU856522160\\Anaconda3\\envs\\venv\\lib\\site-packages\\flwr\\server\\server.py:87\u001b[0m, in \u001b[0;36mServer.fit\u001b[1;34m(self, num_rounds, timeout)\u001b[0m\n\u001b[0;32m     85\u001b[0m \u001b[39m# Initialize parameters\u001b[39;00m\n\u001b[0;32m     86\u001b[0m log(INFO, \u001b[39m\"\u001b[39m\u001b[39mInitializing global parameters\u001b[39m\u001b[39m\"\u001b[39m)\n\u001b[1;32m---> 87\u001b[0m \u001b[39mself\u001b[39m\u001b[39m.\u001b[39mparameters \u001b[39m=\u001b[39m \u001b[39mself\u001b[39;49m\u001b[39m.\u001b[39;49m_get_initial_parameters(timeout\u001b[39m=\u001b[39;49mtimeout)\n\u001b[0;32m     88\u001b[0m log(INFO, \u001b[39m\"\u001b[39m\u001b[39mEvaluating initial parameters\u001b[39m\u001b[39m\"\u001b[39m)\n\u001b[0;32m     89\u001b[0m res \u001b[39m=\u001b[39m \u001b[39mself\u001b[39m\u001b[39m.\u001b[39mstrategy\u001b[39m.\u001b[39mevaluate(\u001b[39m0\u001b[39m, parameters\u001b[39m=\u001b[39m\u001b[39mself\u001b[39m\u001b[39m.\u001b[39mparameters)\n",
      "File \u001b[1;32mc:\\Users\\SIU856522160\\Anaconda3\\envs\\venv\\lib\\site-packages\\flwr\\server\\server.py:271\u001b[0m, in \u001b[0;36mServer._get_initial_parameters\u001b[1;34m(self, timeout)\u001b[0m\n\u001b[0;32m    269\u001b[0m \u001b[39m# Get initial parameters from one of the clients\u001b[39;00m\n\u001b[0;32m    270\u001b[0m log(INFO, \u001b[39m\"\u001b[39m\u001b[39mRequesting initial parameters from one random client\u001b[39m\u001b[39m\"\u001b[39m)\n\u001b[1;32m--> 271\u001b[0m random_client \u001b[39m=\u001b[39m \u001b[39mself\u001b[39;49m\u001b[39m.\u001b[39;49m_client_manager\u001b[39m.\u001b[39;49msample(\u001b[39m1\u001b[39;49m)[\u001b[39m0\u001b[39;49m]\n\u001b[0;32m    272\u001b[0m ins \u001b[39m=\u001b[39m GetParametersIns(config\u001b[39m=\u001b[39m{})\n\u001b[0;32m    273\u001b[0m get_parameters_res \u001b[39m=\u001b[39m random_client\u001b[39m.\u001b[39mget_parameters(ins\u001b[39m=\u001b[39mins, timeout\u001b[39m=\u001b[39mtimeout)\n",
      "\u001b[1;31mIndexError\u001b[0m: list index out of range"
     ]
    }
   ],
   "source": [
    "import flwr as fl\n",
    "\n",
    "\n",
    "if __name__ == \"__main__\":\n",
    "    # Define strategy\n",
    "    strategy = fl.server.strategy.FedAvg(\n",
    "        fraction_fit=1.0,\n",
    "        fraction_evaluate=1.0,\n",
    "    )\n",
    "\n",
    "    # Start server\n",
    "    fl.server.start_server(\n",
    "        server_address=\"127.0.0.1:8080\",\n",
    "        config=fl.server.ServerConfig(),\n",
    "        strategy=strategy,\n",
    "    )"
   ]
  },
  {
   "cell_type": "code",
   "execution_count": null,
   "metadata": {},
   "outputs": [],
   "source": []
  }
 ],
 "metadata": {
  "kernelspec": {
   "display_name": "venv",
   "language": "python",
   "name": "python3"
  },
  "language_info": {
   "codemirror_mode": {
    "name": "ipython",
    "version": 3
   },
   "file_extension": ".py",
   "mimetype": "text/x-python",
   "name": "python",
   "nbconvert_exporter": "python",
   "pygments_lexer": "ipython3",
   "version": "3.10.9"
  },
  "orig_nbformat": 4
 },
 "nbformat": 4,
 "nbformat_minor": 2
}

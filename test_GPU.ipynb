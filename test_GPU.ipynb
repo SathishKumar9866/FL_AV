{
  "nbformat": 4,
  "nbformat_minor": 0,
  "metadata": {
    "colab": {
      "provenance": [],
      "gpuType": "T4",
      "authorship_tag": "ABX9TyOxD7CDH+q4ceXaToUpwQHx",
      "include_colab_link": true
    },
    "kernelspec": {
      "name": "python3",
      "display_name": "Python 3"
    },
    "language_info": {
      "name": "python"
    },
    "accelerator": "GPU"
  },
  "cells": [
    {
      "cell_type": "markdown",
      "metadata": {
        "id": "view-in-github",
        "colab_type": "text"
      },
      "source": [
        "<a href=\"https://colab.research.google.com/github/devilKumarAI/FL_AV/blob/check_copy_1/test_GPU.ipynb\" target=\"_parent\"><img src=\"https://colab.research.google.com/assets/colab-badge.svg\" alt=\"Open In Colab\"/></a>"
      ]
    },
    {
      "cell_type": "code",
      "source": [],
      "metadata": {
        "id": "RTzRPi6cuHEJ"
      },
      "execution_count": null,
      "outputs": []
    },
    {
      "cell_type": "code",
      "source": [
        "import os\n",
        "import logging\n",
        "import subprocess\n",
        "import sys\n",
        "\n",
        "# 1) Create a logs directory if it doesn't exist\n",
        "LOG_DIR = \"logs\"\n",
        "if not os.path.exists(LOG_DIR):\n",
        "    os.makedirs(LOG_DIR)\n",
        "\n",
        "# 2) Configure logging to write to logs/installation.log\n",
        "logging.basicConfig(\n",
        "    filename=os.path.join(LOG_DIR, \"installation.log\"),\n",
        "    level=logging.INFO,\n",
        "    format=\"%(asctime)s - %(levelname)s - %(message)s\"\n",
        ")\n",
        "\n",
        "def run_command(command: str):\n",
        "    \"\"\"\n",
        "    Run a shell command in Python, log its usage and status.\n",
        "    \"\"\"\n",
        "    logging.info(f\"Running command: {command}\")\n",
        "    try:\n",
        "        subprocess.check_call(command, shell=True)\n",
        "        logging.info(\"Command completed successfully.\")\n",
        "    except subprocess.CalledProcessError as e:\n",
        "        logging.error(f\"Command failed with error: {str(e)}\")\n",
        "        # Exit or raise an exception depending on your preference.\n",
        "        sys.exit(1)"
      ],
      "metadata": {
        "id": "qDcKFJpiMfxA"
      },
      "execution_count": 1,
      "outputs": []
    },
    {
      "cell_type": "code",
      "source": [
        "# 3) Clone GitHub repository if not already present\n",
        "FL_AV_PATH = \"/content/FL_AV\"\n",
        "if not os.path.exists(FL_AV_PATH):\n",
        "    logging.info(\"Repository not found. Cloning...\")\n",
        "    run_command(\"git clone https://github.com/devilKumar9866/FL_AV.git\")\n",
        "\n",
        "    # Checkout to check_copy_1 branch\n",
        "    run_command(\"cd /content/FL_AV && git checkout check_copy_1\")\n",
        "else:\n",
        "    logging.info(\"Repository already present. Skipping clone.\")\n",
        "\n",
        "    # Ensure we are on the correct branch\n",
        "    run_command(\"cd /content/FL_AV && git fetch && git checkout check_copy_1\")\n"
      ],
      "metadata": {
        "id": "B-600SSEMivw"
      },
      "execution_count": 2,
      "outputs": []
    },
    {
      "cell_type": "code",
      "source": [
        "# 4) List files in the directory\n",
        "try:\n",
        "    files = os.listdir(FL_AV_PATH)\n",
        "    print(\"Files in /content/FL_AV/:\", files)\n",
        "    logging.info(f\"Files in /content/FL_AV/: {files}\")\n",
        "except FileNotFoundError:\n",
        "    logging.error(f\"Directory {FL_AV_PATH} not found after clone attempt.\")\n",
        "    sys.exit(1)\n"
      ],
      "metadata": {
        "id": "ZeDJd1GGMp3J",
        "outputId": "5f199e5a-cc86-44fb-bda7-d37c9981adea",
        "colab": {
          "base_uri": "https://localhost:8080/"
        }
      },
      "execution_count": 3,
      "outputs": [
        {
          "output_type": "stream",
          "name": "stdout",
          "text": [
            "Files in /content/FL_AV/: ['README.md', 'json_to_yolo', 'test_GPU.ipynb', '.vscode', 'my-project', '.git', 'temp_del', '.gitattributes', 'Research_docs', '.gitignore']\n"
          ]
        }
      ]
    },
    {
      "cell_type": "code",
      "source": [
        "# 5) Install necessary dependencies\n",
        "run_command(\"pip install tensorflow keras\")\n",
        "run_command(\"pip install torch torchvision\")\n",
        "run_command(\"pip install -U flwr\")\n",
        "run_command(\"pip install -U 'flwr[simulation]'\")\n",
        "run_command(\"pip install torch==2.0.0 torchvision==0.15.0+cu117 --index-url https://download.pytorch.org/whl/cu117\")"
      ],
      "metadata": {
        "id": "3EwjZdGiMtd9"
      },
      "execution_count": 4,
      "outputs": []
    },
    {
      "cell_type": "code",
      "source": [
        "# 6) Check GPU information\n",
        "run_command(\"nvidia-smi\")\n",
        "\n",
        "# 7) Check CUDA version\n",
        "run_command(\"nvcc --version\")"
      ],
      "metadata": {
        "id": "UkxeK9s4M0J2"
      },
      "execution_count": 5,
      "outputs": []
    },
    {
      "cell_type": "code",
      "source": [
        "# # 8) Check if GPU is available in PyTorch\n",
        "import torch\n",
        "if torch.cuda.is_available():\n",
        "    device = torch.device(\"cuda\")\n",
        "    print(\"GPU is available!\")\n",
        "    logging.info(\"GPU is available!\")\n",
        "else:\n",
        "    device = torch.device(\"cpu\")\n",
        "    print(\"GPU not available, using CPU.\")\n",
        "    logging.info(\"GPU not available, using CPU.\")\n"
      ],
      "metadata": {
        "id": "BZ2oS2ZwWwQ9",
        "outputId": "3e8fe9e1-e4f4-48ab-dde3-e7ea1a9d7de0",
        "colab": {
          "base_uri": "https://localhost:8080/"
        }
      },
      "execution_count": 6,
      "outputs": [
        {
          "output_type": "stream",
          "name": "stdout",
          "text": [
            "GPU is available!\n"
          ]
        }
      ]
    },
    {
      "cell_type": "code",
      "source": [],
      "metadata": {
        "id": "W6xKgCEBuG4x"
      },
      "execution_count": 6,
      "outputs": []
    },
    {
      "cell_type": "code",
      "source": [
        "# Print PyTorch and CUDA details\n",
        "print(\"PyTorch version:\", torch.__version__)\n",
        "print(\"CUDA available:\", torch.cuda.is_available())\n",
        "print(\"CUDA version:\", torch.version.cuda)\n",
        "print(\"GPU:\", torch.cuda.get_device_name(0))\n",
        "\n",
        "# Install dependencies from requirements.txt\n",
        "# !pip install -r /content/FL_AV/requirements.txt"
      ],
      "metadata": {
        "id": "IAMvG1VBT7JZ",
        "outputId": "9ef5f54a-9f79-4dcd-a815-490f6a87e2b2",
        "colab": {
          "base_uri": "https://localhost:8080/"
        }
      },
      "execution_count": 7,
      "outputs": [
        {
          "output_type": "stream",
          "name": "stdout",
          "text": [
            "PyTorch version: 2.0.0+cu117\n",
            "CUDA available: True\n",
            "CUDA version: 11.7\n",
            "GPU: Tesla T4\n"
          ]
        }
      ]
    },
    {
      "cell_type": "code",
      "source": [
        "cd /content/FL_AV/my-project/"
      ],
      "metadata": {
        "id": "urdBfuohUppl",
        "outputId": "4506c5cd-3fdb-495e-c5b6-81db21167ae0",
        "colab": {
          "base_uri": "https://localhost:8080/"
        }
      },
      "execution_count": 8,
      "outputs": [
        {
          "output_type": "stream",
          "name": "stdout",
          "text": [
            "/content/FL_AV/my-project\n"
          ]
        }
      ]
    },
    {
      "cell_type": "code",
      "source": [
        "# !pip uninstall -y torch torchvision\n",
        "# !pip install --no-cache-dir torch torchvision\n"
      ],
      "metadata": {
        "id": "Lnqz0I8GW_J1"
      },
      "execution_count": 9,
      "outputs": []
    },
    {
      "cell_type": "code",
      "source": [
        "# !pip uninstall -y torch torchvision\n",
        "# !pip install torch==2.0.0 torchvision==0.15.0+cu117 --index-url https://download.pytorch.org/whl/cu117\n"
      ],
      "metadata": {
        "id": "CYrvuzIUYSDD"
      },
      "execution_count": 10,
      "outputs": []
    },
    {
      "cell_type": "code",
      "source": [
        "!pip install -e ."
      ],
      "metadata": {
        "id": "FeMbAFzUUsVD",
        "outputId": "5828a03d-f35e-4e2d-ba1b-26f335662da1",
        "colab": {
          "base_uri": "https://localhost:8080/"
        }
      },
      "execution_count": 11,
      "outputs": [
        {
          "output_type": "stream",
          "name": "stdout",
          "text": [
            "Obtaining file:///content/FL_AV/my-project\n",
            "  Installing build dependencies ... \u001b[?25l\u001b[?25hdone\n",
            "  Checking if build backend supports build_editable ... \u001b[?25l\u001b[?25hdone\n",
            "  Getting requirements to build editable ... \u001b[?25l\u001b[?25hdone\n",
            "  Installing backend dependencies ... \u001b[?25l\u001b[?25hdone\n",
            "  Preparing editable metadata (pyproject.toml) ... \u001b[?25l\u001b[?25hdone\n",
            "Requirement already satisfied: flwr-datasets==0.3.0 in /usr/local/lib/python3.11/dist-packages (from flwr-datasets[vision]==0.3.0->my-project==1.0.0) (0.3.0)\n",
            "Collecting flwr==1.13.1 (from flwr[simulation]==1.13.1->my-project==1.0.0)\n",
            "  Using cached flwr-1.13.1-py3-none-any.whl.metadata (15 kB)\n",
            "Requirement already satisfied: numpy>=1.21.0 in /usr/local/lib/python3.11/dist-packages (from my-project==1.0.0) (1.26.4)\n",
            "Requirement already satisfied: pandas>=1.3.0 in /usr/local/lib/python3.11/dist-packages (from my-project==1.0.0) (2.2.2)\n",
            "Requirement already satisfied: scipy>=1.7.0 in /usr/local/lib/python3.11/dist-packages (from my-project==1.0.0) (1.13.1)\n",
            "Requirement already satisfied: tqdm>=4.60.0 in /usr/local/lib/python3.11/dist-packages (from my-project==1.0.0) (4.67.1)\n",
            "Requirement already satisfied: ultralytics==8.0.0 in /usr/local/lib/python3.11/dist-packages (from my-project==1.0.0) (8.0.0)\n",
            "Collecting cryptography<43.0.0,>=42.0.4 (from flwr==1.13.1->flwr[simulation]==1.13.1->my-project==1.0.0)\n",
            "  Using cached cryptography-42.0.8-cp39-abi3-manylinux_2_28_x86_64.whl.metadata (5.3 kB)\n",
            "Requirement already satisfied: grpcio!=1.64.2,<2.0.0,<=1.64.3,>=1.60.0 in /usr/local/lib/python3.11/dist-packages (from flwr==1.13.1->flwr[simulation]==1.13.1->my-project==1.0.0) (1.64.3)\n",
            "Requirement already satisfied: iterators<0.0.3,>=0.0.2 in /usr/local/lib/python3.11/dist-packages (from flwr==1.13.1->flwr[simulation]==1.13.1->my-project==1.0.0) (0.0.2)\n",
            "Requirement already satisfied: pathspec<0.13.0,>=0.12.1 in /usr/local/lib/python3.11/dist-packages (from flwr==1.13.1->flwr[simulation]==1.13.1->my-project==1.0.0) (0.12.1)\n",
            "Requirement already satisfied: protobuf<5.0.0,>=4.25.2 in /usr/local/lib/python3.11/dist-packages (from flwr==1.13.1->flwr[simulation]==1.13.1->my-project==1.0.0) (4.25.6)\n",
            "Requirement already satisfied: pycryptodome<4.0.0,>=3.18.0 in /usr/local/lib/python3.11/dist-packages (from flwr==1.13.1->flwr[simulation]==1.13.1->my-project==1.0.0) (3.21.0)\n",
            "Requirement already satisfied: rich<14.0.0,>=13.5.0 in /usr/local/lib/python3.11/dist-packages (from flwr==1.13.1->flwr[simulation]==1.13.1->my-project==1.0.0) (13.9.4)\n",
            "Requirement already satisfied: tomli<3.0.0,>=2.0.1 in /usr/local/lib/python3.11/dist-packages (from flwr==1.13.1->flwr[simulation]==1.13.1->my-project==1.0.0) (2.2.1)\n",
            "Requirement already satisfied: tomli-w<2.0.0,>=1.0.0 in /usr/local/lib/python3.11/dist-packages (from flwr==1.13.1->flwr[simulation]==1.13.1->my-project==1.0.0) (1.2.0)\n",
            "Requirement already satisfied: typer<0.13.0,>=0.12.5 in /usr/local/lib/python3.11/dist-packages (from flwr==1.13.1->flwr[simulation]==1.13.1->my-project==1.0.0) (0.12.5)\n",
            "Requirement already satisfied: datasets<2.20.0,>=2.14.6 in /usr/local/lib/python3.11/dist-packages (from flwr-datasets==0.3.0->flwr-datasets[vision]==0.3.0->my-project==1.0.0) (2.19.2)\n",
            "Requirement already satisfied: matplotlib<4.0.0,>=3.7.5 in /usr/local/lib/python3.11/dist-packages (from flwr-datasets==0.3.0->flwr-datasets[vision]==0.3.0->my-project==1.0.0) (3.10.0)\n",
            "Requirement already satisfied: pyarrow==16.1.0 in /usr/local/lib/python3.11/dist-packages (from flwr-datasets==0.3.0->flwr-datasets[vision]==0.3.0->my-project==1.0.0) (16.1.0)\n",
            "Requirement already satisfied: seaborn<0.14.0,>=0.13.0 in /usr/local/lib/python3.11/dist-packages (from flwr-datasets==0.3.0->flwr-datasets[vision]==0.3.0->my-project==1.0.0) (0.13.2)\n",
            "Requirement already satisfied: pillow>=6.2.1 in /usr/local/lib/python3.11/dist-packages (from flwr-datasets[vision]==0.3.0->my-project==1.0.0) (11.1.0)\n",
            "Requirement already satisfied: ray==2.10.0 in /usr/local/lib/python3.11/dist-packages (from flwr[simulation]==1.13.1->my-project==1.0.0) (2.10.0)\n",
            "Requirement already satisfied: hydra-core>=1.2.0 in /usr/local/lib/python3.11/dist-packages (from ultralytics==8.0.0->my-project==1.0.0) (1.3.2)\n",
            "Requirement already satisfied: opencv-python>=4.1.1 in /usr/local/lib/python3.11/dist-packages (from ultralytics==8.0.0->my-project==1.0.0) (4.10.0.84)\n",
            "Requirement already satisfied: PyYAML>=5.3.1 in /usr/local/lib/python3.11/dist-packages (from ultralytics==8.0.0->my-project==1.0.0) (6.0.2)\n",
            "Requirement already satisfied: requests>=2.23.0 in /usr/local/lib/python3.11/dist-packages (from ultralytics==8.0.0->my-project==1.0.0) (2.32.3)\n",
            "Requirement already satisfied: torch>=1.7.0 in /usr/local/lib/python3.11/dist-packages (from ultralytics==8.0.0->my-project==1.0.0) (2.0.0+cu117)\n",
            "Requirement already satisfied: torchvision>=0.8.1 in /usr/local/lib/python3.11/dist-packages (from ultralytics==8.0.0->my-project==1.0.0) (0.15.0+cu117)\n",
            "Requirement already satisfied: tensorboard>=2.4.1 in /usr/local/lib/python3.11/dist-packages (from ultralytics==8.0.0->my-project==1.0.0) (2.18.0)\n",
            "Requirement already satisfied: ipython in /usr/local/lib/python3.11/dist-packages (from ultralytics==8.0.0->my-project==1.0.0) (7.34.0)\n",
            "Requirement already satisfied: psutil in /usr/local/lib/python3.11/dist-packages (from ultralytics==8.0.0->my-project==1.0.0) (5.9.5)\n",
            "Requirement already satisfied: thop>=0.1.1 in /usr/local/lib/python3.11/dist-packages (from ultralytics==8.0.0->my-project==1.0.0) (0.1.1.post2209072238)\n",
            "Requirement already satisfied: GitPython>=3.1.24 in /usr/local/lib/python3.11/dist-packages (from ultralytics==8.0.0->my-project==1.0.0) (3.1.44)\n",
            "Requirement already satisfied: click>=7.0 in /usr/local/lib/python3.11/dist-packages (from ray==2.10.0->flwr[simulation]==1.13.1->my-project==1.0.0) (8.1.8)\n",
            "Requirement already satisfied: filelock in /usr/local/lib/python3.11/dist-packages (from ray==2.10.0->flwr[simulation]==1.13.1->my-project==1.0.0) (3.17.0)\n",
            "Requirement already satisfied: jsonschema in /usr/local/lib/python3.11/dist-packages (from ray==2.10.0->flwr[simulation]==1.13.1->my-project==1.0.0) (4.23.0)\n",
            "Requirement already satisfied: msgpack<2.0.0,>=1.0.0 in /usr/local/lib/python3.11/dist-packages (from ray==2.10.0->flwr[simulation]==1.13.1->my-project==1.0.0) (1.1.0)\n",
            "Requirement already satisfied: packaging in /usr/local/lib/python3.11/dist-packages (from ray==2.10.0->flwr[simulation]==1.13.1->my-project==1.0.0) (24.2)\n",
            "Requirement already satisfied: aiosignal in /usr/local/lib/python3.11/dist-packages (from ray==2.10.0->flwr[simulation]==1.13.1->my-project==1.0.0) (1.3.2)\n",
            "Requirement already satisfied: frozenlist in /usr/local/lib/python3.11/dist-packages (from ray==2.10.0->flwr[simulation]==1.13.1->my-project==1.0.0) (1.5.0)\n",
            "Requirement already satisfied: python-dateutil>=2.8.2 in /usr/local/lib/python3.11/dist-packages (from pandas>=1.3.0->my-project==1.0.0) (2.8.2)\n",
            "Requirement already satisfied: pytz>=2020.1 in /usr/local/lib/python3.11/dist-packages (from pandas>=1.3.0->my-project==1.0.0) (2024.2)\n",
            "Requirement already satisfied: tzdata>=2022.7 in /usr/local/lib/python3.11/dist-packages (from pandas>=1.3.0->my-project==1.0.0) (2025.1)\n",
            "Requirement already satisfied: cffi>=1.12 in /usr/local/lib/python3.11/dist-packages (from cryptography<43.0.0,>=42.0.4->flwr==1.13.1->flwr[simulation]==1.13.1->my-project==1.0.0) (1.17.1)\n",
            "Requirement already satisfied: pyarrow-hotfix in /usr/local/lib/python3.11/dist-packages (from datasets<2.20.0,>=2.14.6->flwr-datasets==0.3.0->flwr-datasets[vision]==0.3.0->my-project==1.0.0) (0.6)\n",
            "Requirement already satisfied: dill<0.3.9,>=0.3.0 in /usr/local/lib/python3.11/dist-packages (from datasets<2.20.0,>=2.14.6->flwr-datasets==0.3.0->flwr-datasets[vision]==0.3.0->my-project==1.0.0) (0.3.8)\n",
            "Requirement already satisfied: xxhash in /usr/local/lib/python3.11/dist-packages (from datasets<2.20.0,>=2.14.6->flwr-datasets==0.3.0->flwr-datasets[vision]==0.3.0->my-project==1.0.0) (3.5.0)\n",
            "Requirement already satisfied: multiprocess in /usr/local/lib/python3.11/dist-packages (from datasets<2.20.0,>=2.14.6->flwr-datasets==0.3.0->flwr-datasets[vision]==0.3.0->my-project==1.0.0) (0.70.16)\n",
            "Requirement already satisfied: fsspec<=2024.3.1,>=2023.1.0 in /usr/local/lib/python3.11/dist-packages (from fsspec[http]<=2024.3.1,>=2023.1.0->datasets<2.20.0,>=2.14.6->flwr-datasets==0.3.0->flwr-datasets[vision]==0.3.0->my-project==1.0.0) (2024.3.1)\n",
            "Requirement already satisfied: aiohttp in /usr/local/lib/python3.11/dist-packages (from datasets<2.20.0,>=2.14.6->flwr-datasets==0.3.0->flwr-datasets[vision]==0.3.0->my-project==1.0.0) (3.11.11)\n",
            "Requirement already satisfied: huggingface-hub>=0.21.2 in /usr/local/lib/python3.11/dist-packages (from datasets<2.20.0,>=2.14.6->flwr-datasets==0.3.0->flwr-datasets[vision]==0.3.0->my-project==1.0.0) (0.27.1)\n",
            "Requirement already satisfied: gitdb<5,>=4.0.1 in /usr/local/lib/python3.11/dist-packages (from GitPython>=3.1.24->ultralytics==8.0.0->my-project==1.0.0) (4.0.12)\n",
            "Requirement already satisfied: omegaconf<2.4,>=2.2 in /usr/local/lib/python3.11/dist-packages (from hydra-core>=1.2.0->ultralytics==8.0.0->my-project==1.0.0) (2.3.0)\n",
            "Requirement already satisfied: antlr4-python3-runtime==4.9.* in /usr/local/lib/python3.11/dist-packages (from hydra-core>=1.2.0->ultralytics==8.0.0->my-project==1.0.0) (4.9.3)\n",
            "Requirement already satisfied: contourpy>=1.0.1 in /usr/local/lib/python3.11/dist-packages (from matplotlib<4.0.0,>=3.7.5->flwr-datasets==0.3.0->flwr-datasets[vision]==0.3.0->my-project==1.0.0) (1.3.1)\n",
            "Requirement already satisfied: cycler>=0.10 in /usr/local/lib/python3.11/dist-packages (from matplotlib<4.0.0,>=3.7.5->flwr-datasets==0.3.0->flwr-datasets[vision]==0.3.0->my-project==1.0.0) (0.12.1)\n",
            "Requirement already satisfied: fonttools>=4.22.0 in /usr/local/lib/python3.11/dist-packages (from matplotlib<4.0.0,>=3.7.5->flwr-datasets==0.3.0->flwr-datasets[vision]==0.3.0->my-project==1.0.0) (4.55.7)\n",
            "Requirement already satisfied: kiwisolver>=1.3.1 in /usr/local/lib/python3.11/dist-packages (from matplotlib<4.0.0,>=3.7.5->flwr-datasets==0.3.0->flwr-datasets[vision]==0.3.0->my-project==1.0.0) (1.4.8)\n",
            "Requirement already satisfied: pyparsing>=2.3.1 in /usr/local/lib/python3.11/dist-packages (from matplotlib<4.0.0,>=3.7.5->flwr-datasets==0.3.0->flwr-datasets[vision]==0.3.0->my-project==1.0.0) (3.2.1)\n",
            "Requirement already satisfied: six>=1.5 in /usr/local/lib/python3.11/dist-packages (from python-dateutil>=2.8.2->pandas>=1.3.0->my-project==1.0.0) (1.17.0)\n",
            "Requirement already satisfied: charset-normalizer<4,>=2 in /usr/local/lib/python3.11/dist-packages (from requests>=2.23.0->ultralytics==8.0.0->my-project==1.0.0) (3.4.1)\n",
            "Requirement already satisfied: idna<4,>=2.5 in /usr/local/lib/python3.11/dist-packages (from requests>=2.23.0->ultralytics==8.0.0->my-project==1.0.0) (3.10)\n",
            "Requirement already satisfied: urllib3<3,>=1.21.1 in /usr/local/lib/python3.11/dist-packages (from requests>=2.23.0->ultralytics==8.0.0->my-project==1.0.0) (2.3.0)\n",
            "Requirement already satisfied: certifi>=2017.4.17 in /usr/local/lib/python3.11/dist-packages (from requests>=2.23.0->ultralytics==8.0.0->my-project==1.0.0) (2024.12.14)\n",
            "Requirement already satisfied: markdown-it-py>=2.2.0 in /usr/local/lib/python3.11/dist-packages (from rich<14.0.0,>=13.5.0->flwr==1.13.1->flwr[simulation]==1.13.1->my-project==1.0.0) (3.0.0)\n",
            "Requirement already satisfied: pygments<3.0.0,>=2.13.0 in /usr/local/lib/python3.11/dist-packages (from rich<14.0.0,>=13.5.0->flwr==1.13.1->flwr[simulation]==1.13.1->my-project==1.0.0) (2.18.0)\n",
            "Requirement already satisfied: absl-py>=0.4 in /usr/local/lib/python3.11/dist-packages (from tensorboard>=2.4.1->ultralytics==8.0.0->my-project==1.0.0) (1.4.0)\n",
            "Requirement already satisfied: markdown>=2.6.8 in /usr/local/lib/python3.11/dist-packages (from tensorboard>=2.4.1->ultralytics==8.0.0->my-project==1.0.0) (3.7)\n",
            "Requirement already satisfied: setuptools>=41.0.0 in /usr/local/lib/python3.11/dist-packages (from tensorboard>=2.4.1->ultralytics==8.0.0->my-project==1.0.0) (75.1.0)\n",
            "Requirement already satisfied: tensorboard-data-server<0.8.0,>=0.7.0 in /usr/local/lib/python3.11/dist-packages (from tensorboard>=2.4.1->ultralytics==8.0.0->my-project==1.0.0) (0.7.2)\n",
            "Requirement already satisfied: werkzeug>=1.0.1 in /usr/local/lib/python3.11/dist-packages (from tensorboard>=2.4.1->ultralytics==8.0.0->my-project==1.0.0) (3.1.3)\n",
            "Requirement already satisfied: typing-extensions in /usr/local/lib/python3.11/dist-packages (from torch>=1.7.0->ultralytics==8.0.0->my-project==1.0.0) (4.12.2)\n",
            "Requirement already satisfied: sympy in /usr/local/lib/python3.11/dist-packages (from torch>=1.7.0->ultralytics==8.0.0->my-project==1.0.0) (1.13.1)\n",
            "Requirement already satisfied: networkx in /usr/local/lib/python3.11/dist-packages (from torch>=1.7.0->ultralytics==8.0.0->my-project==1.0.0) (3.4.2)\n",
            "Requirement already satisfied: jinja2 in /usr/local/lib/python3.11/dist-packages (from torch>=1.7.0->ultralytics==8.0.0->my-project==1.0.0) (3.1.5)\n",
            "Requirement already satisfied: triton==2.0.0 in /usr/local/lib/python3.11/dist-packages (from torch>=1.7.0->ultralytics==8.0.0->my-project==1.0.0) (2.0.0)\n",
            "Requirement already satisfied: cmake in /usr/local/lib/python3.11/dist-packages (from triton==2.0.0->torch>=1.7.0->ultralytics==8.0.0->my-project==1.0.0) (3.31.4)\n",
            "Requirement already satisfied: lit in /usr/local/lib/python3.11/dist-packages (from triton==2.0.0->torch>=1.7.0->ultralytics==8.0.0->my-project==1.0.0) (15.0.7)\n",
            "Requirement already satisfied: shellingham>=1.3.0 in /usr/local/lib/python3.11/dist-packages (from typer<0.13.0,>=0.12.5->flwr==1.13.1->flwr[simulation]==1.13.1->my-project==1.0.0) (1.5.4)\n",
            "Requirement already satisfied: jedi>=0.16 in /usr/local/lib/python3.11/dist-packages (from ipython->ultralytics==8.0.0->my-project==1.0.0) (0.19.2)\n",
            "Requirement already satisfied: decorator in /usr/local/lib/python3.11/dist-packages (from ipython->ultralytics==8.0.0->my-project==1.0.0) (4.4.2)\n",
            "Requirement already satisfied: pickleshare in /usr/local/lib/python3.11/dist-packages (from ipython->ultralytics==8.0.0->my-project==1.0.0) (0.7.5)\n",
            "Requirement already satisfied: traitlets>=4.2 in /usr/local/lib/python3.11/dist-packages (from ipython->ultralytics==8.0.0->my-project==1.0.0) (5.7.1)\n",
            "Requirement already satisfied: prompt-toolkit!=3.0.0,!=3.0.1,<3.1.0,>=2.0.0 in /usr/local/lib/python3.11/dist-packages (from ipython->ultralytics==8.0.0->my-project==1.0.0) (3.0.50)\n",
            "Requirement already satisfied: backcall in /usr/local/lib/python3.11/dist-packages (from ipython->ultralytics==8.0.0->my-project==1.0.0) (0.2.0)\n",
            "Requirement already satisfied: matplotlib-inline in /usr/local/lib/python3.11/dist-packages (from ipython->ultralytics==8.0.0->my-project==1.0.0) (0.1.7)\n",
            "Requirement already satisfied: pexpect>4.3 in /usr/local/lib/python3.11/dist-packages (from ipython->ultralytics==8.0.0->my-project==1.0.0) (4.9.0)\n",
            "Requirement already satisfied: pycparser in /usr/local/lib/python3.11/dist-packages (from cffi>=1.12->cryptography<43.0.0,>=42.0.4->flwr==1.13.1->flwr[simulation]==1.13.1->my-project==1.0.0) (2.22)\n",
            "Requirement already satisfied: aiohappyeyeballs>=2.3.0 in /usr/local/lib/python3.11/dist-packages (from aiohttp->datasets<2.20.0,>=2.14.6->flwr-datasets==0.3.0->flwr-datasets[vision]==0.3.0->my-project==1.0.0) (2.4.4)\n",
            "Requirement already satisfied: attrs>=17.3.0 in /usr/local/lib/python3.11/dist-packages (from aiohttp->datasets<2.20.0,>=2.14.6->flwr-datasets==0.3.0->flwr-datasets[vision]==0.3.0->my-project==1.0.0) (25.1.0)\n",
            "Requirement already satisfied: multidict<7.0,>=4.5 in /usr/local/lib/python3.11/dist-packages (from aiohttp->datasets<2.20.0,>=2.14.6->flwr-datasets==0.3.0->flwr-datasets[vision]==0.3.0->my-project==1.0.0) (6.1.0)\n",
            "Requirement already satisfied: propcache>=0.2.0 in /usr/local/lib/python3.11/dist-packages (from aiohttp->datasets<2.20.0,>=2.14.6->flwr-datasets==0.3.0->flwr-datasets[vision]==0.3.0->my-project==1.0.0) (0.2.1)\n",
            "Requirement already satisfied: yarl<2.0,>=1.17.0 in /usr/local/lib/python3.11/dist-packages (from aiohttp->datasets<2.20.0,>=2.14.6->flwr-datasets==0.3.0->flwr-datasets[vision]==0.3.0->my-project==1.0.0) (1.18.3)\n",
            "Requirement already satisfied: smmap<6,>=3.0.1 in /usr/local/lib/python3.11/dist-packages (from gitdb<5,>=4.0.1->GitPython>=3.1.24->ultralytics==8.0.0->my-project==1.0.0) (5.0.2)\n",
            "Requirement already satisfied: parso<0.9.0,>=0.8.4 in /usr/local/lib/python3.11/dist-packages (from jedi>=0.16->ipython->ultralytics==8.0.0->my-project==1.0.0) (0.8.4)\n",
            "Requirement already satisfied: mdurl~=0.1 in /usr/local/lib/python3.11/dist-packages (from markdown-it-py>=2.2.0->rich<14.0.0,>=13.5.0->flwr==1.13.1->flwr[simulation]==1.13.1->my-project==1.0.0) (0.1.2)\n",
            "Requirement already satisfied: ptyprocess>=0.5 in /usr/local/lib/python3.11/dist-packages (from pexpect>4.3->ipython->ultralytics==8.0.0->my-project==1.0.0) (0.7.0)\n",
            "Requirement already satisfied: wcwidth in /usr/local/lib/python3.11/dist-packages (from prompt-toolkit!=3.0.0,!=3.0.1,<3.1.0,>=2.0.0->ipython->ultralytics==8.0.0->my-project==1.0.0) (0.2.13)\n",
            "Requirement already satisfied: MarkupSafe>=2.1.1 in /usr/local/lib/python3.11/dist-packages (from werkzeug>=1.0.1->tensorboard>=2.4.1->ultralytics==8.0.0->my-project==1.0.0) (3.0.2)\n",
            "Requirement already satisfied: jsonschema-specifications>=2023.03.6 in /usr/local/lib/python3.11/dist-packages (from jsonschema->ray==2.10.0->flwr[simulation]==1.13.1->my-project==1.0.0) (2024.10.1)\n",
            "Requirement already satisfied: referencing>=0.28.4 in /usr/local/lib/python3.11/dist-packages (from jsonschema->ray==2.10.0->flwr[simulation]==1.13.1->my-project==1.0.0) (0.36.2)\n",
            "Requirement already satisfied: rpds-py>=0.7.1 in /usr/local/lib/python3.11/dist-packages (from jsonschema->ray==2.10.0->flwr[simulation]==1.13.1->my-project==1.0.0) (0.22.3)\n",
            "Requirement already satisfied: mpmath<1.4,>=1.1.0 in /usr/local/lib/python3.11/dist-packages (from sympy->torch>=1.7.0->ultralytics==8.0.0->my-project==1.0.0) (1.3.0)\n",
            "Using cached flwr-1.13.1-py3-none-any.whl (512 kB)\n",
            "Using cached cryptography-42.0.8-cp39-abi3-manylinux_2_28_x86_64.whl (3.9 MB)\n",
            "Building wheels for collected packages: my-project\n",
            "  Building editable for my-project (pyproject.toml) ... \u001b[?25l\u001b[?25hdone\n",
            "  Created wheel for my-project: filename=my_project-1.0.0-py2.py3-none-any.whl size=1090 sha256=8f7e22ef547ba72d92ef8ed1820e217c7124ff7a503206244606396bb3b1515d\n",
            "  Stored in directory: /tmp/pip-ephem-wheel-cache-xdju0lfk/wheels/38/8b/b1/8aa03b4d2530c51f18fe1b6b56ffa40771635ed9fb85c4f6d8\n",
            "Successfully built my-project\n",
            "Installing collected packages: cryptography, flwr, my-project\n",
            "  Attempting uninstall: cryptography\n",
            "    Found existing installation: cryptography 43.0.3\n",
            "    Uninstalling cryptography-43.0.3:\n",
            "      Successfully uninstalled cryptography-43.0.3\n",
            "  Attempting uninstall: flwr\n",
            "    Found existing installation: flwr 1.15.1\n",
            "    Uninstalling flwr-1.15.1:\n",
            "      Successfully uninstalled flwr-1.15.1\n",
            "  Attempting uninstall: my-project\n",
            "    Found existing installation: my-project 1.0.0\n",
            "    Uninstalling my-project-1.0.0:\n",
            "      Successfully uninstalled my-project-1.0.0\n",
            "Successfully installed cryptography-42.0.8 flwr-1.13.1 my-project-1.0.0\n"
          ]
        }
      ]
    },
    {
      "cell_type": "code",
      "execution_count": 12,
      "metadata": {
        "id": "nnXw8Z6At1vI"
      },
      "outputs": [],
      "source": [
        "!pip freeze   > /content/FL_AV/Research_docs/installations/requirements_history/requirements_history.txt"
      ]
    },
    {
      "cell_type": "code",
      "source": [
        "cd /content/FL_AV/my-project/"
      ],
      "metadata": {
        "id": "fAiimQx6uPGg",
        "outputId": "52672214-1538-48f1-bd3d-e8490b3457e9",
        "colab": {
          "base_uri": "https://localhost:8080/"
        }
      },
      "execution_count": 13,
      "outputs": [
        {
          "output_type": "stream",
          "name": "stdout",
          "text": [
            "/content/FL_AV/my-project\n"
          ]
        }
      ]
    },
    {
      "cell_type": "code",
      "source": [
        "!flwr run ."
      ],
      "metadata": {
        "id": "SLYQwQ5-USR4",
        "outputId": "7cf00fc1-58e0-40ed-a938-b53a7a8345c2",
        "colab": {
          "base_uri": "https://localhost:8080/"
        }
      },
      "execution_count": 14,
      "outputs": [
        {
          "output_type": "stream",
          "name": "stdout",
          "text": [
            "2025-02-06 03:03:51.950413: E external/local_xla/xla/stream_executor/cuda/cuda_fft.cc:477] Unable to register cuFFT factory: Attempting to register factory for plugin cuFFT when one has already been registered\n",
            "WARNING: All log messages before absl::InitializeLog() is called are written to STDERR\n",
            "E0000 00:00:1738811032.243574    4380 cuda_dnn.cc:8310] Unable to register cuDNN factory: Attempting to register factory for plugin cuDNN when one has already been registered\n",
            "E0000 00:00:1738811032.338869    4380 cuda_blas.cc:1418] Unable to register cuBLAS factory: Attempting to register factory for plugin cuBLAS when one has already been registered\n",
            "2025-02-06 03:03:52.981953: I tensorflow/core/platform/cpu_feature_guard.cc:210] This TensorFlow binary is optimized to use available CPU instructions in performance-critical operations.\n",
            "To enable the following instructions: AVX2 AVX512F FMA, in other operations, rebuild TensorFlow with the appropriate compiler flags.\n",
            "\u001b[34mLoading project configuration... \u001b[0m\n",
            "\u001b[32mSuccess\u001b[0m\n",
            "2025-02-06 03:04:01.592284: E external/local_xla/xla/stream_executor/cuda/cuda_fft.cc:477] Unable to register cuFFT factory: Attempting to register factory for plugin cuFFT when one has already been registered\n",
            "WARNING: All log messages before absl::InitializeLog() is called are written to STDERR\n",
            "E0000 00:00:1738811041.612584    4456 cuda_dnn.cc:8310] Unable to register cuDNN factory: Attempting to register factory for plugin cuDNN when one has already been registered\n",
            "E0000 00:00:1738811041.619488    4456 cuda_blas.cc:1418] Unable to register cuBLAS factory: Attempting to register factory for plugin cuBLAS when one has already been registered\n",
            "/usr/local/lib/python3.11/dist-packages/thop/profile.py:12: DeprecationWarning: distutils Version classes are deprecated. Use packaging.version instead.\n",
            "  if LooseVersion(torch.__version__) < LooseVersion(\"1.0.0\"):\n",
            "/usr/local/lib/python3.11/dist-packages/ultralytics/yolo/utils/checks.py:14: DeprecationWarning: pkg_resources is deprecated as an API. See https://setuptools.pypa.io/en/latest/pkg_resources.html\n",
            "  import pkg_resources as pkg\n",
            "/usr/local/lib/python3.11/dist-packages/pkg_resources/__init__.py:3154: DeprecationWarning: Deprecated call to `pkg_resources.declare_namespace('google')`.\n",
            "Implementing implicit namespace packages (as specified in PEP 420) is preferred to `pkg_resources.declare_namespace`. See https://setuptools.pypa.io/en/latest/references/keywords.html#keyword-namespace-packages\n",
            "  declare_namespace(pkg)\n",
            "/usr/local/lib/python3.11/dist-packages/pkg_resources/__init__.py:3154: DeprecationWarning: Deprecated call to `pkg_resources.declare_namespace('google.cloud')`.\n",
            "Implementing implicit namespace packages (as specified in PEP 420) is preferred to `pkg_resources.declare_namespace`. See https://setuptools.pypa.io/en/latest/references/keywords.html#keyword-namespace-packages\n",
            "  declare_namespace(pkg)\n",
            "/usr/local/lib/python3.11/dist-packages/pkg_resources/__init__.py:3154: DeprecationWarning: Deprecated call to `pkg_resources.declare_namespace('sphinxcontrib')`.\n",
            "Implementing implicit namespace packages (as specified in PEP 420) is preferred to `pkg_resources.declare_namespace`. See https://setuptools.pypa.io/en/latest/references/keywords.html#keyword-namespace-packages\n",
            "  declare_namespace(pkg)\n",
            "\u001b[91mERROR \u001b[0m:     ServerApp thread raised an exception: signal only works in main thread of the main interpreter\n",
            "\u001b[91mERROR \u001b[0m:     Traceback (most recent call last):\n",
            "  File \"/usr/local/lib/python3.11/dist-packages/flwr/simulation/run_simulation.py\", line 265, in server_th_with_start_checks\n",
            "    _run(\n",
            "  File \"/usr/local/lib/python3.11/dist-packages/flwr/server/run_serverapp.py\", line 60, in run\n",
            "    server_app = _load()\n",
            "                 ^^^^^^^\n",
            "  File \"/usr/local/lib/python3.11/dist-packages/flwr/server/run_serverapp.py\", line 47, in _load\n",
            "    server_app: ServerApp = load_app(\n",
            "                            ^^^^^^^^^\n",
            "  File \"/usr/local/lib/python3.11/dist-packages/flwr/common/object_ref.py\", line 170, in load_app\n",
            "    module = importlib.import_module(module_str)\n",
            "             ^^^^^^^^^^^^^^^^^^^^^^^^^^^^^^^^^^^\n",
            "  File \"/usr/lib/python3.11/importlib/__init__.py\", line 126, in import_module\n",
            "    return _bootstrap._gcd_import(name[level:], package, level)\n",
            "           ^^^^^^^^^^^^^^^^^^^^^^^^^^^^^^^^^^^^^^^^^^^^^^^^^^^^\n",
            "  File \"<frozen importlib._bootstrap>\", line 1204, in _gcd_import\n",
            "  File \"<frozen importlib._bootstrap>\", line 1176, in _find_and_load\n",
            "  File \"<frozen importlib._bootstrap>\", line 1147, in _find_and_load_unlocked\n",
            "  File \"<frozen importlib._bootstrap>\", line 690, in _load_unlocked\n",
            "  File \"<frozen importlib._bootstrap_external>\", line 940, in exec_module\n",
            "  File \"<frozen importlib._bootstrap>\", line 241, in _call_with_frames_removed\n",
            "  File \"/content/FL_AV/my-project/my_project/server_app.py\", line 12, in <module>\n",
            "    from ultralytics import YOLO\n",
            "  File \"/usr/local/lib/python3.11/dist-packages/ultralytics/__init__.py\", line 5, in <module>\n",
            "    from ultralytics.hub import checks\n",
            "  File \"/usr/local/lib/python3.11/dist-packages/ultralytics/hub/__init__.py\", line 11, in <module>\n",
            "    from ultralytics.hub.session import HubTrainingSession\n",
            "  File \"/usr/local/lib/python3.11/dist-packages/ultralytics/hub/session.py\", line 29, in <module>\n",
            "    signal.signal(signal.SIGTERM, signal_handler)\n",
            "  File \"/usr/lib/python3.11/signal.py\", line 58, in signal\n",
            "    handler = _signal.signal(_enum_to_int(signalnum), _enum_to_int(handler))\n",
            "              ^^^^^^^^^^^^^^^^^^^^^^^^^^^^^^^^^^^^^^^^^^^^^^^^^^^^^^^^^^^^^^\n",
            "ValueError: signal only works in main thread of the main interpreter\n",
            "\n",
            "Exception in thread Thread-1 (server_th_with_start_checks):\n",
            "Traceback (most recent call last):\n",
            "  File \"/usr/lib/python3.11/threading.py\", line 1045, in _bootstrap_inner\n",
            "    self.run()\n",
            "  File \"/usr/lib/python3.11/threading.py\", line 982, in run\n",
            "    self._target(*self._args, **self._kwargs)\n",
            "  File \"/usr/local/lib/python3.11/dist-packages/flwr/simulation/run_simulation.py\", line 265, in server_th_with_start_checks\n",
            "    _run(\n",
            "  File \"/usr/local/lib/python3.11/dist-packages/flwr/server/run_serverapp.py\", line 60, in run\n",
            "    server_app = _load()\n",
            "                 ^^^^^^^\n",
            "  File \"/usr/local/lib/python3.11/dist-packages/flwr/server/run_serverapp.py\", line 47, in _load\n",
            "    server_app: ServerApp = load_app(\n",
            "                            ^^^^^^^^^\n",
            "  File \"/usr/local/lib/python3.11/dist-packages/flwr/common/object_ref.py\", line 170, in load_app\n",
            "    module = importlib.import_module(module_str)\n",
            "             ^^^^^^^^^^^^^^^^^^^^^^^^^^^^^^^^^^^\n",
            "  File \"/usr/lib/python3.11/importlib/__init__.py\", line 126, in import_module\n",
            "    return _bootstrap._gcd_import(name[level:], package, level)\n",
            "           ^^^^^^^^^^^^^^^^^^^^^^^^^^^^^^^^^^^^^^^^^^^^^^^^^^^^\n",
            "  File \"<frozen importlib._bootstrap>\", line 1204, in _gcd_import\n",
            "  File \"<frozen importlib._bootstrap>\", line 1176, in _find_and_load\n",
            "  File \"<frozen importlib._bootstrap>\", line 1147, in _find_and_load_unlocked\n",
            "  File \"<frozen importlib._bootstrap>\", line 690, in _load_unlocked\n",
            "  File \"<frozen importlib._bootstrap_external>\", line 940, in exec_module\n",
            "  File \"<frozen importlib._bootstrap>\", line 241, in _call_with_frames_removed\n",
            "  File \"/content/FL_AV/my-project/my_project/server_app.py\", line 12, in <module>\n",
            "    from ultralytics import YOLO\n",
            "  File \"/usr/local/lib/python3.11/dist-packages/ultralytics/__init__.py\", line 5, in <module>\n",
            "    from ultralytics.hub import checks\n",
            "  File \"/usr/local/lib/python3.11/dist-packages/ultralytics/hub/__init__.py\", line 11, in <module>\n",
            "    from ultralytics.hub.session import HubTrainingSession\n",
            "  File \"/usr/local/lib/python3.11/dist-packages/ultralytics/hub/session.py\", line 29, in <module>\n",
            "    signal.signal(signal.SIGTERM, signal_handler)\n",
            "  File \"/usr/lib/python3.11/signal.py\", line 58, in signal\n",
            "    handler = _signal.signal(_enum_to_int(signalnum), _enum_to_int(handler))\n",
            "              ^^^^^^^^^^^^^^^^^^^^^^^^^^^^^^^^^^^^^^^^^^^^^^^^^^^^^^^^^^^^^^\n",
            "ValueError: signal only works in main thread of the main interpreter\n",
            "Traceback (most recent call last):\n",
            "  File \"/usr/local/bin/flower-simulation\", line 8, in <module>\n",
            "    sys.exit(run_simulation_from_cli())\n",
            "             ^^^^^^^^^^^^^^^^^^^^^^^^^\n",
            "  File \"/usr/local/lib/python3.11/dist-packages/flwr/simulation/run_simulation.py\", line 129, in run_simulation_from_cli\n",
            "    _run_simulation(\n",
            "  File \"/usr/local/lib/python3.11/dist-packages/flwr/simulation/run_simulation.py\", line 490, in _run_simulation\n",
            "    _main_loop(*args)\n",
            "  File \"/usr/local/lib/python3.11/dist-packages/flwr/simulation/run_simulation.py\", line 387, in _main_loop\n",
            "    raise RuntimeError(\"Exception in ServerApp thread\")\n",
            "RuntimeError: Exception in ServerApp thread\n",
            "\u001b[0m\u001b[31m╭─\u001b[0m\u001b[31m──────────────────────────────\u001b[0m\u001b[31m \u001b[0m\u001b[1;31mTraceback \u001b[0m\u001b[1;2;31m(most recent call last)\u001b[0m\u001b[31m \u001b[0m\u001b[31m───────────────────────────────\u001b[0m\u001b[31m─╮\u001b[0m\n",
            "\u001b[31m│\u001b[0m \u001b[2;33m/usr/local/lib/python3.11/dist-packages/flwr/cli/run/\u001b[0m\u001b[1;33mrun.py\u001b[0m:\u001b[94m102\u001b[0m in \u001b[92mrun\u001b[0m                           \u001b[31m│\u001b[0m\n",
            "\u001b[31m│\u001b[0m                                                                                                  \u001b[31m│\u001b[0m\n",
            "\u001b[31m│\u001b[0m   \u001b[2m 99 \u001b[0m\u001b[2m│   \u001b[0m\u001b[94mif\u001b[0m \u001b[33m\"\u001b[0m\u001b[33maddress\u001b[0m\u001b[33m\"\u001b[0m \u001b[95min\u001b[0m federation_config:                                                     \u001b[31m│\u001b[0m\n",
            "\u001b[31m│\u001b[0m   \u001b[2m100 \u001b[0m\u001b[2m│   │   \u001b[0m_run_with_exec_api(app, federation_config, config_overrides, stream)               \u001b[31m│\u001b[0m\n",
            "\u001b[31m│\u001b[0m   \u001b[2m101 \u001b[0m\u001b[2m│   \u001b[0m\u001b[94melse\u001b[0m:                                                                                  \u001b[31m│\u001b[0m\n",
            "\u001b[31m│\u001b[0m \u001b[31m❱ \u001b[0m102 \u001b[2m│   │   \u001b[0m\u001b[1;4m_run_without_exec_api(app, federation_config, config_overrides, federation)\u001b[0m        \u001b[31m│\u001b[0m\n",
            "\u001b[31m│\u001b[0m   \u001b[2m103 \u001b[0m                                                                                           \u001b[31m│\u001b[0m\n",
            "\u001b[31m│\u001b[0m   \u001b[2m104 \u001b[0m                                                                                           \u001b[31m│\u001b[0m\n",
            "\u001b[31m│\u001b[0m   \u001b[2m105 \u001b[0m\u001b[2m# pylint: disable-next=too-many-locals\u001b[0m                                                     \u001b[31m│\u001b[0m\n",
            "\u001b[31m│\u001b[0m                                                                                                  \u001b[31m│\u001b[0m\n",
            "\u001b[31m│\u001b[0m \u001b[33m╭─\u001b[0m\u001b[33m──────────────────────────────────────────\u001b[0m\u001b[33m locals \u001b[0m\u001b[33m──────────────────────────────────────────\u001b[0m\u001b[33m─╮\u001b[0m \u001b[31m│\u001b[0m\n",
            "\u001b[31m│\u001b[0m \u001b[33m│\u001b[0m               app = \u001b[1;35mPosixPath\u001b[0m\u001b[1m(\u001b[0m\u001b[33m'.'\u001b[0m\u001b[1m)\u001b[0m                                                           \u001b[33m│\u001b[0m \u001b[31m│\u001b[0m\n",
            "\u001b[31m│\u001b[0m \u001b[33m│\u001b[0m            config = \u001b[1m{\u001b[0m                                                                        \u001b[33m│\u001b[0m \u001b[31m│\u001b[0m\n",
            "\u001b[31m│\u001b[0m \u001b[33m│\u001b[0m                     \u001b[2m│   \u001b[0m\u001b[33m'build-system'\u001b[0m: \u001b[1m{\u001b[0m                                                    \u001b[33m│\u001b[0m \u001b[31m│\u001b[0m\n",
            "\u001b[31m│\u001b[0m \u001b[33m│\u001b[0m                     \u001b[2m│   │   \u001b[0m\u001b[33m'requires'\u001b[0m: \u001b[1m[\u001b[0m\u001b[33m'hatchling'\u001b[0m\u001b[1m]\u001b[0m,                                       \u001b[33m│\u001b[0m \u001b[31m│\u001b[0m\n",
            "\u001b[31m│\u001b[0m \u001b[33m│\u001b[0m                     \u001b[2m│   │   \u001b[0m\u001b[33m'build-backend'\u001b[0m: \u001b[33m'hatchling.build'\u001b[0m                               \u001b[33m│\u001b[0m \u001b[31m│\u001b[0m\n",
            "\u001b[31m│\u001b[0m \u001b[33m│\u001b[0m                     \u001b[2m│   \u001b[0m\u001b[1m}\u001b[0m,                                                                   \u001b[33m│\u001b[0m \u001b[31m│\u001b[0m\n",
            "\u001b[31m│\u001b[0m \u001b[33m│\u001b[0m                     \u001b[2m│   \u001b[0m\u001b[33m'project'\u001b[0m: \u001b[1m{\u001b[0m                                                         \u001b[33m│\u001b[0m \u001b[31m│\u001b[0m\n",
            "\u001b[31m│\u001b[0m \u001b[33m│\u001b[0m                     \u001b[2m│   │   \u001b[0m\u001b[33m'name'\u001b[0m: \u001b[33m'my-project'\u001b[0m,                                            \u001b[33m│\u001b[0m \u001b[31m│\u001b[0m\n",
            "\u001b[31m│\u001b[0m \u001b[33m│\u001b[0m                     \u001b[2m│   │   \u001b[0m\u001b[33m'version'\u001b[0m: \u001b[33m'1.0.0'\u001b[0m,                                              \u001b[33m│\u001b[0m \u001b[31m│\u001b[0m\n",
            "\u001b[31m│\u001b[0m \u001b[33m│\u001b[0m                     \u001b[2m│   │   \u001b[0m\u001b[33m'description'\u001b[0m: \u001b[33m'Federated Learning with YOLOv5 using Flower'\u001b[0m,    \u001b[33m│\u001b[0m \u001b[31m│\u001b[0m\n",
            "\u001b[31m│\u001b[0m \u001b[33m│\u001b[0m                     \u001b[2m│   │   \u001b[0m\u001b[33m'license'\u001b[0m: \u001b[33m'Apache-2.0'\u001b[0m,                                         \u001b[33m│\u001b[0m \u001b[31m│\u001b[0m\n",
            "\u001b[31m│\u001b[0m \u001b[33m│\u001b[0m                     \u001b[2m│   │   \u001b[0m\u001b[33m'dependencies'\u001b[0m: \u001b[1m[\u001b[0m                                                \u001b[33m│\u001b[0m \u001b[31m│\u001b[0m\n",
            "\u001b[31m│\u001b[0m \u001b[33m│\u001b[0m                     \u001b[2m│   │   │   \u001b[0m\u001b[33m'flwr\u001b[0m\u001b[1;33m[\u001b[0m\u001b[33msimulation\u001b[0m\u001b[1;33m]\u001b[0m\u001b[33m==1.13.1'\u001b[0m,                                  \u001b[33m│\u001b[0m \u001b[31m│\u001b[0m\n",
            "\u001b[31m│\u001b[0m \u001b[33m│\u001b[0m                     \u001b[2m│   │   │   \u001b[0m\u001b[33m'flwr-datasets\u001b[0m\u001b[1;33m[\u001b[0m\u001b[33mvision\u001b[0m\u001b[1;33m]\u001b[0m\u001b[33m==0.3.0'\u001b[0m,                              \u001b[33m│\u001b[0m \u001b[31m│\u001b[0m\n",
            "\u001b[31m│\u001b[0m \u001b[33m│\u001b[0m                     \u001b[2m│   │   │   \u001b[0m\u001b[33m'\u001b[0m\u001b[33multralytics\u001b[0m\u001b[33m==8.0.0'\u001b[0m,                                        \u001b[33m│\u001b[0m \u001b[31m│\u001b[0m\n",
            "\u001b[31m│\u001b[0m \u001b[33m│\u001b[0m                     \u001b[2m│   │   │   \u001b[0m\u001b[33m'numpy>=1.21.0'\u001b[0m,                                             \u001b[33m│\u001b[0m \u001b[31m│\u001b[0m\n",
            "\u001b[31m│\u001b[0m \u001b[33m│\u001b[0m                     \u001b[2m│   │   │   \u001b[0m\u001b[33m'scipy>=1.7.0'\u001b[0m,                                              \u001b[33m│\u001b[0m \u001b[31m│\u001b[0m\n",
            "\u001b[31m│\u001b[0m \u001b[33m│\u001b[0m                     \u001b[2m│   │   │   \u001b[0m\u001b[33m'pandas>=1.3.0'\u001b[0m,                                             \u001b[33m│\u001b[0m \u001b[31m│\u001b[0m\n",
            "\u001b[31m│\u001b[0m \u001b[33m│\u001b[0m                     \u001b[2m│   │   │   \u001b[0m\u001b[33m'tqdm>=4.60.0'\u001b[0m                                               \u001b[33m│\u001b[0m \u001b[31m│\u001b[0m\n",
            "\u001b[31m│\u001b[0m \u001b[33m│\u001b[0m                     \u001b[2m│   │   \u001b[0m\u001b[1m]\u001b[0m                                                                \u001b[33m│\u001b[0m \u001b[31m│\u001b[0m\n",
            "\u001b[31m│\u001b[0m \u001b[33m│\u001b[0m                     \u001b[2m│   \u001b[0m\u001b[1m}\u001b[0m,                                                                   \u001b[33m│\u001b[0m \u001b[31m│\u001b[0m\n",
            "\u001b[31m│\u001b[0m \u001b[33m│\u001b[0m                     \u001b[2m│   \u001b[0m\u001b[33m'tool'\u001b[0m: \u001b[1m{\u001b[0m                                                            \u001b[33m│\u001b[0m \u001b[31m│\u001b[0m\n",
            "\u001b[31m│\u001b[0m \u001b[33m│\u001b[0m                     \u001b[2m│   │   \u001b[0m\u001b[33m'hatch'\u001b[0m: \u001b[1m{\u001b[0m                                                       \u001b[33m│\u001b[0m \u001b[31m│\u001b[0m\n",
            "\u001b[31m│\u001b[0m \u001b[33m│\u001b[0m                     \u001b[2m│   │   │   \u001b[0m\u001b[33m'build'\u001b[0m: \u001b[1m{\u001b[0m\u001b[33m'targets'\u001b[0m: \u001b[1m{\u001b[0m\u001b[33m'wheel'\u001b[0m: \u001b[1m{\u001b[0m\u001b[33m'packages'\u001b[0m: \u001b[1m[\u001b[0m\u001b[33m'.'\u001b[0m\u001b[1m]\u001b[0m\u001b[1m}\u001b[0m\u001b[1m}\u001b[0m\u001b[1m}\u001b[0m         \u001b[33m│\u001b[0m \u001b[31m│\u001b[0m\n",
            "\u001b[31m│\u001b[0m \u001b[33m│\u001b[0m                     \u001b[2m│   │   \u001b[0m\u001b[1m}\u001b[0m,                                                               \u001b[33m│\u001b[0m \u001b[31m│\u001b[0m\n",
            "\u001b[31m│\u001b[0m \u001b[33m│\u001b[0m                     \u001b[2m│   │   \u001b[0m\u001b[33m'flwr'\u001b[0m: \u001b[1m{\u001b[0m                                                        \u001b[33m│\u001b[0m \u001b[31m│\u001b[0m\n",
            "\u001b[31m│\u001b[0m \u001b[33m│\u001b[0m                     \u001b[2m│   │   │   \u001b[0m\u001b[33m'app'\u001b[0m: \u001b[1m{\u001b[0m                                                     \u001b[33m│\u001b[0m \u001b[31m│\u001b[0m\n",
            "\u001b[31m│\u001b[0m \u001b[33m│\u001b[0m                     \u001b[2m│   │   │   │   \u001b[0m\u001b[33m'publisher'\u001b[0m: \u001b[33m'flower'\u001b[0m,                                   \u001b[33m│\u001b[0m \u001b[31m│\u001b[0m\n",
            "\u001b[31m│\u001b[0m \u001b[33m│\u001b[0m                     \u001b[2m│   │   │   │   \u001b[0m\u001b[33m'components'\u001b[0m: \u001b[1m{\u001b[0m                                          \u001b[33m│\u001b[0m \u001b[31m│\u001b[0m\n",
            "\u001b[31m│\u001b[0m \u001b[33m│\u001b[0m                     \u001b[2m│   │   │   │   │   \u001b[0m\u001b[33m'serverapp'\u001b[0m: \u001b[33m'my_project.server_app:app'\u001b[0m,            \u001b[33m│\u001b[0m \u001b[31m│\u001b[0m\n",
            "\u001b[31m│\u001b[0m \u001b[33m│\u001b[0m                     \u001b[2m│   │   │   │   │   \u001b[0m\u001b[33m'clientapp'\u001b[0m: \u001b[33m'my_project.client_app:app'\u001b[0m             \u001b[33m│\u001b[0m \u001b[31m│\u001b[0m\n",
            "\u001b[31m│\u001b[0m \u001b[33m│\u001b[0m                     \u001b[2m│   │   │   │   \u001b[0m\u001b[1m}\u001b[0m,                                                       \u001b[33m│\u001b[0m \u001b[31m│\u001b[0m\n",
            "\u001b[31m│\u001b[0m \u001b[33m│\u001b[0m                     \u001b[2m│   │   │   │   \u001b[0m\u001b[33m'config'\u001b[0m: \u001b[1m{\u001b[0m                                              \u001b[33m│\u001b[0m \u001b[31m│\u001b[0m\n",
            "\u001b[31m│\u001b[0m \u001b[33m│\u001b[0m                     \u001b[2m│   │   │   │   │   \u001b[0m\u001b[33m'num_server_rounds'\u001b[0m: \u001b[94m5\u001b[0m,                              \u001b[33m│\u001b[0m \u001b[31m│\u001b[0m\n",
            "\u001b[31m│\u001b[0m \u001b[33m│\u001b[0m                     \u001b[2m│   │   │   │   │   \u001b[0m\u001b[33m'fraction_fit'\u001b[0m: \u001b[94m0.75\u001b[0m,                                \u001b[33m│\u001b[0m \u001b[31m│\u001b[0m\n",
            "\u001b[31m│\u001b[0m \u001b[33m│\u001b[0m                     \u001b[2m│   │   │   │   │   \u001b[0m\u001b[33m'local_epochs'\u001b[0m: \u001b[94m3\u001b[0m,                                   \u001b[33m│\u001b[0m \u001b[31m│\u001b[0m\n",
            "\u001b[31m│\u001b[0m \u001b[33m│\u001b[0m                     \u001b[2m│   │   │   │   │   \u001b[0m\u001b[33m'min_clients'\u001b[0m: \u001b[94m4\u001b[0m                                     \u001b[33m│\u001b[0m \u001b[31m│\u001b[0m\n",
            "\u001b[31m│\u001b[0m \u001b[33m│\u001b[0m                     \u001b[2m│   │   │   │   \u001b[0m\u001b[1m}\u001b[0m                                                        \u001b[33m│\u001b[0m \u001b[31m│\u001b[0m\n",
            "\u001b[31m│\u001b[0m \u001b[33m│\u001b[0m                     \u001b[2m│   │   │   \u001b[0m\u001b[1m}\u001b[0m,                                                           \u001b[33m│\u001b[0m \u001b[31m│\u001b[0m\n",
            "\u001b[31m│\u001b[0m \u001b[33m│\u001b[0m                     \u001b[2m│   │   │   \u001b[0m\u001b[33m'federations'\u001b[0m: \u001b[1m{\u001b[0m                                             \u001b[33m│\u001b[0m \u001b[31m│\u001b[0m\n",
            "\u001b[31m│\u001b[0m \u001b[33m│\u001b[0m                     \u001b[2m│   │   │   │   \u001b[0m\u001b[33m'default'\u001b[0m: \u001b[33m'local-simulation'\u001b[0m,                           \u001b[33m│\u001b[0m \u001b[31m│\u001b[0m\n",
            "\u001b[31m│\u001b[0m \u001b[33m│\u001b[0m                     \u001b[2m│   │   │   │   \u001b[0m\u001b[33m'local-simulation'\u001b[0m: \u001b[1m{\u001b[0m                                    \u001b[33m│\u001b[0m \u001b[31m│\u001b[0m\n",
            "\u001b[31m│\u001b[0m \u001b[33m│\u001b[0m                     \u001b[2m│   │   │   │   │   \u001b[0m\u001b[33m'options'\u001b[0m: \u001b[1m{\u001b[0m                                         \u001b[33m│\u001b[0m \u001b[31m│\u001b[0m\n",
            "\u001b[31m│\u001b[0m \u001b[33m│\u001b[0m                     \u001b[2m│   │   │   │   │   │   \u001b[0m\u001b[33m'num-supernodes'\u001b[0m: \u001b[94m3\u001b[0m,                             \u001b[33m│\u001b[0m \u001b[31m│\u001b[0m\n",
            "\u001b[31m│\u001b[0m \u001b[33m│\u001b[0m                     \u001b[2m│   │   │   │   │   │   \u001b[0m\u001b[33m'backend'\u001b[0m: \u001b[1m{\u001b[0m                                     \u001b[33m│\u001b[0m \u001b[31m│\u001b[0m\n",
            "\u001b[31m│\u001b[0m \u001b[33m│\u001b[0m                     \u001b[2m│   │   │   │   │   │   │   \u001b[0m\u001b[33m'client-resources'\u001b[0m: \u001b[1m{\u001b[0m                        \u001b[33m│\u001b[0m \u001b[31m│\u001b[0m\n",
            "\u001b[31m│\u001b[0m \u001b[33m│\u001b[0m                     \u001b[2m│   │   │   │   │   │   │   │   \u001b[0m\u001b[33m'num-cpus'\u001b[0m: \u001b[94m2\u001b[0m,                           \u001b[33m│\u001b[0m \u001b[31m│\u001b[0m\n",
            "\u001b[31m│\u001b[0m \u001b[33m│\u001b[0m                     \u001b[2m│   │   │   │   │   │   │   │   \u001b[0m\u001b[33m'num-gpus'\u001b[0m: \u001b[94m1\u001b[0m                            \u001b[33m│\u001b[0m \u001b[31m│\u001b[0m\n",
            "\u001b[31m│\u001b[0m \u001b[33m│\u001b[0m                     \u001b[2m│   │   │   │   │   │   │   \u001b[0m\u001b[1m}\u001b[0m,                                           \u001b[33m│\u001b[0m \u001b[31m│\u001b[0m\n",
            "\u001b[31m│\u001b[0m \u001b[33m│\u001b[0m                     \u001b[2m│   │   │   │   │   │   │   \u001b[0m\u001b[33m'init_args'\u001b[0m: \u001b[1m{\u001b[0m                               \u001b[33m│\u001b[0m \u001b[31m│\u001b[0m\n",
            "\u001b[31m│\u001b[0m \u001b[33m│\u001b[0m                     \u001b[2m│   │   │   │   │   │   │   │   \u001b[0m\u001b[33m'num_cpus'\u001b[0m: \u001b[94m2\u001b[0m,                           \u001b[33m│\u001b[0m \u001b[31m│\u001b[0m\n",
            "\u001b[31m│\u001b[0m \u001b[33m│\u001b[0m                     \u001b[2m│   │   │   │   │   │   │   │   \u001b[0m\u001b[33m'num_gpus'\u001b[0m: \u001b[94m1\u001b[0m                            \u001b[33m│\u001b[0m \u001b[31m│\u001b[0m\n",
            "\u001b[31m│\u001b[0m \u001b[33m│\u001b[0m                     \u001b[2m│   │   │   │   │   │   │   \u001b[0m\u001b[1m}\u001b[0m                                            \u001b[33m│\u001b[0m \u001b[31m│\u001b[0m\n",
            "\u001b[31m│\u001b[0m \u001b[33m│\u001b[0m                     \u001b[2m│   │   │   │   │   │   \u001b[0m\u001b[1m}\u001b[0m                                                \u001b[33m│\u001b[0m \u001b[31m│\u001b[0m\n",
            "\u001b[31m│\u001b[0m \u001b[33m│\u001b[0m                     \u001b[2m│   │   │   │   │   \u001b[0m\u001b[1m}\u001b[0m                                                    \u001b[33m│\u001b[0m \u001b[31m│\u001b[0m\n",
            "\u001b[31m│\u001b[0m \u001b[33m│\u001b[0m                     \u001b[2m│   │   │   │   \u001b[0m\u001b[1m}\u001b[0m                                                        \u001b[33m│\u001b[0m \u001b[31m│\u001b[0m\n",
            "\u001b[31m│\u001b[0m \u001b[33m│\u001b[0m                     \u001b[2m│   │   │   \u001b[0m\u001b[1m}\u001b[0m                                                            \u001b[33m│\u001b[0m \u001b[31m│\u001b[0m\n",
            "\u001b[31m│\u001b[0m \u001b[33m│\u001b[0m                     \u001b[2m│   │   \u001b[0m\u001b[1m}\u001b[0m                                                                \u001b[33m│\u001b[0m \u001b[31m│\u001b[0m\n",
            "\u001b[31m│\u001b[0m \u001b[33m│\u001b[0m                     \u001b[2m│   \u001b[0m\u001b[1m}\u001b[0m                                                                    \u001b[33m│\u001b[0m \u001b[31m│\u001b[0m\n",
            "\u001b[31m│\u001b[0m \u001b[33m│\u001b[0m                     \u001b[1m}\u001b[0m                                                                        \u001b[33m│\u001b[0m \u001b[31m│\u001b[0m\n",
            "\u001b[31m│\u001b[0m \u001b[33m│\u001b[0m  config_overrides = \u001b[94mNone\u001b[0m                                                                     \u001b[33m│\u001b[0m \u001b[31m│\u001b[0m\n",
            "\u001b[31m│\u001b[0m \u001b[33m│\u001b[0m            errors = \u001b[1m[\u001b[0m\u001b[1m]\u001b[0m                                                                       \u001b[33m│\u001b[0m \u001b[31m│\u001b[0m\n",
            "\u001b[31m│\u001b[0m \u001b[33m│\u001b[0m        federation = \u001b[33m'local-simulation'\u001b[0m                                                       \u001b[33m│\u001b[0m \u001b[31m│\u001b[0m\n",
            "\u001b[31m│\u001b[0m \u001b[33m│\u001b[0m federation_config = \u001b[1m{\u001b[0m                                                                        \u001b[33m│\u001b[0m \u001b[31m│\u001b[0m\n",
            "\u001b[31m│\u001b[0m \u001b[33m│\u001b[0m                     \u001b[2m│   \u001b[0m\u001b[33m'options'\u001b[0m: \u001b[1m{\u001b[0m                                                         \u001b[33m│\u001b[0m \u001b[31m│\u001b[0m\n",
            "\u001b[31m│\u001b[0m \u001b[33m│\u001b[0m                     \u001b[2m│   │   \u001b[0m\u001b[33m'num-supernodes'\u001b[0m: \u001b[94m3\u001b[0m,                                             \u001b[33m│\u001b[0m \u001b[31m│\u001b[0m\n",
            "\u001b[31m│\u001b[0m \u001b[33m│\u001b[0m                     \u001b[2m│   │   \u001b[0m\u001b[33m'backend'\u001b[0m: \u001b[1m{\u001b[0m                                                     \u001b[33m│\u001b[0m \u001b[31m│\u001b[0m\n",
            "\u001b[31m│\u001b[0m \u001b[33m│\u001b[0m                     \u001b[2m│   │   │   \u001b[0m\u001b[33m'client-resources'\u001b[0m: \u001b[1m{\u001b[0m\u001b[33m'num-cpus'\u001b[0m: \u001b[94m2\u001b[0m, \u001b[33m'num-gpus'\u001b[0m: \u001b[94m1\u001b[0m\u001b[1m}\u001b[0m,          \u001b[33m│\u001b[0m \u001b[31m│\u001b[0m\n",
            "\u001b[31m│\u001b[0m \u001b[33m│\u001b[0m                     \u001b[2m│   │   │   \u001b[0m\u001b[33m'init_args'\u001b[0m: \u001b[1m{\u001b[0m\u001b[33m'num_cpus'\u001b[0m: \u001b[94m2\u001b[0m, \u001b[33m'num_gpus'\u001b[0m: \u001b[94m1\u001b[0m\u001b[1m}\u001b[0m                  \u001b[33m│\u001b[0m \u001b[31m│\u001b[0m\n",
            "\u001b[31m│\u001b[0m \u001b[33m│\u001b[0m                     \u001b[2m│   │   \u001b[0m\u001b[1m}\u001b[0m                                                                \u001b[33m│\u001b[0m \u001b[31m│\u001b[0m\n",
            "\u001b[31m│\u001b[0m \u001b[33m│\u001b[0m                     \u001b[2m│   \u001b[0m\u001b[1m}\u001b[0m                                                                    \u001b[33m│\u001b[0m \u001b[31m│\u001b[0m\n",
            "\u001b[31m│\u001b[0m \u001b[33m│\u001b[0m                     \u001b[1m}\u001b[0m                                                                        \u001b[33m│\u001b[0m \u001b[31m│\u001b[0m\n",
            "\u001b[31m│\u001b[0m \u001b[33m│\u001b[0m    pyproject_path = \u001b[1;35mPosixPath\u001b[0m\u001b[1m(\u001b[0m\u001b[33m'pyproject.toml'\u001b[0m\u001b[1m)\u001b[0m                                              \u001b[33m│\u001b[0m \u001b[31m│\u001b[0m\n",
            "\u001b[31m│\u001b[0m \u001b[33m│\u001b[0m            stream = \u001b[94mFalse\u001b[0m                                                                    \u001b[33m│\u001b[0m \u001b[31m│\u001b[0m\n",
            "\u001b[31m│\u001b[0m \u001b[33m│\u001b[0m          warnings = \u001b[1m[\u001b[0m\u001b[1m]\u001b[0m                                                                       \u001b[33m│\u001b[0m \u001b[31m│\u001b[0m\n",
            "\u001b[31m│\u001b[0m \u001b[33m╰──────────────────────────────────────────────────────────────────────────────────────────────╯\u001b[0m \u001b[31m│\u001b[0m\n",
            "\u001b[31m│\u001b[0m                                                                                                  \u001b[31m│\u001b[0m\n",
            "\u001b[31m│\u001b[0m \u001b[2;33m/usr/local/lib/python3.11/dist-packages/flwr/cli/run/\u001b[0m\u001b[1;33mrun.py\u001b[0m:\u001b[94m192\u001b[0m in \u001b[92m_run_without_exec_api\u001b[0m         \u001b[31m│\u001b[0m\n",
            "\u001b[31m│\u001b[0m                                                                                                  \u001b[31m│\u001b[0m\n",
            "\u001b[31m│\u001b[0m   \u001b[2m189 \u001b[0m\u001b[2m│   │   \u001b[0mcommand.extend([\u001b[33m\"\u001b[0m\u001b[33m--run-config\u001b[0m\u001b[33m\"\u001b[0m, \u001b[33mf\u001b[0m\u001b[33m\"\u001b[0m\u001b[33m{\u001b[0m\u001b[33m'\u001b[0m\u001b[33m \u001b[0m\u001b[33m'\u001b[0m.join(config_overrides)\u001b[33m}\u001b[0m\u001b[33m\"\u001b[0m])                  \u001b[31m│\u001b[0m\n",
            "\u001b[31m│\u001b[0m   \u001b[2m190 \u001b[0m\u001b[2m│   \u001b[0m                                                                                       \u001b[31m│\u001b[0m\n",
            "\u001b[31m│\u001b[0m   \u001b[2m191 \u001b[0m\u001b[2m│   \u001b[0m\u001b[2m# Run the simulation\u001b[0m                                                                   \u001b[31m│\u001b[0m\n",
            "\u001b[31m│\u001b[0m \u001b[31m❱ \u001b[0m192 \u001b[2m│   \u001b[0m\u001b[1;4msubprocess.run(\u001b[0m                                                                        \u001b[31m│\u001b[0m\n",
            "\u001b[31m│\u001b[0m   \u001b[2m193 \u001b[0m\u001b[1;2;4m│   │   \u001b[0m\u001b[1;4mcommand,\u001b[0m                                                                           \u001b[31m│\u001b[0m\n",
            "\u001b[31m│\u001b[0m   \u001b[2m194 \u001b[0m\u001b[1;2;4m│   │   \u001b[0m\u001b[1;4mcheck=\u001b[0m\u001b[1;4;94mTrue\u001b[0m\u001b[1;4m,\u001b[0m                                                                        \u001b[31m│\u001b[0m\n",
            "\u001b[31m│\u001b[0m   \u001b[2m195 \u001b[0m\u001b[1;2;4m│   │   \u001b[0m\u001b[1;4mtext=\u001b[0m\u001b[1;4;94mTrue\u001b[0m\u001b[1;4m,\u001b[0m                                                                         \u001b[31m│\u001b[0m\n",
            "\u001b[31m│\u001b[0m                                                                                                  \u001b[31m│\u001b[0m\n",
            "\u001b[31m│\u001b[0m \u001b[33m╭─\u001b[0m\u001b[33m──────────────────────────────────────────\u001b[0m\u001b[33m locals \u001b[0m\u001b[33m──────────────────────────────────────────\u001b[0m\u001b[33m─╮\u001b[0m \u001b[31m│\u001b[0m\n",
            "\u001b[31m│\u001b[0m \u001b[33m│\u001b[0m               app = \u001b[1;35mPosixPath\u001b[0m\u001b[1m(\u001b[0m\u001b[33m'.'\u001b[0m\u001b[1m)\u001b[0m                                                           \u001b[33m│\u001b[0m \u001b[31m│\u001b[0m\n",
            "\u001b[31m│\u001b[0m \u001b[33m│\u001b[0m       backend_cfg = \u001b[1m{\u001b[0m                                                                        \u001b[33m│\u001b[0m \u001b[31m│\u001b[0m\n",
            "\u001b[31m│\u001b[0m \u001b[33m│\u001b[0m                     \u001b[2m│   \u001b[0m\u001b[33m'client-resources'\u001b[0m: \u001b[1m{\u001b[0m\u001b[33m'num-cpus'\u001b[0m: \u001b[94m2\u001b[0m, \u001b[33m'num-gpus'\u001b[0m: \u001b[94m1\u001b[0m\u001b[1m}\u001b[0m,                  \u001b[33m│\u001b[0m \u001b[31m│\u001b[0m\n",
            "\u001b[31m│\u001b[0m \u001b[33m│\u001b[0m                     \u001b[2m│   \u001b[0m\u001b[33m'init_args'\u001b[0m: \u001b[1m{\u001b[0m\u001b[33m'num_cpus'\u001b[0m: \u001b[94m2\u001b[0m, \u001b[33m'num_gpus'\u001b[0m: \u001b[94m1\u001b[0m\u001b[1m}\u001b[0m                          \u001b[33m│\u001b[0m \u001b[31m│\u001b[0m\n",
            "\u001b[31m│\u001b[0m \u001b[33m│\u001b[0m                     \u001b[1m}\u001b[0m                                                                        \u001b[33m│\u001b[0m \u001b[31m│\u001b[0m\n",
            "\u001b[31m│\u001b[0m \u001b[33m│\u001b[0m           command = \u001b[1m[\u001b[0m                                                                        \u001b[33m│\u001b[0m \u001b[31m│\u001b[0m\n",
            "\u001b[31m│\u001b[0m \u001b[33m│\u001b[0m                     \u001b[2m│   \u001b[0m\u001b[33m'flower-simulation'\u001b[0m,                                                 \u001b[33m│\u001b[0m \u001b[31m│\u001b[0m\n",
            "\u001b[31m│\u001b[0m \u001b[33m│\u001b[0m                     \u001b[2m│   \u001b[0m\u001b[33m'--app'\u001b[0m,                                                             \u001b[33m│\u001b[0m \u001b[31m│\u001b[0m\n",
            "\u001b[31m│\u001b[0m \u001b[33m│\u001b[0m                     \u001b[2m│   \u001b[0m\u001b[33m'.'\u001b[0m,                                                                 \u001b[33m│\u001b[0m \u001b[31m│\u001b[0m\n",
            "\u001b[31m│\u001b[0m \u001b[33m│\u001b[0m                     \u001b[2m│   \u001b[0m\u001b[33m'--num-supernodes'\u001b[0m,                                                  \u001b[33m│\u001b[0m \u001b[31m│\u001b[0m\n",
            "\u001b[31m│\u001b[0m \u001b[33m│\u001b[0m                     \u001b[2m│   \u001b[0m\u001b[33m'3'\u001b[0m,                                                                 \u001b[33m│\u001b[0m \u001b[31m│\u001b[0m\n",
            "\u001b[31m│\u001b[0m \u001b[33m│\u001b[0m                     \u001b[2m│   \u001b[0m\u001b[33m'--backend-config'\u001b[0m,                                                  \u001b[33m│\u001b[0m \u001b[31m│\u001b[0m\n",
            "\u001b[31m│\u001b[0m \u001b[33m│\u001b[0m                     \u001b[2m│   \u001b[0m\u001b[33m'\u001b[0m\u001b[1;33m{\u001b[0m\u001b[33m\"client-resources\": \u001b[0m\u001b[1;33m{\u001b[0m\u001b[33m\"num-cpus\": 2, \"num-gpus\": 1\u001b[0m\u001b[1;33m}\u001b[0m\u001b[33m, \"init_args\": \u001b[0m  \u001b[33m│\u001b[0m \u001b[31m│\u001b[0m\n",
            "\u001b[31m│\u001b[0m \u001b[33m│\u001b[0m                     \u001b[1;33m{\u001b[0m\u001b[33m\"num_cpus\": 2'\u001b[0m+\u001b[94m17\u001b[0m                                                       \u001b[33m│\u001b[0m \u001b[31m│\u001b[0m\n",
            "\u001b[31m│\u001b[0m \u001b[33m│\u001b[0m                     \u001b[1m]\u001b[0m                                                                        \u001b[33m│\u001b[0m \u001b[31m│\u001b[0m\n",
            "\u001b[31m│\u001b[0m \u001b[33m│\u001b[0m  config_overrides = \u001b[94mNone\u001b[0m                                                                     \u001b[33m│\u001b[0m \u001b[31m│\u001b[0m\n",
            "\u001b[31m│\u001b[0m \u001b[33m│\u001b[0m        federation = \u001b[33m'local-simulation'\u001b[0m                                                       \u001b[33m│\u001b[0m \u001b[31m│\u001b[0m\n",
            "\u001b[31m│\u001b[0m \u001b[33m│\u001b[0m federation_config = \u001b[1m{\u001b[0m                                                                        \u001b[33m│\u001b[0m \u001b[31m│\u001b[0m\n",
            "\u001b[31m│\u001b[0m \u001b[33m│\u001b[0m                     \u001b[2m│   \u001b[0m\u001b[33m'options'\u001b[0m: \u001b[1m{\u001b[0m                                                         \u001b[33m│\u001b[0m \u001b[31m│\u001b[0m\n",
            "\u001b[31m│\u001b[0m \u001b[33m│\u001b[0m                     \u001b[2m│   │   \u001b[0m\u001b[33m'num-supernodes'\u001b[0m: \u001b[94m3\u001b[0m,                                             \u001b[33m│\u001b[0m \u001b[31m│\u001b[0m\n",
            "\u001b[31m│\u001b[0m \u001b[33m│\u001b[0m                     \u001b[2m│   │   \u001b[0m\u001b[33m'backend'\u001b[0m: \u001b[1m{\u001b[0m                                                     \u001b[33m│\u001b[0m \u001b[31m│\u001b[0m\n",
            "\u001b[31m│\u001b[0m \u001b[33m│\u001b[0m                     \u001b[2m│   │   │   \u001b[0m\u001b[33m'client-resources'\u001b[0m: \u001b[1m{\u001b[0m\u001b[33m'num-cpus'\u001b[0m: \u001b[94m2\u001b[0m, \u001b[33m'num-gpus'\u001b[0m: \u001b[94m1\u001b[0m\u001b[1m}\u001b[0m,          \u001b[33m│\u001b[0m \u001b[31m│\u001b[0m\n",
            "\u001b[31m│\u001b[0m \u001b[33m│\u001b[0m                     \u001b[2m│   │   │   \u001b[0m\u001b[33m'init_args'\u001b[0m: \u001b[1m{\u001b[0m\u001b[33m'num_cpus'\u001b[0m: \u001b[94m2\u001b[0m, \u001b[33m'num_gpus'\u001b[0m: \u001b[94m1\u001b[0m\u001b[1m}\u001b[0m                  \u001b[33m│\u001b[0m \u001b[31m│\u001b[0m\n",
            "\u001b[31m│\u001b[0m \u001b[33m│\u001b[0m                     \u001b[2m│   │   \u001b[0m\u001b[1m}\u001b[0m                                                                \u001b[33m│\u001b[0m \u001b[31m│\u001b[0m\n",
            "\u001b[31m│\u001b[0m \u001b[33m│\u001b[0m                     \u001b[2m│   \u001b[0m\u001b[1m}\u001b[0m                                                                    \u001b[33m│\u001b[0m \u001b[31m│\u001b[0m\n",
            "\u001b[31m│\u001b[0m \u001b[33m│\u001b[0m                     \u001b[1m}\u001b[0m                                                                        \u001b[33m│\u001b[0m \u001b[31m│\u001b[0m\n",
            "\u001b[31m│\u001b[0m \u001b[33m│\u001b[0m    num_supernodes = \u001b[94m3\u001b[0m                                                                        \u001b[33m│\u001b[0m \u001b[31m│\u001b[0m\n",
            "\u001b[31m│\u001b[0m \u001b[33m│\u001b[0m           verbose = \u001b[94mNone\u001b[0m                                                                     \u001b[33m│\u001b[0m \u001b[31m│\u001b[0m\n",
            "\u001b[31m│\u001b[0m \u001b[33m╰──────────────────────────────────────────────────────────────────────────────────────────────╯\u001b[0m \u001b[31m│\u001b[0m\n",
            "\u001b[31m│\u001b[0m                                                                                                  \u001b[31m│\u001b[0m\n",
            "\u001b[31m│\u001b[0m \u001b[2;33m/usr/lib/python3.11/\u001b[0m\u001b[1;33msubprocess.py\u001b[0m:\u001b[94m571\u001b[0m in \u001b[92mrun\u001b[0m                                                     \u001b[31m│\u001b[0m\n",
            "\u001b[31m│\u001b[0m                                                                                                  \u001b[31m│\u001b[0m\n",
            "\u001b[31m│\u001b[0m   \u001b[2m 568 \u001b[0m\u001b[2m│   │   │   \u001b[0m\u001b[94mraise\u001b[0m                                                                         \u001b[31m│\u001b[0m\n",
            "\u001b[31m│\u001b[0m   \u001b[2m 569 \u001b[0m\u001b[2m│   │   \u001b[0mretcode = process.poll()                                                          \u001b[31m│\u001b[0m\n",
            "\u001b[31m│\u001b[0m   \u001b[2m 570 \u001b[0m\u001b[2m│   │   \u001b[0m\u001b[94mif\u001b[0m check \u001b[95mand\u001b[0m retcode:                                                             \u001b[31m│\u001b[0m\n",
            "\u001b[31m│\u001b[0m \u001b[31m❱ \u001b[0m 571 \u001b[2m│   │   │   \u001b[0m\u001b[1;4;94mraise\u001b[0m\u001b[1;4m CalledProcessError(retcode, process.args,\u001b[0m                               \u001b[31m│\u001b[0m\n",
            "\u001b[31m│\u001b[0m   \u001b[2m 572 \u001b[0m\u001b[1;2;4m│   │   │   │   │   │   │   │   │    \u001b[0m\u001b[1;4moutput=stdout, stderr=stderr)\u001b[0m                        \u001b[31m│\u001b[0m\n",
            "\u001b[31m│\u001b[0m   \u001b[2m 573 \u001b[0m\u001b[2m│   \u001b[0m\u001b[94mreturn\u001b[0m CompletedProcess(process.args, retcode, stdout, stderr)                        \u001b[31m│\u001b[0m\n",
            "\u001b[31m│\u001b[0m   \u001b[2m 574 \u001b[0m                                                                                          \u001b[31m│\u001b[0m\n",
            "\u001b[31m│\u001b[0m                                                                                                  \u001b[31m│\u001b[0m\n",
            "\u001b[31m│\u001b[0m \u001b[33m╭─\u001b[0m\u001b[33m──────────────────────────────────────────\u001b[0m\u001b[33m locals \u001b[0m\u001b[33m──────────────────────────────────────────\u001b[0m\u001b[33m─╮\u001b[0m \u001b[31m│\u001b[0m\n",
            "\u001b[31m│\u001b[0m \u001b[33m│\u001b[0m capture_output = \u001b[94mFalse\u001b[0m                                                                       \u001b[33m│\u001b[0m \u001b[31m│\u001b[0m\n",
            "\u001b[31m│\u001b[0m \u001b[33m│\u001b[0m          check = \u001b[94mTrue\u001b[0m                                                                        \u001b[33m│\u001b[0m \u001b[31m│\u001b[0m\n",
            "\u001b[31m│\u001b[0m \u001b[33m│\u001b[0m          input = \u001b[94mNone\u001b[0m                                                                        \u001b[33m│\u001b[0m \u001b[31m│\u001b[0m\n",
            "\u001b[31m│\u001b[0m \u001b[33m│\u001b[0m         kwargs = \u001b[1m{\u001b[0m\u001b[33m'text'\u001b[0m: \u001b[94mTrue\u001b[0m\u001b[1m}\u001b[0m                                                              \u001b[33m│\u001b[0m \u001b[31m│\u001b[0m\n",
            "\u001b[31m│\u001b[0m \u001b[33m│\u001b[0m      popenargs = \u001b[1m(\u001b[0m                                                                           \u001b[33m│\u001b[0m \u001b[31m│\u001b[0m\n",
            "\u001b[31m│\u001b[0m \u001b[33m│\u001b[0m                  \u001b[2m│   \u001b[0m\u001b[1m[\u001b[0m                                                                       \u001b[33m│\u001b[0m \u001b[31m│\u001b[0m\n",
            "\u001b[31m│\u001b[0m \u001b[33m│\u001b[0m                  \u001b[2m│   │   \u001b[0m\u001b[33m'flower-simulation'\u001b[0m,                                                \u001b[33m│\u001b[0m \u001b[31m│\u001b[0m\n",
            "\u001b[31m│\u001b[0m \u001b[33m│\u001b[0m                  \u001b[2m│   │   \u001b[0m\u001b[33m'--app'\u001b[0m,                                                            \u001b[33m│\u001b[0m \u001b[31m│\u001b[0m\n",
            "\u001b[31m│\u001b[0m \u001b[33m│\u001b[0m                  \u001b[2m│   │   \u001b[0m\u001b[33m'.'\u001b[0m,                                                                \u001b[33m│\u001b[0m \u001b[31m│\u001b[0m\n",
            "\u001b[31m│\u001b[0m \u001b[33m│\u001b[0m                  \u001b[2m│   │   \u001b[0m\u001b[33m'--num-supernodes'\u001b[0m,                                                 \u001b[33m│\u001b[0m \u001b[31m│\u001b[0m\n",
            "\u001b[31m│\u001b[0m \u001b[33m│\u001b[0m                  \u001b[2m│   │   \u001b[0m\u001b[33m'3'\u001b[0m,                                                                \u001b[33m│\u001b[0m \u001b[31m│\u001b[0m\n",
            "\u001b[31m│\u001b[0m \u001b[33m│\u001b[0m                  \u001b[2m│   │   \u001b[0m\u001b[33m'--backend-config'\u001b[0m,                                                 \u001b[33m│\u001b[0m \u001b[31m│\u001b[0m\n",
            "\u001b[31m│\u001b[0m \u001b[33m│\u001b[0m                  \u001b[2m│   │   \u001b[0m\u001b[33m'\u001b[0m\u001b[1;33m{\u001b[0m\u001b[33m\"client-resources\": \u001b[0m\u001b[1;33m{\u001b[0m\u001b[33m\"num-cpus\": 2, \"num-gpus\": 1\u001b[0m\u001b[1;33m}\u001b[0m\u001b[33m, \"init_args\": \u001b[0m \u001b[33m│\u001b[0m \u001b[31m│\u001b[0m\n",
            "\u001b[31m│\u001b[0m \u001b[33m│\u001b[0m                  \u001b[1;33m{\u001b[0m\u001b[33m\"num_cpus\": 2'\u001b[0m+\u001b[94m17\u001b[0m                                                          \u001b[33m│\u001b[0m \u001b[31m│\u001b[0m\n",
            "\u001b[31m│\u001b[0m \u001b[33m│\u001b[0m                  \u001b[2m│   \u001b[0m\u001b[1m]\u001b[0m,                                                                      \u001b[33m│\u001b[0m \u001b[31m│\u001b[0m\n",
            "\u001b[31m│\u001b[0m \u001b[33m│\u001b[0m                  \u001b[1m)\u001b[0m                                                                           \u001b[33m│\u001b[0m \u001b[31m│\u001b[0m\n",
            "\u001b[31m│\u001b[0m \u001b[33m│\u001b[0m        process = \u001b[1m<\u001b[0m\u001b[1;95mPopen:\u001b[0m\u001b[39m returncode: \u001b[0m\u001b[94m1\u001b[0m\u001b[39m args: \u001b[0m\u001b[1;39m[\u001b[0m\u001b[33m'flower-simulation'\u001b[0m\u001b[39m, \u001b[0m\u001b[33m'--app'\u001b[0m\u001b[39m, \u001b[0m\u001b[33m'.'\u001b[0m\u001b[39m, \u001b[0m            \u001b[33m│\u001b[0m \u001b[31m│\u001b[0m\n",
            "\u001b[31m│\u001b[0m \u001b[33m│\u001b[0m                  \u001b[39m'--num-super\u001b[0m\u001b[33m...\u001b[0m\u001b[1m>\u001b[0m                                                            \u001b[33m│\u001b[0m \u001b[31m│\u001b[0m\n",
            "\u001b[31m│\u001b[0m \u001b[33m│\u001b[0m        retcode = \u001b[94m1\u001b[0m                                                                           \u001b[33m│\u001b[0m \u001b[31m│\u001b[0m\n",
            "\u001b[31m│\u001b[0m \u001b[33m│\u001b[0m         stderr = \u001b[94mNone\u001b[0m                                                                        \u001b[33m│\u001b[0m \u001b[31m│\u001b[0m\n",
            "\u001b[31m│\u001b[0m \u001b[33m│\u001b[0m         stdout = \u001b[94mNone\u001b[0m                                                                        \u001b[33m│\u001b[0m \u001b[31m│\u001b[0m\n",
            "\u001b[31m│\u001b[0m \u001b[33m│\u001b[0m        timeout = \u001b[94mNone\u001b[0m                                                                        \u001b[33m│\u001b[0m \u001b[31m│\u001b[0m\n",
            "\u001b[31m│\u001b[0m \u001b[33m╰──────────────────────────────────────────────────────────────────────────────────────────────╯\u001b[0m \u001b[31m│\u001b[0m\n",
            "\u001b[31m╰──────────────────────────────────────────────────────────────────────────────────────────────────╯\u001b[0m\n",
            "\u001b[1;91mCalledProcessError: \u001b[0mCommand \u001b[32m'\u001b[0m\u001b[32m[\u001b[0m\u001b[32m'\u001b[0mflower-simulation', \u001b[32m'--app'\u001b[0m, \u001b[32m'.'\u001b[0m, \u001b[32m'--num-supernodes'\u001b[0m, \u001b[32m'3'\u001b[0m, \n",
            "\u001b[32m'--backend-config'\u001b[0m, \u001b[32m'\u001b[0m\u001b[32m{\u001b[0m\u001b[32m\"client-resources\": \u001b[0m\u001b[32m{\u001b[0m\u001b[32m\"num-cpus\": 2, \"num-gpus\": 1\u001b[0m\u001b[32m}\u001b[0m\u001b[32m, \"init_args\": \u001b[0m\u001b[32m{\u001b[0m\u001b[32m\"num_cpus\": \u001b[0m\n",
            "\u001b[32m2, \"num_gpus\": 1\u001b[0m\u001b[32m}\u001b[0m\u001b[32m}\u001b[0m\u001b[32m'\u001b[0m\u001b[1m]\u001b[0m' returned non-zero exit status \u001b[1;36m1\u001b[0m.\n"
          ]
        }
      ]
    },
    {
      "cell_type": "code",
      "source": [],
      "metadata": {
        "id": "mcsmtBW6UVBA"
      },
      "execution_count": 14,
      "outputs": []
    }
  ]
}
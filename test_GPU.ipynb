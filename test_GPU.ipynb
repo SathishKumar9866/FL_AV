{
  "nbformat": 4,
  "nbformat_minor": 0,
  "metadata": {
    "colab": {
      "provenance": [],
      "gpuType": "T4",
      "authorship_tag": "ABX9TyMLwUUzlscDz+oLr6GZ/lDM",
      "include_colab_link": true
    },
    "kernelspec": {
      "name": "python3",
      "display_name": "Python 3"
    },
    "language_info": {
      "name": "python"
    },
    "accelerator": "GPU"
  },
  "cells": [
    {
      "cell_type": "markdown",
      "metadata": {
        "id": "view-in-github",
        "colab_type": "text"
      },
      "source": [
        "<a href=\"https://colab.research.google.com/github/SathishKumar9866/FL_AV/blob/check/test_GPU.ipynb\" target=\"_parent\"><img src=\"https://colab.research.google.com/assets/colab-badge.svg\" alt=\"Open In Colab\"/></a>"
      ]
    },
    {
      "cell_type": "code",
      "source": [],
      "metadata": {
        "id": "RTzRPi6cuHEJ"
      },
      "execution_count": 2,
      "outputs": []
    },
    {
      "cell_type": "code",
      "source": [
        "import os\n",
        "import logging\n",
        "import subprocess\n",
        "import sys\n",
        "\n",
        "# 1) Create a logs directory if it doesn't exist\n",
        "LOG_DIR = \"logs\"\n",
        "if not os.path.exists(LOG_DIR):\n",
        "    os.makedirs(LOG_DIR)\n",
        "\n",
        "# 2) Configure logging to write to logs/installation.log\n",
        "logging.basicConfig(\n",
        "    filename=os.path.join(LOG_DIR, \"installation.log\"),\n",
        "    level=logging.INFO,\n",
        "    format=\"%(asctime)s - %(levelname)s - %(message)s\"\n",
        ")\n",
        "\n",
        "def run_command(command: str):\n",
        "    \"\"\"\n",
        "    Run a shell command in Python, log its usage and status.\n",
        "    \"\"\"\n",
        "    logging.info(f\"Running command: {command}\")\n",
        "    try:\n",
        "        subprocess.check_call(command, shell=True)\n",
        "        logging.info(\"Command completed successfully.\")\n",
        "    except subprocess.CalledProcessError as e:\n",
        "        logging.error(f\"Command failed with error: {str(e)}\")\n",
        "        # Exit or raise an exception depending on your preference.\n",
        "        sys.exit(1)\n",
        "\n",
        "# # 3) Clone GitHub repository if not already present\n",
        "# FL_AV_PATH = \"/content/FL_AV\"\n",
        "# if not os.path.exists(FL_AV_PATH):\n",
        "#     logging.info(\"Repository not found. Cloning...\")\n",
        "#     run_command(\"git clone https://github.com/SathishKumar9866/FL_AV.git /content/FL_AV\")\n",
        "# else:\n",
        "#     logging.info(\"Repository already present. Skipping clone.\")\n",
        "\n",
        "# # 4) List files in the directory\n",
        "# try:\n",
        "#     files = os.listdir(FL_AV_PATH)\n",
        "#     print(\"Files in /content/FL_AV/:\", files)\n",
        "#     logging.info(f\"Files in /content/FL_AV/: {files}\")\n",
        "# except FileNotFoundError:\n",
        "#     logging.error(f\"Directory {FL_AV_PATH} not found after clone attempt.\")\n",
        "#     sys.exit(1)\n",
        "\n",
        "# # 5) Install necessary dependencies\n",
        "# run_command(\"pip install tensorflow keras\")\n",
        "# run_command(\"pip install torch torchvision\")\n",
        "# run_command(\"pip install -U flwr\")\n",
        "# run_command(\"pip install -U 'flwr[simulation]'\")\n",
        "# run_command(\"pip install torch==2.0.0 torchvision==0.15.0+cu117 --index-url https://download.pytorch.org/whl/cu117\")\n",
        "\n",
        "# # 6) Check GPU information\n",
        "# run_command(\"nvidia-smi\")\n",
        "\n",
        "# # 7) Check CUDA version\n",
        "# run_command(\"nvcc --version\")\n",
        "\n",
        "# # 8) Check if GPU is available in PyTorch\n",
        "import torch\n",
        "# if torch.cuda.is_available():\n",
        "#     device = torch.device(\"cuda\")\n",
        "#     print(\"GPU is available!\")\n",
        "#     logging.info(\"GPU is available!\")\n",
        "# else:\n",
        "#     device = torch.device(\"cpu\")\n",
        "#     print(\"GPU not available, using CPU.\")\n",
        "#     logging.info(\"GPU not available, using CPU.\")\n"
      ],
      "metadata": {
        "id": "BZ2oS2ZwWwQ9"
      },
      "execution_count": 5,
      "outputs": []
    },
    {
      "cell_type": "code",
      "source": [],
      "metadata": {
        "id": "W6xKgCEBuG4x"
      },
      "execution_count": 5,
      "outputs": []
    },
    {
      "cell_type": "code",
      "source": [
        "# Print PyTorch and CUDA details\n",
        "print(\"PyTorch version:\", torch.__version__)\n",
        "print(\"CUDA available:\", torch.cuda.is_available())\n",
        "print(\"CUDA version:\", torch.version.cuda)\n",
        "print(\"GPU:\", torch.cuda.get_device_name(0))\n",
        "\n",
        "# Install dependencies from requirements.txt\n",
        "# !pip install -r /content/FL_AV/requirements.txt"
      ],
      "metadata": {
        "id": "IAMvG1VBT7JZ",
        "outputId": "21efb9cb-7329-44d8-bb91-f8fbafe001cf",
        "colab": {
          "base_uri": "https://localhost:8080/"
        }
      },
      "execution_count": 6,
      "outputs": [
        {
          "output_type": "stream",
          "name": "stdout",
          "text": [
            "PyTorch version: 2.0.0+cu117\n",
            "CUDA available: True\n",
            "CUDA version: 11.7\n",
            "GPU: Tesla T4\n"
          ]
        }
      ]
    },
    {
      "cell_type": "code",
      "source": [
        "cd /content/FL_AV/my-project/"
      ],
      "metadata": {
        "id": "urdBfuohUppl",
        "outputId": "eb935b3b-80e2-4198-834d-38325889a7db",
        "colab": {
          "base_uri": "https://localhost:8080/"
        }
      },
      "execution_count": 7,
      "outputs": [
        {
          "output_type": "stream",
          "name": "stdout",
          "text": [
            "/content/FL_AV/my-project\n"
          ]
        }
      ]
    },
    {
      "cell_type": "code",
      "source": [
        "# !pip uninstall -y torch torchvision\n",
        "# !pip install --no-cache-dir torch torchvision\n"
      ],
      "metadata": {
        "id": "Lnqz0I8GW_J1",
        "outputId": "0ad6e8cd-fb83-4791-bbb9-f70308125708",
        "colab": {
          "base_uri": "https://localhost:8080/",
          "height": 1000
        }
      },
      "execution_count": 8,
      "outputs": [
        {
          "output_type": "stream",
          "name": "stdout",
          "text": [
            "Found existing installation: torch 2.0.0+cu117\n",
            "Uninstalling torch-2.0.0+cu117:\n",
            "  Successfully uninstalled torch-2.0.0+cu117\n",
            "Found existing installation: torchvision 0.15.0+cu117\n",
            "Uninstalling torchvision-0.15.0+cu117:\n",
            "  Successfully uninstalled torchvision-0.15.0+cu117\n",
            "Collecting torch\n",
            "  Downloading torch-2.6.0-cp311-cp311-manylinux1_x86_64.whl.metadata (28 kB)\n",
            "Collecting torchvision\n",
            "  Downloading torchvision-0.21.0-cp311-cp311-manylinux1_x86_64.whl.metadata (6.1 kB)\n",
            "Requirement already satisfied: filelock in /usr/local/lib/python3.11/dist-packages (from torch) (3.17.0)\n",
            "Requirement already satisfied: typing-extensions>=4.10.0 in /usr/local/lib/python3.11/dist-packages (from torch) (4.12.2)\n",
            "Requirement already satisfied: networkx in /usr/local/lib/python3.11/dist-packages (from torch) (3.4.2)\n",
            "Requirement already satisfied: jinja2 in /usr/local/lib/python3.11/dist-packages (from torch) (3.1.5)\n",
            "Requirement already satisfied: fsspec in /usr/local/lib/python3.11/dist-packages (from torch) (2024.3.1)\n",
            "Requirement already satisfied: nvidia-cuda-nvrtc-cu12==12.4.127 in /usr/local/lib/python3.11/dist-packages (from torch) (12.4.127)\n",
            "Requirement already satisfied: nvidia-cuda-runtime-cu12==12.4.127 in /usr/local/lib/python3.11/dist-packages (from torch) (12.4.127)\n",
            "Requirement already satisfied: nvidia-cuda-cupti-cu12==12.4.127 in /usr/local/lib/python3.11/dist-packages (from torch) (12.4.127)\n",
            "Requirement already satisfied: nvidia-cudnn-cu12==9.1.0.70 in /usr/local/lib/python3.11/dist-packages (from torch) (9.1.0.70)\n",
            "Requirement already satisfied: nvidia-cublas-cu12==12.4.5.8 in /usr/local/lib/python3.11/dist-packages (from torch) (12.4.5.8)\n",
            "Requirement already satisfied: nvidia-cufft-cu12==11.2.1.3 in /usr/local/lib/python3.11/dist-packages (from torch) (11.2.1.3)\n",
            "Requirement already satisfied: nvidia-curand-cu12==10.3.5.147 in /usr/local/lib/python3.11/dist-packages (from torch) (10.3.5.147)\n",
            "Requirement already satisfied: nvidia-cusolver-cu12==11.6.1.9 in /usr/local/lib/python3.11/dist-packages (from torch) (11.6.1.9)\n",
            "Requirement already satisfied: nvidia-cusparse-cu12==12.3.1.170 in /usr/local/lib/python3.11/dist-packages (from torch) (12.3.1.170)\n",
            "Requirement already satisfied: nvidia-cusparselt-cu12==0.6.2 in /usr/local/lib/python3.11/dist-packages (from torch) (0.6.2)\n",
            "Requirement already satisfied: nvidia-nccl-cu12==2.21.5 in /usr/local/lib/python3.11/dist-packages (from torch) (2.21.5)\n",
            "Requirement already satisfied: nvidia-nvtx-cu12==12.4.127 in /usr/local/lib/python3.11/dist-packages (from torch) (12.4.127)\n",
            "Requirement already satisfied: nvidia-nvjitlink-cu12==12.4.127 in /usr/local/lib/python3.11/dist-packages (from torch) (12.4.127)\n",
            "Collecting triton==3.2.0 (from torch)\n",
            "  Downloading triton-3.2.0-cp311-cp311-manylinux_2_17_x86_64.manylinux2014_x86_64.whl.metadata (1.4 kB)\n",
            "Requirement already satisfied: sympy==1.13.1 in /usr/local/lib/python3.11/dist-packages (from torch) (1.13.1)\n",
            "Requirement already satisfied: mpmath<1.4,>=1.1.0 in /usr/local/lib/python3.11/dist-packages (from sympy==1.13.1->torch) (1.3.0)\n",
            "Requirement already satisfied: numpy in /usr/local/lib/python3.11/dist-packages (from torchvision) (1.26.4)\n",
            "Requirement already satisfied: pillow!=8.3.*,>=5.3.0 in /usr/local/lib/python3.11/dist-packages (from torchvision) (11.1.0)\n",
            "Requirement already satisfied: MarkupSafe>=2.0 in /usr/local/lib/python3.11/dist-packages (from jinja2->torch) (3.0.2)\n",
            "Downloading torch-2.6.0-cp311-cp311-manylinux1_x86_64.whl (766.7 MB)\n",
            "\u001b[2K   \u001b[90m━━━━━━━━━━━━━━━━━━━━━━━━━━━━━━━━━━━━━━━━\u001b[0m \u001b[32m766.7/766.7 MB\u001b[0m \u001b[31m174.8 MB/s\u001b[0m eta \u001b[36m0:00:00\u001b[0m\n",
            "\u001b[?25hDownloading triton-3.2.0-cp311-cp311-manylinux_2_17_x86_64.manylinux2014_x86_64.whl (253.2 MB)\n",
            "\u001b[2K   \u001b[90m━━━━━━━━━━━━━━━━━━━━━━━━━━━━━━━━━━━━━━━━\u001b[0m \u001b[32m253.2/253.2 MB\u001b[0m \u001b[31m45.9 MB/s\u001b[0m eta \u001b[36m0:00:00\u001b[0m\n",
            "\u001b[?25hDownloading torchvision-0.21.0-cp311-cp311-manylinux1_x86_64.whl (7.2 MB)\n",
            "\u001b[2K   \u001b[90m━━━━━━━━━━━━━━━━━━━━━━━━━━━━━━━━━━━━━━━━\u001b[0m \u001b[32m7.2/7.2 MB\u001b[0m \u001b[31m180.8 MB/s\u001b[0m eta \u001b[36m0:00:00\u001b[0m\n",
            "\u001b[?25hInstalling collected packages: triton, torch, torchvision\n",
            "  Attempting uninstall: triton\n",
            "    Found existing installation: triton 2.0.0\n",
            "    Uninstalling triton-2.0.0:\n",
            "      Successfully uninstalled triton-2.0.0\n",
            "\u001b[31mERROR: pip's dependency resolver does not currently take into account all the packages that are installed. This behaviour is the source of the following dependency conflicts.\n",
            "torchaudio 2.0.1 requires torch==2.0.0, but you have torch 2.6.0 which is incompatible.\n",
            "my-project 1.0.0 requires torch==2.0.0, but you have torch 2.6.0 which is incompatible.\n",
            "my-project 1.0.0 requires torchvision==0.15.0, but you have torchvision 0.21.0 which is incompatible.\n",
            "fastai 2.7.18 requires torch<2.6,>=1.10, but you have torch 2.6.0 which is incompatible.\u001b[0m\u001b[31m\n",
            "\u001b[0mSuccessfully installed torch-2.6.0 torchvision-0.21.0 triton-3.2.0\n"
          ]
        },
        {
          "output_type": "display_data",
          "data": {
            "application/vnd.colab-display-data+json": {
              "pip_warning": {
                "packages": [
                  "torch"
                ]
              },
              "id": "a741df41945c4485888f56216fd42d86"
            }
          },
          "metadata": {}
        }
      ]
    },
    {
      "cell_type": "code",
      "source": [
        "# !pip uninstall -y torch torchvision\n",
        "# !pip install torch==2.0.0 torchvision==0.15.0+cu117 --index-url https://download.pytorch.org/whl/cu117\n"
      ],
      "metadata": {
        "id": "CYrvuzIUYSDD",
        "outputId": "fe3868aa-4dfc-4e1f-e360-6b61c55c437c",
        "colab": {
          "base_uri": "https://localhost:8080/",
          "height": 756
        }
      },
      "execution_count": 9,
      "outputs": [
        {
          "output_type": "stream",
          "name": "stdout",
          "text": [
            "Found existing installation: torch 2.6.0\n",
            "Uninstalling torch-2.6.0:\n",
            "  Successfully uninstalled torch-2.6.0\n",
            "Found existing installation: torchvision 0.21.0\n",
            "Uninstalling torchvision-0.21.0:\n",
            "  Successfully uninstalled torchvision-0.21.0\n",
            "Looking in indexes: https://download.pytorch.org/whl/cu117\n",
            "Collecting torch==2.0.0\n",
            "  Using cached https://download.pytorch.org/whl/cu117/torch-2.0.0%2Bcu117-cp311-cp311-linux_x86_64.whl (1843.9 MB)\n",
            "Collecting torchvision==0.15.0+cu117\n",
            "  Using cached https://download.pytorch.org/whl/cu117/torchvision-0.15.0%2Bcu117-cp311-cp311-linux_x86_64.whl (6.1 MB)\n",
            "Requirement already satisfied: filelock in /usr/local/lib/python3.11/dist-packages (from torch==2.0.0) (3.17.0)\n",
            "Requirement already satisfied: typing-extensions in /usr/local/lib/python3.11/dist-packages (from torch==2.0.0) (4.12.2)\n",
            "Requirement already satisfied: sympy in /usr/local/lib/python3.11/dist-packages (from torch==2.0.0) (1.13.1)\n",
            "Requirement already satisfied: networkx in /usr/local/lib/python3.11/dist-packages (from torch==2.0.0) (3.4.2)\n",
            "Requirement already satisfied: jinja2 in /usr/local/lib/python3.11/dist-packages (from torch==2.0.0) (3.1.5)\n",
            "Collecting triton==2.0.0 (from torch==2.0.0)\n",
            "  Using cached https://download.pytorch.org/whl/triton-2.0.0-1-cp311-cp311-manylinux2014_x86_64.manylinux_2_17_x86_64.whl (63.3 MB)\n",
            "Requirement already satisfied: numpy in /usr/local/lib/python3.11/dist-packages (from torchvision==0.15.0+cu117) (1.26.4)\n",
            "Requirement already satisfied: requests in /usr/local/lib/python3.11/dist-packages (from torchvision==0.15.0+cu117) (2.32.3)\n",
            "Requirement already satisfied: pillow!=8.3.*,>=5.3.0 in /usr/local/lib/python3.11/dist-packages (from torchvision==0.15.0+cu117) (11.1.0)\n",
            "Requirement already satisfied: cmake in /usr/local/lib/python3.11/dist-packages (from triton==2.0.0->torch==2.0.0) (3.31.4)\n",
            "Requirement already satisfied: lit in /usr/local/lib/python3.11/dist-packages (from triton==2.0.0->torch==2.0.0) (18.1.8)\n",
            "Requirement already satisfied: MarkupSafe>=2.0 in /usr/local/lib/python3.11/dist-packages (from jinja2->torch==2.0.0) (3.0.2)\n",
            "Requirement already satisfied: charset-normalizer<4,>=2 in /usr/local/lib/python3.11/dist-packages (from requests->torchvision==0.15.0+cu117) (3.4.1)\n",
            "Requirement already satisfied: idna<4,>=2.5 in /usr/local/lib/python3.11/dist-packages (from requests->torchvision==0.15.0+cu117) (3.10)\n",
            "Requirement already satisfied: urllib3<3,>=1.21.1 in /usr/local/lib/python3.11/dist-packages (from requests->torchvision==0.15.0+cu117) (2.3.0)\n",
            "Requirement already satisfied: certifi>=2017.4.17 in /usr/local/lib/python3.11/dist-packages (from requests->torchvision==0.15.0+cu117) (2024.12.14)\n",
            "Requirement already satisfied: mpmath<1.4,>=1.1.0 in /usr/local/lib/python3.11/dist-packages (from sympy->torch==2.0.0) (1.3.0)\n",
            "Installing collected packages: triton, torch, torchvision\n",
            "  Attempting uninstall: triton\n",
            "    Found existing installation: triton 3.2.0\n",
            "    Uninstalling triton-3.2.0:\n",
            "      Successfully uninstalled triton-3.2.0\n",
            "Successfully installed torch-2.0.0+cu117 torchvision-0.15.0+cu117 triton-2.0.0\n"
          ]
        },
        {
          "output_type": "display_data",
          "data": {
            "application/vnd.colab-display-data+json": {
              "pip_warning": {
                "packages": [
                  "nvfuser",
                  "torch"
                ]
              },
              "id": "ad6aa797c7f24fb782cb2b50755995e5"
            }
          },
          "metadata": {}
        }
      ]
    },
    {
      "cell_type": "code",
      "source": [
        "!pip install -e ."
      ],
      "metadata": {
        "id": "FeMbAFzUUsVD",
        "outputId": "9f166873-d0a8-48c7-9b4a-7e21abb6d5cb",
        "colab": {
          "base_uri": "https://localhost:8080/"
        }
      },
      "execution_count": 10,
      "outputs": [
        {
          "output_type": "stream",
          "name": "stdout",
          "text": [
            "Obtaining file:///content/FL_AV/my-project\n",
            "  Installing build dependencies ... \u001b[?25l\u001b[?25hdone\n",
            "  Checking if build backend supports build_editable ... \u001b[?25l\u001b[?25hdone\n",
            "  Getting requirements to build editable ... \u001b[?25l\u001b[?25hdone\n",
            "  Installing backend dependencies ... \u001b[?25l\u001b[?25hdone\n",
            "  Preparing editable metadata (pyproject.toml) ... \u001b[?25l\u001b[?25hdone\n",
            "Requirement already satisfied: flwr-datasets==0.3.0 in /usr/local/lib/python3.11/dist-packages (from flwr-datasets[vision]==0.3.0->my-project==1.0.0) (0.3.0)\n",
            "Requirement already satisfied: flwr==1.13.1 in /usr/local/lib/python3.11/dist-packages (from flwr[simulation]==1.13.1->my-project==1.0.0) (1.13.1)\n",
            "Requirement already satisfied: numpy>=1.21.0 in /usr/local/lib/python3.11/dist-packages (from my-project==1.0.0) (1.26.4)\n",
            "Requirement already satisfied: pandas>=1.3.0 in /usr/local/lib/python3.11/dist-packages (from my-project==1.0.0) (2.2.2)\n",
            "Requirement already satisfied: scipy>=1.7.0 in /usr/local/lib/python3.11/dist-packages (from my-project==1.0.0) (1.13.1)\n",
            "Requirement already satisfied: torch==2.0.0 in /usr/local/lib/python3.11/dist-packages (from my-project==1.0.0) (2.0.0+cu117)\n",
            "Requirement already satisfied: torchvision==0.15.0 in /usr/local/lib/python3.11/dist-packages (from my-project==1.0.0) (0.15.0+cu117)\n",
            "Requirement already satisfied: tqdm>=4.60.0 in /usr/local/lib/python3.11/dist-packages (from my-project==1.0.0) (4.67.1)\n",
            "Requirement already satisfied: ultralytics==8.0.0 in /usr/local/lib/python3.11/dist-packages (from my-project==1.0.0) (8.0.0)\n",
            "Requirement already satisfied: cryptography<43.0.0,>=42.0.4 in /usr/local/lib/python3.11/dist-packages (from flwr==1.13.1->flwr[simulation]==1.13.1->my-project==1.0.0) (42.0.8)\n",
            "Requirement already satisfied: grpcio!=1.64.2,<2.0.0,<=1.64.3,>=1.60.0 in /usr/local/lib/python3.11/dist-packages (from flwr==1.13.1->flwr[simulation]==1.13.1->my-project==1.0.0) (1.64.3)\n",
            "Requirement already satisfied: iterators<0.0.3,>=0.0.2 in /usr/local/lib/python3.11/dist-packages (from flwr==1.13.1->flwr[simulation]==1.13.1->my-project==1.0.0) (0.0.2)\n",
            "Requirement already satisfied: pathspec<0.13.0,>=0.12.1 in /usr/local/lib/python3.11/dist-packages (from flwr==1.13.1->flwr[simulation]==1.13.1->my-project==1.0.0) (0.12.1)\n",
            "Requirement already satisfied: protobuf<5.0.0,>=4.25.2 in /usr/local/lib/python3.11/dist-packages (from flwr==1.13.1->flwr[simulation]==1.13.1->my-project==1.0.0) (4.25.6)\n",
            "Requirement already satisfied: pycryptodome<4.0.0,>=3.18.0 in /usr/local/lib/python3.11/dist-packages (from flwr==1.13.1->flwr[simulation]==1.13.1->my-project==1.0.0) (3.21.0)\n",
            "Requirement already satisfied: rich<14.0.0,>=13.5.0 in /usr/local/lib/python3.11/dist-packages (from flwr==1.13.1->flwr[simulation]==1.13.1->my-project==1.0.0) (13.9.4)\n",
            "Requirement already satisfied: tomli<3.0.0,>=2.0.1 in /usr/local/lib/python3.11/dist-packages (from flwr==1.13.1->flwr[simulation]==1.13.1->my-project==1.0.0) (2.2.1)\n",
            "Requirement already satisfied: tomli-w<2.0.0,>=1.0.0 in /usr/local/lib/python3.11/dist-packages (from flwr==1.13.1->flwr[simulation]==1.13.1->my-project==1.0.0) (1.2.0)\n",
            "Requirement already satisfied: typer<0.13.0,>=0.12.5 in /usr/local/lib/python3.11/dist-packages (from flwr==1.13.1->flwr[simulation]==1.13.1->my-project==1.0.0) (0.12.5)\n",
            "Requirement already satisfied: datasets<2.20.0,>=2.14.6 in /usr/local/lib/python3.11/dist-packages (from flwr-datasets==0.3.0->flwr-datasets[vision]==0.3.0->my-project==1.0.0) (2.19.2)\n",
            "Requirement already satisfied: matplotlib<4.0.0,>=3.7.5 in /usr/local/lib/python3.11/dist-packages (from flwr-datasets==0.3.0->flwr-datasets[vision]==0.3.0->my-project==1.0.0) (3.10.0)\n",
            "Requirement already satisfied: pyarrow==16.1.0 in /usr/local/lib/python3.11/dist-packages (from flwr-datasets==0.3.0->flwr-datasets[vision]==0.3.0->my-project==1.0.0) (16.1.0)\n",
            "Requirement already satisfied: seaborn<0.14.0,>=0.13.0 in /usr/local/lib/python3.11/dist-packages (from flwr-datasets==0.3.0->flwr-datasets[vision]==0.3.0->my-project==1.0.0) (0.13.2)\n",
            "Requirement already satisfied: pillow>=6.2.1 in /usr/local/lib/python3.11/dist-packages (from flwr-datasets[vision]==0.3.0->my-project==1.0.0) (11.1.0)\n",
            "Requirement already satisfied: ray==2.10.0 in /usr/local/lib/python3.11/dist-packages (from flwr[simulation]==1.13.1->my-project==1.0.0) (2.10.0)\n",
            "Requirement already satisfied: filelock in /usr/local/lib/python3.11/dist-packages (from torch==2.0.0->my-project==1.0.0) (3.17.0)\n",
            "Requirement already satisfied: typing-extensions in /usr/local/lib/python3.11/dist-packages (from torch==2.0.0->my-project==1.0.0) (4.12.2)\n",
            "Requirement already satisfied: sympy in /usr/local/lib/python3.11/dist-packages (from torch==2.0.0->my-project==1.0.0) (1.13.1)\n",
            "Requirement already satisfied: networkx in /usr/local/lib/python3.11/dist-packages (from torch==2.0.0->my-project==1.0.0) (3.4.2)\n",
            "Requirement already satisfied: jinja2 in /usr/local/lib/python3.11/dist-packages (from torch==2.0.0->my-project==1.0.0) (3.1.5)\n",
            "Requirement already satisfied: triton==2.0.0 in /usr/local/lib/python3.11/dist-packages (from torch==2.0.0->my-project==1.0.0) (2.0.0)\n",
            "Requirement already satisfied: requests in /usr/local/lib/python3.11/dist-packages (from torchvision==0.15.0->my-project==1.0.0) (2.32.3)\n",
            "Requirement already satisfied: hydra-core>=1.2.0 in /usr/local/lib/python3.11/dist-packages (from ultralytics==8.0.0->my-project==1.0.0) (1.3.2)\n",
            "Requirement already satisfied: opencv-python>=4.1.1 in /usr/local/lib/python3.11/dist-packages (from ultralytics==8.0.0->my-project==1.0.0) (4.10.0.84)\n",
            "Requirement already satisfied: PyYAML>=5.3.1 in /usr/local/lib/python3.11/dist-packages (from ultralytics==8.0.0->my-project==1.0.0) (6.0.2)\n",
            "Requirement already satisfied: tensorboard>=2.4.1 in /usr/local/lib/python3.11/dist-packages (from ultralytics==8.0.0->my-project==1.0.0) (2.18.0)\n",
            "Requirement already satisfied: ipython in /usr/local/lib/python3.11/dist-packages (from ultralytics==8.0.0->my-project==1.0.0) (7.34.0)\n",
            "Requirement already satisfied: psutil in /usr/local/lib/python3.11/dist-packages (from ultralytics==8.0.0->my-project==1.0.0) (5.9.5)\n",
            "Requirement already satisfied: thop>=0.1.1 in /usr/local/lib/python3.11/dist-packages (from ultralytics==8.0.0->my-project==1.0.0) (0.1.1.post2209072238)\n",
            "Requirement already satisfied: GitPython>=3.1.24 in /usr/local/lib/python3.11/dist-packages (from ultralytics==8.0.0->my-project==1.0.0) (3.1.44)\n",
            "Requirement already satisfied: click>=7.0 in /usr/local/lib/python3.11/dist-packages (from ray==2.10.0->flwr[simulation]==1.13.1->my-project==1.0.0) (8.1.8)\n",
            "Requirement already satisfied: jsonschema in /usr/local/lib/python3.11/dist-packages (from ray==2.10.0->flwr[simulation]==1.13.1->my-project==1.0.0) (4.23.0)\n",
            "Requirement already satisfied: msgpack<2.0.0,>=1.0.0 in /usr/local/lib/python3.11/dist-packages (from ray==2.10.0->flwr[simulation]==1.13.1->my-project==1.0.0) (1.1.0)\n",
            "Requirement already satisfied: packaging in /usr/local/lib/python3.11/dist-packages (from ray==2.10.0->flwr[simulation]==1.13.1->my-project==1.0.0) (24.2)\n",
            "Requirement already satisfied: aiosignal in /usr/local/lib/python3.11/dist-packages (from ray==2.10.0->flwr[simulation]==1.13.1->my-project==1.0.0) (1.3.2)\n",
            "Requirement already satisfied: frozenlist in /usr/local/lib/python3.11/dist-packages (from ray==2.10.0->flwr[simulation]==1.13.1->my-project==1.0.0) (1.5.0)\n",
            "Requirement already satisfied: cmake in /usr/local/lib/python3.11/dist-packages (from triton==2.0.0->torch==2.0.0->my-project==1.0.0) (3.31.4)\n",
            "Requirement already satisfied: lit in /usr/local/lib/python3.11/dist-packages (from triton==2.0.0->torch==2.0.0->my-project==1.0.0) (18.1.8)\n",
            "Requirement already satisfied: python-dateutil>=2.8.2 in /usr/local/lib/python3.11/dist-packages (from pandas>=1.3.0->my-project==1.0.0) (2.8.2)\n",
            "Requirement already satisfied: pytz>=2020.1 in /usr/local/lib/python3.11/dist-packages (from pandas>=1.3.0->my-project==1.0.0) (2024.2)\n",
            "Requirement already satisfied: tzdata>=2022.7 in /usr/local/lib/python3.11/dist-packages (from pandas>=1.3.0->my-project==1.0.0) (2025.1)\n",
            "Requirement already satisfied: cffi>=1.12 in /usr/local/lib/python3.11/dist-packages (from cryptography<43.0.0,>=42.0.4->flwr==1.13.1->flwr[simulation]==1.13.1->my-project==1.0.0) (1.17.1)\n",
            "Requirement already satisfied: pyarrow-hotfix in /usr/local/lib/python3.11/dist-packages (from datasets<2.20.0,>=2.14.6->flwr-datasets==0.3.0->flwr-datasets[vision]==0.3.0->my-project==1.0.0) (0.6)\n",
            "Requirement already satisfied: dill<0.3.9,>=0.3.0 in /usr/local/lib/python3.11/dist-packages (from datasets<2.20.0,>=2.14.6->flwr-datasets==0.3.0->flwr-datasets[vision]==0.3.0->my-project==1.0.0) (0.3.8)\n",
            "Requirement already satisfied: xxhash in /usr/local/lib/python3.11/dist-packages (from datasets<2.20.0,>=2.14.6->flwr-datasets==0.3.0->flwr-datasets[vision]==0.3.0->my-project==1.0.0) (3.5.0)\n",
            "Requirement already satisfied: multiprocess in /usr/local/lib/python3.11/dist-packages (from datasets<2.20.0,>=2.14.6->flwr-datasets==0.3.0->flwr-datasets[vision]==0.3.0->my-project==1.0.0) (0.70.16)\n",
            "Requirement already satisfied: fsspec<=2024.3.1,>=2023.1.0 in /usr/local/lib/python3.11/dist-packages (from fsspec[http]<=2024.3.1,>=2023.1.0->datasets<2.20.0,>=2.14.6->flwr-datasets==0.3.0->flwr-datasets[vision]==0.3.0->my-project==1.0.0) (2024.3.1)\n",
            "Requirement already satisfied: aiohttp in /usr/local/lib/python3.11/dist-packages (from datasets<2.20.0,>=2.14.6->flwr-datasets==0.3.0->flwr-datasets[vision]==0.3.0->my-project==1.0.0) (3.11.11)\n",
            "Requirement already satisfied: huggingface-hub>=0.21.2 in /usr/local/lib/python3.11/dist-packages (from datasets<2.20.0,>=2.14.6->flwr-datasets==0.3.0->flwr-datasets[vision]==0.3.0->my-project==1.0.0) (0.27.1)\n",
            "Requirement already satisfied: gitdb<5,>=4.0.1 in /usr/local/lib/python3.11/dist-packages (from GitPython>=3.1.24->ultralytics==8.0.0->my-project==1.0.0) (4.0.12)\n",
            "Requirement already satisfied: omegaconf<2.4,>=2.2 in /usr/local/lib/python3.11/dist-packages (from hydra-core>=1.2.0->ultralytics==8.0.0->my-project==1.0.0) (2.3.0)\n",
            "Requirement already satisfied: antlr4-python3-runtime==4.9.* in /usr/local/lib/python3.11/dist-packages (from hydra-core>=1.2.0->ultralytics==8.0.0->my-project==1.0.0) (4.9.3)\n",
            "Requirement already satisfied: contourpy>=1.0.1 in /usr/local/lib/python3.11/dist-packages (from matplotlib<4.0.0,>=3.7.5->flwr-datasets==0.3.0->flwr-datasets[vision]==0.3.0->my-project==1.0.0) (1.3.1)\n",
            "Requirement already satisfied: cycler>=0.10 in /usr/local/lib/python3.11/dist-packages (from matplotlib<4.0.0,>=3.7.5->flwr-datasets==0.3.0->flwr-datasets[vision]==0.3.0->my-project==1.0.0) (0.12.1)\n",
            "Requirement already satisfied: fonttools>=4.22.0 in /usr/local/lib/python3.11/dist-packages (from matplotlib<4.0.0,>=3.7.5->flwr-datasets==0.3.0->flwr-datasets[vision]==0.3.0->my-project==1.0.0) (4.55.7)\n",
            "Requirement already satisfied: kiwisolver>=1.3.1 in /usr/local/lib/python3.11/dist-packages (from matplotlib<4.0.0,>=3.7.5->flwr-datasets==0.3.0->flwr-datasets[vision]==0.3.0->my-project==1.0.0) (1.4.8)\n",
            "Requirement already satisfied: pyparsing>=2.3.1 in /usr/local/lib/python3.11/dist-packages (from matplotlib<4.0.0,>=3.7.5->flwr-datasets==0.3.0->flwr-datasets[vision]==0.3.0->my-project==1.0.0) (3.2.1)\n",
            "Requirement already satisfied: six>=1.5 in /usr/local/lib/python3.11/dist-packages (from python-dateutil>=2.8.2->pandas>=1.3.0->my-project==1.0.0) (1.17.0)\n",
            "Requirement already satisfied: charset-normalizer<4,>=2 in /usr/local/lib/python3.11/dist-packages (from requests->torchvision==0.15.0->my-project==1.0.0) (3.4.1)\n",
            "Requirement already satisfied: idna<4,>=2.5 in /usr/local/lib/python3.11/dist-packages (from requests->torchvision==0.15.0->my-project==1.0.0) (3.10)\n",
            "Requirement already satisfied: urllib3<3,>=1.21.1 in /usr/local/lib/python3.11/dist-packages (from requests->torchvision==0.15.0->my-project==1.0.0) (2.3.0)\n",
            "Requirement already satisfied: certifi>=2017.4.17 in /usr/local/lib/python3.11/dist-packages (from requests->torchvision==0.15.0->my-project==1.0.0) (2024.12.14)\n",
            "Requirement already satisfied: markdown-it-py>=2.2.0 in /usr/local/lib/python3.11/dist-packages (from rich<14.0.0,>=13.5.0->flwr==1.13.1->flwr[simulation]==1.13.1->my-project==1.0.0) (3.0.0)\n",
            "Requirement already satisfied: pygments<3.0.0,>=2.13.0 in /usr/local/lib/python3.11/dist-packages (from rich<14.0.0,>=13.5.0->flwr==1.13.1->flwr[simulation]==1.13.1->my-project==1.0.0) (2.18.0)\n",
            "Requirement already satisfied: absl-py>=0.4 in /usr/local/lib/python3.11/dist-packages (from tensorboard>=2.4.1->ultralytics==8.0.0->my-project==1.0.0) (1.4.0)\n",
            "Requirement already satisfied: markdown>=2.6.8 in /usr/local/lib/python3.11/dist-packages (from tensorboard>=2.4.1->ultralytics==8.0.0->my-project==1.0.0) (3.7)\n",
            "Requirement already satisfied: setuptools>=41.0.0 in /usr/local/lib/python3.11/dist-packages (from tensorboard>=2.4.1->ultralytics==8.0.0->my-project==1.0.0) (75.1.0)\n",
            "Requirement already satisfied: tensorboard-data-server<0.8.0,>=0.7.0 in /usr/local/lib/python3.11/dist-packages (from tensorboard>=2.4.1->ultralytics==8.0.0->my-project==1.0.0) (0.7.2)\n",
            "Requirement already satisfied: werkzeug>=1.0.1 in /usr/local/lib/python3.11/dist-packages (from tensorboard>=2.4.1->ultralytics==8.0.0->my-project==1.0.0) (3.1.3)\n",
            "Requirement already satisfied: shellingham>=1.3.0 in /usr/local/lib/python3.11/dist-packages (from typer<0.13.0,>=0.12.5->flwr==1.13.1->flwr[simulation]==1.13.1->my-project==1.0.0) (1.5.4)\n",
            "Requirement already satisfied: jedi>=0.16 in /usr/local/lib/python3.11/dist-packages (from ipython->ultralytics==8.0.0->my-project==1.0.0) (0.19.2)\n",
            "Requirement already satisfied: decorator in /usr/local/lib/python3.11/dist-packages (from ipython->ultralytics==8.0.0->my-project==1.0.0) (4.4.2)\n",
            "Requirement already satisfied: pickleshare in /usr/local/lib/python3.11/dist-packages (from ipython->ultralytics==8.0.0->my-project==1.0.0) (0.7.5)\n",
            "Requirement already satisfied: traitlets>=4.2 in /usr/local/lib/python3.11/dist-packages (from ipython->ultralytics==8.0.0->my-project==1.0.0) (5.7.1)\n",
            "Requirement already satisfied: prompt-toolkit!=3.0.0,!=3.0.1,<3.1.0,>=2.0.0 in /usr/local/lib/python3.11/dist-packages (from ipython->ultralytics==8.0.0->my-project==1.0.0) (3.0.50)\n",
            "Requirement already satisfied: backcall in /usr/local/lib/python3.11/dist-packages (from ipython->ultralytics==8.0.0->my-project==1.0.0) (0.2.0)\n",
            "Requirement already satisfied: matplotlib-inline in /usr/local/lib/python3.11/dist-packages (from ipython->ultralytics==8.0.0->my-project==1.0.0) (0.1.7)\n",
            "Requirement already satisfied: pexpect>4.3 in /usr/local/lib/python3.11/dist-packages (from ipython->ultralytics==8.0.0->my-project==1.0.0) (4.9.0)\n",
            "Requirement already satisfied: MarkupSafe>=2.0 in /usr/local/lib/python3.11/dist-packages (from jinja2->torch==2.0.0->my-project==1.0.0) (3.0.2)\n",
            "Requirement already satisfied: mpmath<1.4,>=1.1.0 in /usr/local/lib/python3.11/dist-packages (from sympy->torch==2.0.0->my-project==1.0.0) (1.3.0)\n",
            "Requirement already satisfied: pycparser in /usr/local/lib/python3.11/dist-packages (from cffi>=1.12->cryptography<43.0.0,>=42.0.4->flwr==1.13.1->flwr[simulation]==1.13.1->my-project==1.0.0) (2.22)\n",
            "Requirement already satisfied: aiohappyeyeballs>=2.3.0 in /usr/local/lib/python3.11/dist-packages (from aiohttp->datasets<2.20.0,>=2.14.6->flwr-datasets==0.3.0->flwr-datasets[vision]==0.3.0->my-project==1.0.0) (2.4.4)\n",
            "Requirement already satisfied: attrs>=17.3.0 in /usr/local/lib/python3.11/dist-packages (from aiohttp->datasets<2.20.0,>=2.14.6->flwr-datasets==0.3.0->flwr-datasets[vision]==0.3.0->my-project==1.0.0) (25.1.0)\n",
            "Requirement already satisfied: multidict<7.0,>=4.5 in /usr/local/lib/python3.11/dist-packages (from aiohttp->datasets<2.20.0,>=2.14.6->flwr-datasets==0.3.0->flwr-datasets[vision]==0.3.0->my-project==1.0.0) (6.1.0)\n",
            "Requirement already satisfied: propcache>=0.2.0 in /usr/local/lib/python3.11/dist-packages (from aiohttp->datasets<2.20.0,>=2.14.6->flwr-datasets==0.3.0->flwr-datasets[vision]==0.3.0->my-project==1.0.0) (0.2.1)\n",
            "Requirement already satisfied: yarl<2.0,>=1.17.0 in /usr/local/lib/python3.11/dist-packages (from aiohttp->datasets<2.20.0,>=2.14.6->flwr-datasets==0.3.0->flwr-datasets[vision]==0.3.0->my-project==1.0.0) (1.18.3)\n",
            "Requirement already satisfied: smmap<6,>=3.0.1 in /usr/local/lib/python3.11/dist-packages (from gitdb<5,>=4.0.1->GitPython>=3.1.24->ultralytics==8.0.0->my-project==1.0.0) (5.0.2)\n",
            "Requirement already satisfied: parso<0.9.0,>=0.8.4 in /usr/local/lib/python3.11/dist-packages (from jedi>=0.16->ipython->ultralytics==8.0.0->my-project==1.0.0) (0.8.4)\n",
            "Requirement already satisfied: mdurl~=0.1 in /usr/local/lib/python3.11/dist-packages (from markdown-it-py>=2.2.0->rich<14.0.0,>=13.5.0->flwr==1.13.1->flwr[simulation]==1.13.1->my-project==1.0.0) (0.1.2)\n",
            "Requirement already satisfied: ptyprocess>=0.5 in /usr/local/lib/python3.11/dist-packages (from pexpect>4.3->ipython->ultralytics==8.0.0->my-project==1.0.0) (0.7.0)\n",
            "Requirement already satisfied: wcwidth in /usr/local/lib/python3.11/dist-packages (from prompt-toolkit!=3.0.0,!=3.0.1,<3.1.0,>=2.0.0->ipython->ultralytics==8.0.0->my-project==1.0.0) (0.2.13)\n",
            "Requirement already satisfied: jsonschema-specifications>=2023.03.6 in /usr/local/lib/python3.11/dist-packages (from jsonschema->ray==2.10.0->flwr[simulation]==1.13.1->my-project==1.0.0) (2024.10.1)\n",
            "Requirement already satisfied: referencing>=0.28.4 in /usr/local/lib/python3.11/dist-packages (from jsonschema->ray==2.10.0->flwr[simulation]==1.13.1->my-project==1.0.0) (0.36.2)\n",
            "Requirement already satisfied: rpds-py>=0.7.1 in /usr/local/lib/python3.11/dist-packages (from jsonschema->ray==2.10.0->flwr[simulation]==1.13.1->my-project==1.0.0) (0.22.3)\n",
            "Building wheels for collected packages: my-project\n",
            "  Building editable for my-project (pyproject.toml) ... \u001b[?25l\u001b[?25hdone\n",
            "  Created wheel for my-project: filename=my_project-1.0.0-py2.py3-none-any.whl size=1108 sha256=d06b2f7d0672775382d1ce92a946559607fe84812f06bf6ca50c9e1c4731e3a8\n",
            "  Stored in directory: /tmp/pip-ephem-wheel-cache-t9ti9u80/wheels/38/8b/b1/8aa03b4d2530c51f18fe1b6b56ffa40771635ed9fb85c4f6d8\n",
            "Successfully built my-project\n",
            "Installing collected packages: my-project\n",
            "  Attempting uninstall: my-project\n",
            "    Found existing installation: my-project 1.0.0\n",
            "    Uninstalling my-project-1.0.0:\n",
            "      Successfully uninstalled my-project-1.0.0\n",
            "Successfully installed my-project-1.0.0\n"
          ]
        }
      ]
    },
    {
      "cell_type": "code",
      "execution_count": null,
      "metadata": {
        "id": "nnXw8Z6At1vI"
      },
      "outputs": [],
      "source": [
        "!pip freeze   > /content/FL_AV/Research_docs/installations/requirements_history/requirements_history.txt"
      ]
    },
    {
      "cell_type": "code",
      "source": [
        "cd /content/FL_AV/my-project/"
      ],
      "metadata": {
        "id": "fAiimQx6uPGg"
      },
      "execution_count": null,
      "outputs": []
    },
    {
      "cell_type": "code",
      "source": [
        "!flwr run ."
      ],
      "metadata": {
        "id": "SLYQwQ5-USR4"
      },
      "execution_count": null,
      "outputs": []
    },
    {
      "cell_type": "code",
      "source": [],
      "metadata": {
        "id": "mcsmtBW6UVBA"
      },
      "execution_count": null,
      "outputs": []
    }
  ]
}
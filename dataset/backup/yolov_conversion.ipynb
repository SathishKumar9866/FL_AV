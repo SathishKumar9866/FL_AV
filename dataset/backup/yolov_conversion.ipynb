{
 "cells": [
  {
   "cell_type": "code",
   "execution_count": 1,
   "metadata": {},
   "outputs": [
    {
     "data": {
      "text/plain": [
       "'C:\\\\Users\\\\SIU856522160\\\\Downloads'"
      ]
     },
     "execution_count": 1,
     "metadata": {},
     "output_type": "execute_result"
    }
   ],
   "source": [
    "import json\n",
    "import os\n",
    "from PIL import Image\n",
    "import sys\n",
    "import json\n",
    "import cv2\n",
    "import matplotlib.pyplot as plt\n",
    "import shutil\n",
    "import seaborn as sns\n",
    "import matplotlib.pyplot as plt\n",
    "import matplotlib.patches as patches\n",
    "\n",
    "# Change to a different directory\n",
    "os.chdir(r'C:\\Users\\SIU856522160\\Downloads\\\\')\n",
    "# Get the new default path\n",
    "os.getcwd()"
   ]
  },
  {
   "cell_type": "code",
   "execution_count": 2,
   "metadata": {
    "slideshow": {
     "slide_type": "subslide"
    }
   },
   "outputs": [],
   "source": [
    "# #### {\n",
    "#         \"name\": \"b1c66a42-6f7d68ca.jpg\",\n",
    "#         \"attributes\": {\n",
    "#             \"weather\": \"overcast\",\n",
    "#             \"scene\": \"city street\",\n",
    "#             \"timeofday\": \"daytime\"\n",
    "#         },\n",
    "#         \"timestamp\": 10000,\n",
    "#         \"labels\": [\n",
    "#             {\n",
    "#                 \"category\": \"traffic sign\",\n",
    "#                 \"attributes\": {\n",
    "#                     \"occluded\": false,\n",
    "#                     \"truncated\": false,\n",
    "#                     \"trafficLightColor\": \"none\"\n",
    "#                 },\n",
    "#                 \"manualShape\": true,\n",
    "#                 \"manualAttributes\": true,\n",
    "#                 \"box2d\": {\n",
    "#                     \"x1\": 1000.698742,\n",
    "#                     \"y1\": 281.992415,\n",
    "#                     \"x2\": 1040.626872,\n",
    "#                     \"y2\": 326.91156\n",
    "#                 },\n",
    "#                 \"id\": 0\n",
    "#             },\n",
    "            "
   ]
  },
  {
   "cell_type": "code",
   "execution_count": 3,
   "metadata": {},
   "outputs": [],
   "source": [
    "bdd_annotations_path_train = r\".\\\\bdd100k\\labels\\bdd100k_labels_images_train.json\"\n",
    "output_file_path = r\".\\\\major\\dataset\\output\\output_train.txt\" "
   ]
  },
  {
   "cell_type": "code",
   "execution_count": 4,
   "metadata": {},
   "outputs": [],
   "source": [
    "# with open(bdd_annotations_path_train, 'r') as file:\n",
    "#     annotations = json.load(file)\n",
    "\n",
    "# # Extract file names from annotations\n",
    "# file_names = [image_data['name'] for image_data in annotations]\n",
    "\n",
    "# # Save file names to the output file\n",
    "# with open(output_file_path, 'w') as output_file:\n",
    "#     output_file.write('\\n'.join(file_names))\n",
    "\n",
    "# print(\"File names saved to:\", output_file_path)\n"
   ]
  },
  {
   "cell_type": "code",
   "execution_count": 5,
   "metadata": {},
   "outputs": [],
   "source": [
    "# with open(r\".\\\\bdd100k\\labels\\bdd100k_labels_images_val.json\", 'r') as file:\n",
    "#     annotations = json.load(file)\n",
    "\n",
    "# # Extract file names from annotations\n",
    "# file_names = [image_data['name'] for image_data in annotations]\n",
    "# output_file_path = r\".\\\\major\\dataset\\output\\output_val.txt\" \n",
    "# # Save file names to the output file\n",
    "# with open(output_file_path, 'w') as output_file:\n",
    "#     output_file.write('\\n'.join(file_names))\n",
    "\n",
    "# print(\"File names saved to:\", output_file_path)\n"
   ]
  },
  {
   "cell_type": "code",
   "execution_count": 4,
   "metadata": {},
   "outputs": [
    {
     "name": "stdout",
     "output_type": "stream",
     "text": [
      "{'lane', 'drivable area', 'car', 'person', 'bike', 'traffic light', 'rider', 'train', 'truck', 'bus', 'traffic sign', 'motor'}\n",
      "Total categories: 12\n"
     ]
    }
   ],
   "source": [
    "# Assuming you have loaded the BDD100K dataset annotations into a variable called \"annotations\"\n",
    "categories = set()\n",
    "folder_name = \"train\"\n",
    "with open(rf\".\\\\bdd100k\\labels\\bdd100k_labels_images_{folder_name}.json\", 'r') as f:\n",
    "        bdd_annotations_train = json.load(f)\n",
    "for annotation in bdd_annotations_train:\n",
    "        labels = annotation['labels']\n",
    "        for label in labels:\n",
    "                category = label['category']\n",
    "                categories.add(category)\n",
    "\n",
    "total_categories = len(categories)\n",
    "print(categories)\n",
    "print(\"Total categories:\", total_categories)\n"
   ]
  },
  {
   "cell_type": "code",
   "execution_count": 17,
   "metadata": {},
   "outputs": [],
   "source": [
    "# Assuming you have loaded the BDD100K dataset annotations into a variable called \"annotations\"\n",
    "categories = set()\n",
    "folder_name = \"val\"\n",
    "with open(rf\".\\\\bdd100k\\labels\\bdd100k_labels_images_{folder_name}.json\", 'r') as f:\n",
    "        bdd_annotations_valid = json.load(f)\n",
    "for annotation in bdd_annotations_valid:\n",
    "    labels = annotation['labels']\n",
    "    for label in labels:\n",
    "        category = label['category']\n",
    "        categories.add(category)\n",
    "\n",
    "total_categories = len(categories)\n",
    "print(categories)\n",
    "print(\"Total categories:\", total_categories)\n"
   ]
  },
  {
   "cell_type": "code",
   "execution_count": 8,
   "metadata": {},
   "outputs": [],
   "source": [
    "# import os\n",
    "\n",
    "# def create_file_with_filenames(folder_name):\n",
    "#     folder_path = r\"C:\\Users\\siu856522160\\Downloads\\100k\\test\"  # Replace with the actual path to the \"val\" folder\n",
    "#     file_path = os.path.join(r\".\\\\major\\output\\\\\", f\"output_{folder_name}.txt\")\n",
    "    \n",
    "#     file_names = os.listdir(folder_path)\n",
    "#     file_names = [file_name for file_name in file_names if os.path.isfile(os.path.join(folder_path, file_name))]\n",
    "    \n",
    "#     with open(file_path, \"w\") as file:\n",
    "#         file.write(\"\\n\".join(file_names))\n",
    "    \n",
    "#     print(f\"File with file names created: {file_path}\")\n",
    "\n",
    "# # Call the function with folder_name set to \"val\"\n",
    "# create_file_with_filenames(\"test\")\n"
   ]
  },
  {
   "cell_type": "code",
   "execution_count": 9,
   "metadata": {},
   "outputs": [],
   "source": [
    "#labelling \n",
    "category_mapping = {\n",
    "    \"person\": 0,\n",
    "    \"rider\": 1,\n",
    "    \"car\": 2,\n",
    "    \"truck\": 3,\n",
    "    \"bus\": 4,\n",
    "    \"train\": 5,\n",
    "    \"motor\": 6,\n",
    "    \"bike\": 7,\n",
    "    \"traffic light\": 8,\n",
    "    \"traffic sign\": 9\n",
    "}\n",
    "# {'lane', 'drivable area', 'car', 'person', 'bike', 'traffic light', 'rider', 'train', 'truck', 'bus', 'traffic sign', 'motor'}"
   ]
  },
  {
   "cell_type": "code",
   "execution_count": 10,
   "metadata": {},
   "outputs": [],
   "source": [
    "def BDD100K_convert(folder_name):\n",
    "    # Iterate over BDD100K annotations\n",
    "    if \"train\" in folder_name.lower() or \"val\" in folder_name.lower():\n",
    "        folder_name = folder_name.lower()\n",
    "        print(\"Folder is either train or val:\", folder_name)\n",
    "    else:\n",
    "        print(\"Folder is not train or val\")\n",
    "\n",
    "    # Load BDD100K annotations\n",
    "    with open(rf\".\\\\bdd100k\\labels\\bdd100k_labels_images_{folder_name}.json\", 'r') as f:\n",
    "        bdd_annotations = json.load(f)\n",
    "\n",
    "    for annotation in bdd_annotations:\n",
    "        image_name = annotation['name']\n",
    "        labels = annotation['labels']\n",
    "        print(\"Image Name:\", image_name)\n",
    "\n",
    "        # Load the image to retrieve width and height\n",
    "        image_path = os.path.join(rf\".\\\\100k\\{folder_name}\", image_name)\n",
    "        with Image.open(image_path) as img:\n",
    "            image_width, image_height = img.size\n",
    "            \n",
    "            dw = 1.0 / image_width\n",
    "            dh = 1.0 / image_height\n",
    "\n",
    "            # Create the YOLOv5 label file\n",
    "            label_file_path = os.path.join(\".\\\\100k\", folder_name, os.path.splitext(image_name)[0] + '.txt')\n",
    "            with open(label_file_path, 'w') as label_file:\n",
    "                for label in labels:\n",
    "                    category = label['category']\n",
    "                    print(\"Category:\", category)\n",
    "\n",
    "                    if category in category_mapping:\n",
    "                        category = category_mapping[category]\n",
    "\n",
    "                    if 'box2d' not in label:\n",
    "                        print(label)\n",
    "                        continue\n",
    "\n",
    "                    x1 = label['box2d']['x1']\n",
    "                    y1 = label['box2d']['y1']\n",
    "                    x2 = label['box2d']['x2']\n",
    "                    y2 = label['box2d']['y2']\n",
    "\n",
    "                    x_center = format((x1 + x2) / (2 * image_width), \".6f\")\n",
    "                    y_center = format((y1 + y2) / (2 * image_height), \".6f\")\n",
    "                    width = format((x2 - x1) / image_width, \".6f\")\n",
    "                    height = format((y2 - y1) / image_height, \".6f\")\n",
    "                    \n",
    "                    xmin = label['box2d']['x1']\n",
    "                    ymin = label['box2d']['y1']\n",
    "                    xmax = label['box2d']['x2']\n",
    "                    ymax = label['box2d']['y2']\n",
    "\n",
    "                    x = (xmin + xmax) / 2\n",
    "                    y = (ymin + ymax) / 2\n",
    "                    w = xmax - xmin\n",
    "                    h = ymax - ymin\n",
    "\n",
    "                    x *= dw\n",
    "                    w *= dw\n",
    "                    y *= dh\n",
    "                    h *= dh\n",
    "\n",
    "                    # Write the label in YOLOv5 format to the label file\n",
    "                    label_file.write(f\"{category} {x_center} {y_center} {width} {height}\\n\")\n",
    "                    print(f\"{category} {x_center} {y_center} {width} {height}\\n\")\n",
    "                    print(f\"Formatted x: {x:.6f}, Formatted y: {y:.6f}, Formatted w: {w:.6f}, Formatted h: {h:.6f}\")\n",
    "\n",
    "    "
   ]
  },
  {
   "cell_type": "code",
   "execution_count": 11,
   "metadata": {},
   "outputs": [],
   "source": [
    "# BDD100K_convert(\"val\")"
   ]
  },
  {
   "cell_type": "code",
   "execution_count": 12,
   "metadata": {},
   "outputs": [],
   "source": [
    "# !pip install --upgrade pillow matplotlib seaborn\n"
   ]
  },
  {
   "cell_type": "code",
   "execution_count": 13,
   "metadata": {},
   "outputs": [],
   "source": [
    "\n",
    "with open('.\\\\major\\logs\\output_of_BDD100K_convert_train.txt', 'w') as file:\n",
    "    # Redirect the standard output to the file\n",
    "    sys.stdout = file\n",
    "    \n",
    "    BDD100K_convert(\"train\")\n",
    "\n",
    "    # Reset the standard output to the console\n",
    "    sys.stdout = sys.__stdout__"
   ]
  },
  {
   "cell_type": "code",
   "execution_count": 14,
   "metadata": {},
   "outputs": [],
   "source": [
    "with open('.\\\\major\\logs\\output_of_BDD100K_convert_val.txt', 'w') as file:\n",
    "    # Redirect the standard output to the file\n",
    "    sys.stdout = file\n",
    "    \n",
    "    BDD100K_convert(\"val\")\n",
    "\n",
    "    # Reset the standard output to the console\n",
    "    sys.stdout = sys.__stdout__"
   ]
  },
  {
   "cell_type": "code",
   "execution_count": null,
   "metadata": {},
   "outputs": [],
   "source": []
  }
 ],
 "metadata": {
  "kernelspec": {
   "display_name": "venv",
   "language": "python",
   "name": "python3"
  },
  "language_info": {
   "codemirror_mode": {
    "name": "ipython",
    "version": 3
   },
   "file_extension": ".py",
   "mimetype": "text/x-python",
   "name": "python",
   "nbconvert_exporter": "python",
   "pygments_lexer": "ipython3",
   "version": "3.10.9"
  },
  "orig_nbformat": 4
 },
 "nbformat": 4,
 "nbformat_minor": 2
}

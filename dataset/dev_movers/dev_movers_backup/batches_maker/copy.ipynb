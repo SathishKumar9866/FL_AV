{
 "cells": [
  {
   "cell_type": "code",
   "execution_count": 1,
   "metadata": {},
   "outputs": [
    {
     "data": {
      "text/plain": [
       "'C:\\\\Users\\\\SIU856522160\\\\Downloads'"
      ]
     },
     "execution_count": 1,
     "metadata": {},
     "output_type": "execute_result"
    }
   ],
   "source": [
    "import os\n",
    "import random\n",
    "import shutil\n",
    "import sys\n",
    "# Change to a different directory\n",
    "os.chdir(r'C:\\Users\\SIU856522160\\Downloads')\n",
    "# Get the new default path\n",
    "os.getcwd()"
   ]
  },
  {
   "cell_type": "code",
   "execution_count": 34,
   "metadata": {},
   "outputs": [],
   "source": [
    "def del_folders_and_files(destination_folder):\n",
    "\n",
    "    if os.path.exists(destination_folder):\n",
    "        for root, dirs, files in os.walk(destination_folder):\n",
    "            for dir in dirs:\n",
    "                subfolder_path = os.path.join(root, dir)\n",
    "                try:\n",
    "                    shutil.rmtree(subfolder_path)\n",
    "                    print(f\"Deleted subfolder: {subfolder_path}\")\n",
    "                except OSError as e:\n",
    "                    print(f\"Failed to delete subfolder: {subfolder_path} - {e}\")\n",
    "            for file in files:\n",
    "                file_path = os.path.join(root, file)\n",
    "                try:\n",
    "                    os.remove(file_path)\n",
    "                    print(f\"Deleted file: {file_path}\")\n",
    "                except OSError as e:\n",
    "                    print(f\"Failed to delete file: {file_path} - {e}\")\n",
    "        print(\"Deleted sub folders and files in the destination folder\")\n",
    "    else:\n",
    "        print(\"Destination folder does not exist\")\n",
    "\n"
   ]
  },
  {
   "cell_type": "code",
   "execution_count": 2,
   "metadata": {},
   "outputs": [],
   "source": [
    "def count_folders(directory):\n",
    "    folder_count = 0\n",
    "\n",
    "    # Iterate over the contents of the directory\n",
    "    for item in os.scandir(directory):\n",
    "        # print(item)\n",
    "        if item.is_dir():  # Check if the item is a directory\n",
    "            folder_count += 1\n",
    "            print(item)\n",
    "\n",
    "    return folder_count\n",
    "\n",
    "\n",
    "def get_subfolder_names(directory):\n",
    "    folder_names = []\n",
    "\n",
    "    # Iterate over the immediate sub folders of the directory\n",
    "    for item in os.listdir(directory):\n",
    "        item_path = os.path.join(directory, item)\n",
    "        if os.path.isdir(item_path):  # Check if the item is a directory\n",
    "            folder_names.append(item)\n",
    "\n",
    "    return folder_names\n",
    "\n"
   ]
  },
  {
   "cell_type": "code",
   "execution_count": 4,
   "metadata": {},
   "outputs": [],
   "source": [
    "# Destination folder path where the selected images will be copied\n",
    "destination_folder = r\".\\\\data_batches\""
   ]
  },
  {
   "cell_type": "code",
   "execution_count": null,
   "metadata": {},
   "outputs": [],
   "source": []
  },
  {
   "cell_type": "code",
   "execution_count": null,
   "metadata": {},
   "outputs": [],
   "source": [
    "# def move_batches(source_folder, destination_folder, folder_name):\n",
    "#     # delete \n",
    "#     # del_folders_and_files(destination_folder)\n",
    "    \n",
    "#     # Get a list of files in the source folder\n",
    "#     if \"train\" in folder_name.lower() or \"val\" in folder_name.lower():\n",
    "#         print(f\"Folder is {folder_name}\")\n",
    "#         folder_name = folder_name.lower()\n",
    "#     else:\n",
    "#         print(\"Folder is not train or val\")\n",
    "#         return \"given the correct folder name\"\n",
    "\n",
    "#     # scan all the folders and get the number of batches\n",
    "#     num_batches= count_folders(destination_folder)\n",
    "\n",
    "#     # Create destination folders for each batch\n",
    "#     for batch_num in range(1, num_batches + 1):\n",
    "#         print(batch_num)\n",
    "#         batch_folder = os.path.join(destination_folder, f\"Batch_{batch_num}\")\n",
    "#         # os.makedirs(batch_folder)\n",
    "#         image_destination = os.path.join(batch_folder, \"images\", folder_name)\n",
    "#         label_destination = os.path.join(batch_folder, \"labels\", folder_name)\n",
    "#         # if not os.path.exists(image_destination):\n",
    "#         #     os.makedirs(image_destination)\n",
    "#         # if not os.path.exists(label_destination):\n",
    "#         #     os.makedirs(label_destination)\n",
    "        \n",
    "#         #read the files names in this sub folder and move them accordingly\n",
    "#         # Read the file with the selected file names\n",
    "#         with open(rf\"batches_saved_img_{batch_num}\", \"r\") as selected_files:\n",
    "#             # Copy the selected files to the respective batch folder\n",
    "#             for file_name in selected_files:\n",
    "#                 image_source_path = os.path.join(source_folder, folder_name, file_name)\n",
    "#                 # print(image_source_path)\n",
    "#                 image_destination_path = os.path.join(batch_folder, \"images\", folder_name, file_name)\n",
    "#                 # print(image_destination_path)\n",
    "#                 if os.path.isfile(image_source_path):\n",
    "#                     try:\n",
    "#                         shutil.copy2(src=image_source_path, dst=image_destination_path)\n",
    "#                         print(f\"copied image: {file_name}\")\n",
    "#                     except FileNotFoundError:\n",
    "#                         print(f\"Image not found: {file_name}\")\n",
    "#                         continue\n",
    "\n",
    "\n",
    "#                 # Copy the corresponding label file if it exists\n",
    "#                 label_name = file_name.split(\".\")[0] + \".txt\"\n",
    "#                 # print(label_name)\n",
    "#                 label_source_path = os.path.join(source_folder, folder_name, label_name)\n",
    "#                 # print(label_source_path)\n",
    "#                 label_destination_path = os.path.join(batch_folder, \"labels\", folder_name, label_name)\n",
    "#                 # print(label_destination_path)\n",
    "#                 if os.path.exists(label_source_path):\n",
    "#                     try:\n",
    "#                         shutil.copy(src=label_source_path, dst=label_destination_path)\n",
    "#                         print(f\"copied label: {label_name}\")\n",
    "#                     except FileNotFoundError:\n",
    "#                         print(f\"Label not found: {label_name}\")\n",
    "#                         continue\n",
    "#                     except OSError as e:\n",
    "#                         print(f\"Error occurred while copying label: {label_name} - {e}\")\n",
    "#                         continue"
   ]
  }
 ],
 "metadata": {
  "kernelspec": {
   "display_name": "venv",
   "language": "python",
   "name": "python3"
  },
  "language_info": {
   "codemirror_mode": {
    "name": "ipython",
    "version": 3
   },
   "file_extension": ".py",
   "mimetype": "text/x-python",
   "name": "python",
   "nbconvert_exporter": "python",
   "pygments_lexer": "ipython3",
   "version": "3.10.9"
  },
  "orig_nbformat": 4
 },
 "nbformat": 4,
 "nbformat_minor": 2
}
